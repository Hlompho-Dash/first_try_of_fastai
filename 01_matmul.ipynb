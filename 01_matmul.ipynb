{
  "nbformat": 4,
  "nbformat_minor": 0,
  "metadata": {
    "colab": {
      "name": "01_matmul.ipynb",
      "provenance": [],
      "collapsed_sections": [],
      "authorship_tag": "ABX9TyPv5Vxl/+YLqgG78OHwcz5N",
      "include_colab_link": true
    },
    "kernelspec": {
      "display_name": "Python 3",
      "name": "python3"
    }
  },
  "cells": [
    {
      "cell_type": "markdown",
      "metadata": {
        "id": "view-in-github",
        "colab_type": "text"
      },
      "source": [
        "<a href=\"https://colab.research.google.com/github/Hlompho-Dash/first_try_of_fastai/blob/master/01_matmul.ipynb\" target=\"_parent\"><img src=\"https://colab.research.google.com/assets/colab-badge.svg\" alt=\"Open In Colab\"/></a>"
      ]
    },
    {
      "cell_type": "code",
      "metadata": {
        "colab": {
          "base_uri": "https://localhost:8080/"
        },
        "id": "px7i8547nuIr",
        "outputId": "93fe9d1a-d237-417b-f76b-9fed474bb7d5"
      },
      "source": [
        "import os\n",
        "\n",
        "from google.colab import drive\n",
        "drive.mount('/content/gdrive')\n",
        "\n",
        "os.chdir('/content/gdrive/MyDrive/first_try_of_fastai')\n",
        "\n",
        "print(\"------------------------------------------------------------------\")"
      ],
      "execution_count": null,
      "outputs": [
        {
          "output_type": "stream",
          "text": [
            "Mounted at /content/gdrive\n",
            "------------------------------------------------------------------\n"
          ],
          "name": "stdout"
        }
      ]
    },
    {
      "cell_type": "code",
      "metadata": {
        "colab": {
          "base_uri": "https://localhost:8080/"
        },
        "id": "XCrBaEY-2vJa",
        "outputId": "ca9193e5-e8a9-498d-a78c-9db941b99960"
      },
      "source": [
        "print(os.getcwd())"
      ],
      "execution_count": null,
      "outputs": [
        {
          "output_type": "stream",
          "text": [
            "/content/gdrive/My Drive/first_try_of_fastai\n"
          ],
          "name": "stdout"
        }
      ]
    },
    {
      "cell_type": "code",
      "metadata": {
        "id": "O_vfvf3eqgWk"
      },
      "source": [
        "#export\n",
        "from exp.nb_00 import *\n",
        "import operator\n",
        "\n",
        "def test(a,b,cmp, cname=None):\n",
        "  if cname is None: cname = cmp.__name__\n",
        "  assert cmp(a,b),f\"{cname}:\\n{a}\\n{b}\"\n",
        "\n",
        "def test_eq(a,b): test(a,b,operator.eq,\"==\")\n"
      ],
      "execution_count": null,
      "outputs": []
    },
    {
      "cell_type": "code",
      "metadata": {
        "id": "EqSUuLVmrS1o"
      },
      "source": [
        "test_eq(TEST,\"test\")"
      ],
      "execution_count": null,
      "outputs": []
    },
    {
      "cell_type": "code",
      "metadata": {
        "id": "eXnh6_lPq3XH"
      },
      "source": [
        " #export\n",
        "\n",
        "from pathlib import Path\n",
        "from IPython.core.debugger import set_trace\n",
        "from fastai import datasets\n",
        "import pickle, gzip, math, torch, matplotlib as mpl\n",
        "import matplotlib.pyplot as plt\n",
        "from torch import tensor\n",
        "\n",
        "MNIST_URL = \"http://deeplearning.net/data/mnist/mnist.pkl\""
      ],
      "execution_count": null,
      "outputs": []
    },
    {
      "cell_type": "code",
      "metadata": {
        "id": "tX4ekW9J0IL2"
      },
      "source": [
        "#path = datasets.download_data(MNIST_URL)\n",
        "#path\n",
        "\n",
        "path1 = \"/content/gdrive/MyDrive/first_try_of_fastai/mnist.pkl.gz\"\n",
        "path2 = \"/content/gdrive/MyDrive/first_try_of_fastai/mnist (1).pkl.gz\""
      ],
      "execution_count": 25,
      "outputs": []
    },
    {
      "cell_type": "code",
      "metadata": {
        "id": "eDmxy78C0aMV"
      },
      "source": [
        "with gzip.open(path2, \"rb\") as f:\n",
        "  ((x_train, y_train), (x_valid, y_valid), _) = pickle.load(f, encoding = \"latin-1\")"
      ],
      "execution_count": 27,
      "outputs": []
    },
    {
      "cell_type": "code",
      "metadata": {
        "id": "_jlDZzYbNebw"
      },
      "source": [
        "??tensor"
      ],
      "execution_count": 33,
      "outputs": []
    },
    {
      "cell_type": "code",
      "metadata": {
        "colab": {
          "base_uri": "https://localhost:8080/"
        },
        "id": "_pS9BgRMMqFH",
        "outputId": "b49528e4-1d59-4bbb-df10-1b5925abf88b"
      },
      "source": [
        "x_train,y_train,x_valid,y_vlaid = map(tensor, (x_train,y_train,x_valid,y_valid))\r\n",
        "n,c = x_train.shape\r\n",
        "x_train, x_train.shape,y_train, y_train.shape, y_train.min(),y_train.max()"
      ],
      "execution_count": 34,
      "outputs": [
        {
          "output_type": "stream",
          "text": [
            "/usr/local/lib/python3.6/dist-packages/ipykernel_launcher.py:1: UserWarning: To copy construct from a tensor, it is recommended to use sourceTensor.clone().detach() or sourceTensor.clone().detach().requires_grad_(True), rather than torch.tensor(sourceTensor).\n",
            "  \"\"\"Entry point for launching an IPython kernel.\n"
          ],
          "name": "stderr"
        },
        {
          "output_type": "execute_result",
          "data": {
            "text/plain": [
              "(tensor([[0., 0., 0.,  ..., 0., 0., 0.],\n",
              "         [0., 0., 0.,  ..., 0., 0., 0.],\n",
              "         [0., 0., 0.,  ..., 0., 0., 0.],\n",
              "         ...,\n",
              "         [0., 0., 0.,  ..., 0., 0., 0.],\n",
              "         [0., 0., 0.,  ..., 0., 0., 0.],\n",
              "         [0., 0., 0.,  ..., 0., 0., 0.]]),\n",
              " torch.Size([50000, 784]),\n",
              " tensor([5, 0, 4,  ..., 8, 4, 8]),\n",
              " torch.Size([50000]),\n",
              " tensor(0),\n",
              " tensor(9))"
            ]
          },
          "metadata": {
            "tags": []
          },
          "execution_count": 34
        }
      ]
    },
    {
      "cell_type": "code",
      "metadata": {
        "id": "_6jEtLBjN7ht"
      },
      "source": [
        "assert n==y_train.shape[0]==50000\r\n",
        "\r\n",
        "test_eq(c,28*28)\r\n",
        "test_eq(y_train.min(),0)\r\n",
        "test_eq(y_train.max(),9)"
      ],
      "execution_count": 37,
      "outputs": []
    },
    {
      "cell_type": "code",
      "metadata": {
        "id": "6x1Oppn5O8wK"
      },
      "source": [
        "mpl.rcParams[\"image.cmap\"] = \"gray\""
      ],
      "execution_count": 40,
      "outputs": []
    },
    {
      "cell_type": "code",
      "metadata": {
        "id": "A2viuDzuPEHS"
      },
      "source": [
        "img = x_train[0]"
      ],
      "execution_count": 41,
      "outputs": []
    },
    {
      "cell_type": "code",
      "metadata": {
        "colab": {
          "base_uri": "https://localhost:8080/",
          "height": 35
        },
        "id": "mzgevMg4PQAo",
        "outputId": "df8929fe-b733-4b58-9b7f-95df7d82bfee"
      },
      "source": [
        "img.view(28,28).type()"
      ],
      "execution_count": 43,
      "outputs": [
        {
          "output_type": "execute_result",
          "data": {
            "application/vnd.google.colaboratory.intrinsic+json": {
              "type": "string"
            },
            "text/plain": [
              "'torch.FloatTensor'"
            ]
          },
          "metadata": {
            "tags": []
          },
          "execution_count": 43
        }
      ]
    },
    {
      "cell_type": "code",
      "metadata": {
        "colab": {
          "base_uri": "https://localhost:8080/",
          "height": 283
        },
        "id": "teSw61PQPV3q",
        "outputId": "4f3287c0-ebec-43f2-ab18-1a6d4c78fc75"
      },
      "source": [
        "plt.imshow(img.view(28,28))"
      ],
      "execution_count": 51,
      "outputs": [
        {
          "output_type": "execute_result",
          "data": {
            "text/plain": [
              "<matplotlib.image.AxesImage at 0x7f0042b0f6a0>"
            ]
          },
          "metadata": {
            "tags": []
          },
          "execution_count": 51
        },
        {
          "output_type": "display_data",
          "data": {
            "image/png": "[encoded data removed]",
            "text/plain": [
              "<Figure size 432x288 with 1 Axes>"
            ]
          },
          "metadata": {
            "tags": [],
            "needs_background": "light"
          }
        }
      ]
    },
    {
      "cell_type": "markdown",
      "metadata": {
        "id": "_5MUU19bQAEp"
      },
      "source": [
        "**Initial Python model**"
      ]
    },
    {
      "cell_type": "markdown",
      "metadata": {
        "id": "EiyW_D8IQvZI"
      },
      "source": [
        "y = Ax + B MODEL"
      ]
    },
    {
      "cell_type": "code",
      "metadata": {
        "id": "KlqmeVNuPa35"
      },
      "source": [
        "weights = torch.randn(784,10)"
      ],
      "execution_count": 52,
      "outputs": []
    },
    {
      "cell_type": "code",
      "metadata": {
        "id": "IIgknaoRQgY9"
      },
      "source": [
        "bias = torch.zeros(10)"
      ],
      "execution_count": 53,
      "outputs": []
    },
    {
      "cell_type": "code",
      "metadata": {
        "id": "ehnz36TqQjh5"
      },
      "source": [
        ""
      ],
      "execution_count": null,
      "outputs": []
    },
    {
      "cell_type": "code",
      "metadata": {
        "id": "K1fZ5KxkQaBv"
      },
      "source": [
        "def matmul(a,b):\r\n",
        "  ar,ac = a.shape\r\n",
        "  br,bc = b.shape\r\n",
        "\r\n",
        "  assert ac==br\r\n",
        "  c = torch.zeros(ar, bc)\r\n",
        "  for i in range(ar):\r\n",
        "    for j in range(bc):\r\n",
        "      for k in range(ac):\r\n",
        "        c[i,j] += a[i,k] * b[k,j]\r\n",
        "  return c"
      ],
      "execution_count": 55,
      "outputs": []
    },
    {
      "cell_type": "code",
      "metadata": {
        "id": "BtOVBVtnRpFk"
      },
      "source": [
        "m1 = x_valid[:5]\r\n",
        "m2 = weights"
      ],
      "execution_count": 56,
      "outputs": []
    },
    {
      "cell_type": "code",
      "metadata": {
        "colab": {
          "base_uri": "https://localhost:8080/"
        },
        "id": "SimJGFEZR5rj",
        "outputId": "736e2684-e33b-4903-dab4-b6032ef16c2c"
      },
      "source": [
        "m1.shape,m2.shape"
      ],
      "execution_count": 57,
      "outputs": [
        {
          "output_type": "execute_result",
          "data": {
            "text/plain": [
              "(torch.Size([5, 784]), torch.Size([784, 10]))"
            ]
          },
          "metadata": {
            "tags": []
          },
          "execution_count": 57
        }
      ]
    },
    {
      "cell_type": "code",
      "metadata": {
        "colab": {
          "base_uri": "https://localhost:8080/"
        },
        "id": "0CdzZW5FR8RJ",
        "outputId": "d52bf8ba-905b-4ecc-bfb7-cf576a4e39b1"
      },
      "source": [
        "%time t1=matmul(m1,m2)"
      ],
      "execution_count": 58,
      "outputs": [
        {
          "output_type": "stream",
          "text": [
            "CPU times: user 803 ms, sys: 0 ns, total: 803 ms\n",
            "Wall time: 810 ms\n"
          ],
          "name": "stdout"
        }
      ]
    },
    {
      "cell_type": "code",
      "metadata": {
        "colab": {
          "base_uri": "https://localhost:8080/"
        },
        "id": "1sx5CkwFShO3",
        "outputId": "3d8868af-fe2c-4d54-e981-4c239f53315d"
      },
      "source": [
        "t1.shape"
      ],
      "execution_count": 59,
      "outputs": [
        {
          "output_type": "execute_result",
          "data": {
            "text/plain": [
              "torch.Size([5, 10])"
            ]
          },
          "metadata": {
            "tags": []
          },
          "execution_count": 59
        }
      ]
    },
    {
      "cell_type": "code",
      "metadata": {
        "colab": {
          "base_uri": "https://localhost:8080/"
        },
        "id": "0f88TCP0Slej",
        "outputId": "a79b087f-cc2d-4928-cff0-9f15487ea876"
      },
      "source": [
        "a = tensor([10,6,-4])\r\n",
        "b = tensor([2,8,7])\r\n",
        "\r\n",
        "a,b"
      ],
      "execution_count": 61,
      "outputs": [
        {
          "output_type": "execute_result",
          "data": {
            "text/plain": [
              "(tensor([10,  6, -4]), tensor([2, 8, 7]))"
            ]
          },
          "metadata": {
            "tags": []
          },
          "execution_count": 61
        }
      ]
    },
    {
      "cell_type": "code",
      "metadata": {
        "colab": {
          "base_uri": "https://localhost:8080/"
        },
        "id": "M4YKMLUcTQlC",
        "outputId": "b33e1c46-5ba9-47e3-adb5-2168fed1f936"
      },
      "source": [
        "a + b"
      ],
      "execution_count": 62,
      "outputs": [
        {
          "output_type": "execute_result",
          "data": {
            "text/plain": [
              "tensor([12, 14,  3])"
            ]
          },
          "metadata": {
            "tags": []
          },
          "execution_count": 62
        }
      ]
    },
    {
      "cell_type": "code",
      "metadata": {
        "colab": {
          "base_uri": "https://localhost:8080/"
        },
        "id": "IgQrv01PTSdH",
        "outputId": "7e8a3b9c-dd97-4131-a19f-f6f0719bd3b5"
      },
      "source": [
        "(a < b).float().mean()"
      ],
      "execution_count": 63,
      "outputs": [
        {
          "output_type": "execute_result",
          "data": {
            "text/plain": [
              "tensor(0.6667)"
            ]
          },
          "metadata": {
            "tags": []
          },
          "execution_count": 63
        }
      ]
    },
    {
      "cell_type": "code",
      "metadata": {
        "colab": {
          "base_uri": "https://localhost:8080/"
        },
        "id": "1ebS75IPTLnE",
        "outputId": "54ced043-01c8-4baf-ff1a-47664fe59be6"
      },
      "source": [
        "m = tensor([[1.,2,3],[4,5,6],[7,8,9]])\r\n",
        "m"
      ],
      "execution_count": 67,
      "outputs": [
        {
          "output_type": "execute_result",
          "data": {
            "text/plain": [
              "tensor([[1., 2., 3.],\n",
              "        [4., 5., 6.],\n",
              "        [7., 8., 9.]])"
            ]
          },
          "metadata": {
            "tags": []
          },
          "execution_count": 67
        }
      ]
    },
    {
      "cell_type": "markdown",
      "metadata": {
        "id": "FTO2DDXBT3wA"
      },
      "source": [
        "Check out https://course19.fast.ai/videos/?lesson=8 at 48:09 to see how to write latex in jupyter notebooks. \r\n",
        "\r\n",
        "Go to the wiki page of the equation an copy and paste the equation in latex into jupyter notebook \r\n",
        "\r\n",
        "like below:\r\n",
        "\r\n",
        "$$\\|A\\|_{F}={\\sqrt {\\operatorname {spur} \\left(A^{H}A\\right)}}={\\sqrt {\\operatorname {spur} \\left(AA^{H}\\right)}}=\\|A^{H}\\|_{F}$$\r\n",
        "\r\n",
        "$$\\|A\\|_{\\text{F}}={\\sqrt {\\sum _{i=1}^{m}\\sum _{j=1}^{n}|a_{ij}|^{2}}}={\\sqrt {\\operatorname {trace} \\left(A^{*}A\\right)}}={\\sqrt {\\sum _{i=1}^{\\min\\{m,n\\}}\\sigma _{i}^{2}(A)}},$$\r\n",
        "\r\n",
        "\r\n",
        "or on archix you can click download source and it will give you the original TEX file for the paper then your can just copy the equation"
      ]
    },
    {
      "cell_type": "code",
      "metadata": {
        "colab": {
          "base_uri": "https://localhost:8080/"
        },
        "id": "iQsYOZX5TspJ",
        "outputId": "3c37342c-c149-4e4c-8f62-ce6904dc356d"
      },
      "source": [
        "(m*m).sum().sqrt()"
      ],
      "execution_count": 69,
      "outputs": [
        {
          "output_type": "execute_result",
          "data": {
            "text/plain": [
              "tensor(16.8819)"
            ]
          },
          "metadata": {
            "tags": []
          },
          "execution_count": 69
        }
      ]
    },
    {
      "cell_type": "markdown",
      "metadata": {
        "id": "VoKO9WjuZYfm"
      },
      "source": [
        "**ELEMENT WISE MULTIPLICATION AND SUMMATION**"
      ]
    },
    {
      "cell_type": "code",
      "metadata": {
        "id": "PW9b3-xxZLWg"
      },
      "source": [
        "def matmul(a,b):\r\n",
        "  ar,ac = a.shape\r\n",
        "  br,bc = b.shape\r\n",
        "\r\n",
        "  assert ac==br\r\n",
        "  c = torch.zeros(ar, bc)\r\n",
        "  for i in range(ar):\r\n",
        "    for j in range(bc):\r\n",
        "        c[i,j] = (a[i,:] * b[:,j]).sum()\r\n",
        "  return c"
      ],
      "execution_count": 73,
      "outputs": []
    },
    {
      "cell_type": "code",
      "metadata": {
        "colab": {
          "base_uri": "https://localhost:8080/"
        },
        "id": "d1MG4JpfZw21",
        "outputId": "d88f6835-f209-4900-9081-da6f6d985800"
      },
      "source": [
        "%timeit -n 1 _=matmul(m1,m2)"
      ],
      "execution_count": 75,
      "outputs": [
        {
          "output_type": "stream",
          "text": [
            "1 loop, best of 3: 2.18 ms per loop\n"
          ],
          "name": "stdout"
        }
      ]
    },
    {
      "cell_type": "code",
      "metadata": {
        "colab": {
          "base_uri": "https://localhost:8080/"
        },
        "id": "YY_3evxVaXNT",
        "outputId": "a7f9312b-22b2-49da-c37c-751310debf76"
      },
      "source": [
        "%time _= matmul(m1,m2)"
      ],
      "execution_count": 79,
      "outputs": [
        {
          "output_type": "stream",
          "text": [
            "CPU times: user 2.77 ms, sys: 152 µs, total: 2.92 ms\n",
            "Wall time: 6.44 ms\n"
          ],
          "name": "stdout"
        }
      ]
    },
    {
      "cell_type": "code",
      "metadata": {
        "colab": {
          "base_uri": "https://localhost:8080/"
        },
        "id": "3PWH31yJam_V",
        "outputId": "4290a7ac-1f23-4b0d-bcbc-bd0509955aac"
      },
      "source": [
        "890.1/5"
      ],
      "execution_count": 80,
      "outputs": [
        {
          "output_type": "execute_result",
          "data": {
            "text/plain": [
              "178.02"
            ]
          },
          "metadata": {
            "tags": []
          },
          "execution_count": 80
        }
      ]
    }
  ]
}