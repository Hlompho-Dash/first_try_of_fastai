{
  "nbformat": 4,
  "nbformat_minor": 0,
  "metadata": {
    "colab": {
      "name": "01_matmul.ipynb",
      "provenance": [],
      "collapsed_sections": [],
      "authorship_tag": "ABX9TyPW1hpuNiwQ0Hj5X12R+fjA",
      "include_colab_link": true
    },
    "kernelspec": {
      "display_name": "Python 3",
      "name": "python3"
    }
  },
  "cells": [
    {
      "cell_type": "markdown",
      "metadata": {
        "id": "view-in-github",
        "colab_type": "text"
      },
      "source": [
        "<a href=\"https://colab.research.google.com/github/Hlompho-Dash/first_try_of_fastai/blob/master/01_matmul.ipynb\" target=\"_parent\"><img src=\"https://colab.research.google.com/assets/colab-badge.svg\" alt=\"Open In Colab\"/></a>"
      ]
    },
    {
      "cell_type": "code",
      "metadata": {
        "colab": {
          "base_uri": "https://localhost:8080/"
        },
        "id": "px7i8547nuIr",
        "outputId": "f0c79674-5ef4-4a15-d30d-3e042930b8d8"
      },
      "source": [
        "import os\n",
        "\n",
        "from google.colab import drive\n",
        "drive.mount('/content/gdrive')\n",
        "\n",
        "os.chdir('/content/gdrive/MyDrive/first_try_of_fastai')\n",
        "\n",
        "print(\"------------------------------------------------------------------\")"
      ],
      "execution_count": 1,
      "outputs": [
        {
          "output_type": "stream",
          "text": [
            "Mounted at /content/gdrive\n",
            "------------------------------------------------------------------\n"
          ],
          "name": "stdout"
        }
      ]
    },
    {
      "cell_type": "code",
      "metadata": {
        "colab": {
          "base_uri": "https://localhost:8080/"
        },
        "id": "XCrBaEY-2vJa",
        "outputId": "fdf87933-c536-4f76-edc5-b6da7bc07de9"
      },
      "source": [
        "print(os.getcwd())"
      ],
      "execution_count": 2,
      "outputs": [
        {
          "output_type": "stream",
          "text": [
            "/content/gdrive/MyDrive/first_try_of_fastai\n"
          ],
          "name": "stdout"
        }
      ]
    },
    {
      "cell_type": "code",
      "metadata": {
        "id": "O_vfvf3eqgWk"
      },
      "source": [
        "#export\n",
        "from exp.nb_00 import *\n",
        "import operator\n",
        "\n",
        "def test(a,b,cmp, cname=None):\n",
        "  if cname is None: cname = cmp.__name__\n",
        "  assert cmp(a,b),f\"{cname}:\\n{a}\\n{b}\"\n",
        "\n",
        "def test_eq(a,b): test(a,b,operator.eq,\"==\")\n"
      ],
      "execution_count": 3,
      "outputs": []
    },
    {
      "cell_type": "code",
      "metadata": {
        "id": "EqSUuLVmrS1o"
      },
      "source": [
        "test_eq(TEST,\"test\")"
      ],
      "execution_count": 4,
      "outputs": []
    },
    {
      "cell_type": "code",
      "metadata": {
        "id": "eXnh6_lPq3XH"
      },
      "source": [
        " #export\n",
        "\n",
        "from pathlib import Path\n",
        "from IPython.core.debugger import set_trace\n",
        "from fastai import datasets\n",
        "import pickle, gzip, math, torch, matplotlib as mpl\n",
        "import matplotlib.pyplot as plt\n",
        "from torch import tensor\n",
        "\n",
        "MNIST_URL = \"http://deeplearning.net/data/mnist/mnist.pkl\""
      ],
      "execution_count": 5,
      "outputs": []
    },
    {
      "cell_type": "code",
      "metadata": {
        "id": "tX4ekW9J0IL2"
      },
      "source": [
        "#path = datasets.download_data(MNIST_URL)\n",
        "#path\n",
        "\n",
        "path1 = \"/content/gdrive/MyDrive/first_try_of_fastai/mnist.pkl.gz\"\n",
        "path2 = \"/content/gdrive/MyDrive/first_try_of_fastai/mnist (1).pkl.gz\""
      ],
      "execution_count": 6,
      "outputs": []
    },
    {
      "cell_type": "code",
      "metadata": {
        "id": "eDmxy78C0aMV"
      },
      "source": [
        "with gzip.open(path2, \"rb\") as f:\n",
        "  ((x_train, y_train), (x_valid, y_valid), _) = pickle.load(f, encoding = \"latin-1\")"
      ],
      "execution_count": 7,
      "outputs": []
    },
    {
      "cell_type": "code",
      "metadata": {
        "id": "_jlDZzYbNebw"
      },
      "source": [
        "??tensor"
      ],
      "execution_count": 8,
      "outputs": []
    },
    {
      "cell_type": "code",
      "metadata": {
        "colab": {
          "base_uri": "https://localhost:8080/"
        },
        "id": "_pS9BgRMMqFH",
        "outputId": "5b750155-15b7-4c37-b79d-98da06016c1c"
      },
      "source": [
        "x_train,y_train,x_valid,y_vlaid = map(tensor, (x_train,y_train,x_valid,y_valid))\r\n",
        "n,c = x_train.shape\r\n",
        "x_train, x_train.shape,y_train, y_train.shape, y_train.min(),y_train.max()"
      ],
      "execution_count": 9,
      "outputs": [
        {
          "output_type": "execute_result",
          "data": {
            "text/plain": [
              "(tensor([[0., 0., 0.,  ..., 0., 0., 0.],\n",
              "         [0., 0., 0.,  ..., 0., 0., 0.],\n",
              "         [0., 0., 0.,  ..., 0., 0., 0.],\n",
              "         ...,\n",
              "         [0., 0., 0.,  ..., 0., 0., 0.],\n",
              "         [0., 0., 0.,  ..., 0., 0., 0.],\n",
              "         [0., 0., 0.,  ..., 0., 0., 0.]]),\n",
              " torch.Size([50000, 784]),\n",
              " tensor([5, 0, 4,  ..., 8, 4, 8]),\n",
              " torch.Size([50000]),\n",
              " tensor(0),\n",
              " tensor(9))"
            ]
          },
          "metadata": {
            "tags": []
          },
          "execution_count": 9
        }
      ]
    },
    {
      "cell_type": "code",
      "metadata": {
        "id": "_6jEtLBjN7ht"
      },
      "source": [
        "assert n==y_train.shape[0]==50000\r\n",
        "\r\n",
        "test_eq(c,28*28)\r\n",
        "test_eq(y_train.min(),0)\r\n",
        "test_eq(y_train.max(),9)"
      ],
      "execution_count": 10,
      "outputs": []
    },
    {
      "cell_type": "code",
      "metadata": {
        "id": "6x1Oppn5O8wK"
      },
      "source": [
        "mpl.rcParams[\"image.cmap\"] = \"gray\""
      ],
      "execution_count": 11,
      "outputs": []
    },
    {
      "cell_type": "code",
      "metadata": {
        "id": "A2viuDzuPEHS"
      },
      "source": [
        "img = x_train[0]"
      ],
      "execution_count": 12,
      "outputs": []
    },
    {
      "cell_type": "code",
      "metadata": {
        "colab": {
          "base_uri": "https://localhost:8080/",
          "height": 35
        },
        "id": "mzgevMg4PQAo",
        "outputId": "9c7e7ecc-08a0-4bbe-ad0d-b512fe6f4a8a"
      },
      "source": [
        "img.view(28,28).type()"
      ],
      "execution_count": 13,
      "outputs": [
        {
          "output_type": "execute_result",
          "data": {
            "application/vnd.google.colaboratory.intrinsic+json": {
              "type": "string"
            },
            "text/plain": [
              "'torch.FloatTensor'"
            ]
          },
          "metadata": {
            "tags": []
          },
          "execution_count": 13
        }
      ]
    },
    {
      "cell_type": "code",
      "metadata": {
        "colab": {
          "base_uri": "https://localhost:8080/",
          "height": 283
        },
        "id": "teSw61PQPV3q",
        "outputId": "98a75444-f09f-4618-c42a-fe17c2e432b2"
      },
      "source": [
        "plt.imshow(img.view(28,28))"
      ],
      "execution_count": 14,
      "outputs": [
        {
          "output_type": "execute_result",
          "data": {
            "text/plain": [
              "<matplotlib.image.AxesImage at 0x7ff9956e6748>"
            ]
          },
          "metadata": {
            "tags": []
          },
          "execution_count": 14
        },
        {
          "output_type": "display_data",
          "data": {
            "image/png": "[encoded data removed]",
            "text/plain": [
              "<Figure size 432x288 with 1 Axes>"
            ]
          },
          "metadata": {
            "tags": [],
            "needs_background": "light"
          }
        }
      ]
    },
    {
      "cell_type": "markdown",
      "metadata": {
        "id": "_5MUU19bQAEp"
      },
      "source": [
        "**Initial Python model**"
      ]
    },
    {
      "cell_type": "markdown",
      "metadata": {
        "id": "EiyW_D8IQvZI"
      },
      "source": [
        "y = Ax + B MODEL"
      ]
    },
    {
      "cell_type": "code",
      "metadata": {
        "id": "KlqmeVNuPa35"
      },
      "source": [
        "weights = torch.randn(784,10)"
      ],
      "execution_count": 15,
      "outputs": []
    },
    {
      "cell_type": "code",
      "metadata": {
        "id": "IIgknaoRQgY9"
      },
      "source": [
        "bias = torch.zeros(10)"
      ],
      "execution_count": 16,
      "outputs": []
    },
    {
      "cell_type": "code",
      "metadata": {
        "id": "ehnz36TqQjh5"
      },
      "source": [
        ""
      ],
      "execution_count": 16,
      "outputs": []
    },
    {
      "cell_type": "code",
      "metadata": {
        "id": "K1fZ5KxkQaBv"
      },
      "source": [
        "def matmul(a,b):\r\n",
        "  ar,ac = a.shape\r\n",
        "  br,bc = b.shape\r\n",
        "\r\n",
        "  assert ac==br\r\n",
        "  c = torch.zeros(ar, bc)\r\n",
        "  for i in range(ar):\r\n",
        "    for j in range(bc):\r\n",
        "      for k in range(ac):\r\n",
        "        c[i,j] += a[i,k] * b[k,j]\r\n",
        "  return c"
      ],
      "execution_count": 17,
      "outputs": []
    },
    {
      "cell_type": "code",
      "metadata": {
        "id": "BtOVBVtnRpFk"
      },
      "source": [
        "m1 = x_valid[:5]\r\n",
        "m2 = weights"
      ],
      "execution_count": 18,
      "outputs": []
    },
    {
      "cell_type": "code",
      "metadata": {
        "colab": {
          "base_uri": "https://localhost:8080/"
        },
        "id": "SimJGFEZR5rj",
        "outputId": "8dc0f886-2339-4313-c145-1775b5b617cb"
      },
      "source": [
        "m1.shape,m2.shape"
      ],
      "execution_count": 19,
      "outputs": [
        {
          "output_type": "execute_result",
          "data": {
            "text/plain": [
              "(torch.Size([5, 784]), torch.Size([784, 10]))"
            ]
          },
          "metadata": {
            "tags": []
          },
          "execution_count": 19
        }
      ]
    },
    {
      "cell_type": "code",
      "metadata": {
        "colab": {
          "base_uri": "https://localhost:8080/"
        },
        "id": "0CdzZW5FR8RJ",
        "outputId": "e0c79781-a1f1-4a7c-ab38-79d4c6567b39"
      },
      "source": [
        "%time t1=matmul(m1,m2)"
      ],
      "execution_count": 20,
      "outputs": [
        {
          "output_type": "stream",
          "text": [
            "CPU times: user 848 ms, sys: 0 ns, total: 848 ms\n",
            "Wall time: 861 ms\n"
          ],
          "name": "stdout"
        }
      ]
    },
    {
      "cell_type": "code",
      "metadata": {
        "colab": {
          "base_uri": "https://localhost:8080/"
        },
        "id": "1sx5CkwFShO3",
        "outputId": "eafb1e9f-bb98-4087-a97a-641404b4bd68"
      },
      "source": [
        "t1.shape"
      ],
      "execution_count": 21,
      "outputs": [
        {
          "output_type": "execute_result",
          "data": {
            "text/plain": [
              "torch.Size([5, 10])"
            ]
          },
          "metadata": {
            "tags": []
          },
          "execution_count": 21
        }
      ]
    },
    {
      "cell_type": "code",
      "metadata": {
        "colab": {
          "base_uri": "https://localhost:8080/"
        },
        "id": "0f88TCP0Slej",
        "outputId": "76538186-47f5-4d38-e09a-ee8f25d8554f"
      },
      "source": [
        "a = tensor([10,6,-4])\r\n",
        "b = tensor([2,8,7])\r\n",
        "\r\n",
        "a,b"
      ],
      "execution_count": 22,
      "outputs": [
        {
          "output_type": "execute_result",
          "data": {
            "text/plain": [
              "(tensor([10,  6, -4]), tensor([2, 8, 7]))"
            ]
          },
          "metadata": {
            "tags": []
          },
          "execution_count": 22
        }
      ]
    },
    {
      "cell_type": "code",
      "metadata": {
        "colab": {
          "base_uri": "https://localhost:8080/"
        },
        "id": "M4YKMLUcTQlC",
        "outputId": "29d32c28-b5be-4a3c-8d03-59d9381fd3b6"
      },
      "source": [
        "a + b"
      ],
      "execution_count": 23,
      "outputs": [
        {
          "output_type": "execute_result",
          "data": {
            "text/plain": [
              "tensor([12, 14,  3])"
            ]
          },
          "metadata": {
            "tags": []
          },
          "execution_count": 23
        }
      ]
    },
    {
      "cell_type": "code",
      "metadata": {
        "colab": {
          "base_uri": "https://localhost:8080/"
        },
        "id": "IgQrv01PTSdH",
        "outputId": "b5c26716-9c04-4bce-e48d-f11329cec0d1"
      },
      "source": [
        "(a < b).float().mean()"
      ],
      "execution_count": 24,
      "outputs": [
        {
          "output_type": "execute_result",
          "data": {
            "text/plain": [
              "tensor(0.6667)"
            ]
          },
          "metadata": {
            "tags": []
          },
          "execution_count": 24
        }
      ]
    },
    {
      "cell_type": "code",
      "metadata": {
        "colab": {
          "base_uri": "https://localhost:8080/"
        },
        "id": "1ebS75IPTLnE",
        "outputId": "fa4ad7cb-b21b-4721-a0bf-e8f737b51233"
      },
      "source": [
        "m = tensor([[1.,2,3],[4,5,6],[7,8,9]])\r\n",
        "m"
      ],
      "execution_count": 25,
      "outputs": [
        {
          "output_type": "execute_result",
          "data": {
            "text/plain": [
              "tensor([[1., 2., 3.],\n",
              "        [4., 5., 6.],\n",
              "        [7., 8., 9.]])"
            ]
          },
          "metadata": {
            "tags": []
          },
          "execution_count": 25
        }
      ]
    },
    {
      "cell_type": "markdown",
      "metadata": {
        "id": "FTO2DDXBT3wA"
      },
      "source": [
        "Check out https://course19.fast.ai/videos/?lesson=8 at 48:09 to see how to write latex in jupyter notebooks. \r\n",
        "\r\n",
        "Go to the wiki page of the equation an copy and paste the equation in latex into jupyter notebook \r\n",
        "\r\n",
        "like below:\r\n",
        "\r\n",
        "$$\\|A\\|_{F}={\\sqrt {\\operatorname {spur} \\left(A^{H}A\\right)}}={\\sqrt {\\operatorname {spur} \\left(AA^{H}\\right)}}=\\|A^{H}\\|_{F}$$\r\n",
        "\r\n",
        "$$\\|A\\|_{\\text{F}}={\\sqrt {\\sum _{i=1}^{m}\\sum _{j=1}^{n}|a_{ij}|^{2}}}={\\sqrt {\\operatorname {trace} \\left(A^{*}A\\right)}}={\\sqrt {\\sum _{i=1}^{\\min\\{m,n\\}}\\sigma _{i}^{2}(A)}},$$\r\n",
        "\r\n",
        "\r\n",
        "or on archix you can click download source and it will give you the original TEX file for the paper then your can just copy the equation"
      ]
    },
    {
      "cell_type": "code",
      "metadata": {
        "colab": {
          "base_uri": "https://localhost:8080/"
        },
        "id": "iQsYOZX5TspJ",
        "outputId": "3a9c4493-4ee6-403d-8830-6b73fa58848e"
      },
      "source": [
        "(m*m).sum().sqrt()"
      ],
      "execution_count": 26,
      "outputs": [
        {
          "output_type": "execute_result",
          "data": {
            "text/plain": [
              "tensor(16.8819)"
            ]
          },
          "metadata": {
            "tags": []
          },
          "execution_count": 26
        }
      ]
    },
    {
      "cell_type": "markdown",
      "metadata": {
        "id": "VoKO9WjuZYfm"
      },
      "source": [
        "**ELEMENT WISE MULTIPLICATION AND SUMMATION**"
      ]
    },
    {
      "cell_type": "code",
      "metadata": {
        "id": "PW9b3-xxZLWg"
      },
      "source": [
        "def matmul(a,b):\r\n",
        "  ar,ac = a.shape\r\n",
        "  br,bc = b.shape\r\n",
        "\r\n",
        "  assert ac==br\r\n",
        "  c = torch.zeros(ar, bc)\r\n",
        "  for i in range(ar):\r\n",
        "    for j in range(bc):\r\n",
        "        c[i,j] = (a[i,:] * b[:,j]).sum()\r\n",
        "  return c"
      ],
      "execution_count": 27,
      "outputs": []
    },
    {
      "cell_type": "code",
      "metadata": {
        "colab": {
          "base_uri": "https://localhost:8080/"
        },
        "id": "d1MG4JpfZw21",
        "outputId": "f86fd45f-1050-4c61-cc2c-065c219bd1c4"
      },
      "source": [
        "%timeit -n 1 _=matmul(m1,m2)"
      ],
      "execution_count": 28,
      "outputs": [
        {
          "output_type": "stream",
          "text": [
            "1 loop, best of 3: 1.82 ms per loop\n"
          ],
          "name": "stdout"
        }
      ]
    },
    {
      "cell_type": "code",
      "metadata": {
        "colab": {
          "base_uri": "https://localhost:8080/"
        },
        "id": "YY_3evxVaXNT",
        "outputId": "371fcff2-89a5-4935-9ee8-3f6e4b06f00b"
      },
      "source": [
        "%time _= matmul(m1,m2)"
      ],
      "execution_count": 32,
      "outputs": [
        {
          "output_type": "stream",
          "text": [
            "CPU times: user 2.38 ms, sys: 62 µs, total: 2.44 ms\n",
            "Wall time: 3.41 ms\n"
          ],
          "name": "stdout"
        }
      ]
    },
    {
      "cell_type": "code",
      "metadata": {
        "colab": {
          "base_uri": "https://localhost:8080/"
        },
        "id": "3PWH31yJam_V",
        "outputId": "4505d9ff-af8e-4359-ecc3-b237a608a2c5"
      },
      "source": [
        "890.1/5"
      ],
      "execution_count": 30,
      "outputs": [
        {
          "output_type": "execute_result",
          "data": {
            "text/plain": [
              "178.02"
            ]
          },
          "metadata": {
            "tags": []
          },
          "execution_count": 30
        }
      ]
    },
    {
      "cell_type": "code",
      "metadata": {
        "id": "rmG9-w6taTHF"
      },
      "source": [
        "#export\r\n",
        "\r\n",
        "def near(a, b): return torch.allclose(a, b, rtol=1e-3, atol=1e-5)\r\n",
        "def test_near(a, b): test(a, b, near)"
      ],
      "execution_count": 35,
      "outputs": []
    },
    {
      "cell_type": "code",
      "metadata": {
        "id": "Ax0gm97acBu6"
      },
      "source": [
        "test_near(t1, matmul(m1, m2))"
      ],
      "execution_count": 37,
      "outputs": []
    },
    {
      "cell_type": "markdown",
      "metadata": {
        "id": "WgGgF5Xvlevq"
      },
      "source": [
        "**BROADCASTING**"
      ]
    },
    {
      "cell_type": "code",
      "metadata": {
        "colab": {
          "base_uri": "https://localhost:8080/"
        },
        "id": "VhrU5lonlln-",
        "outputId": "a8292646-0471-4e39-d090-c549299a228e"
      },
      "source": [
        "c = tensor([10,20,30])\r\n",
        "c,c.shape"
      ],
      "execution_count": 55,
      "outputs": [
        {
          "output_type": "execute_result",
          "data": {
            "text/plain": [
              "(tensor([10, 20, 30]), torch.Size([3]))"
            ]
          },
          "metadata": {
            "tags": []
          },
          "execution_count": 55
        }
      ]
    },
    {
      "cell_type": "code",
      "metadata": {
        "colab": {
          "base_uri": "https://localhost:8080/"
        },
        "id": "mFbJCKgPmQRw",
        "outputId": "36a3a0e3-eff6-482b-c9ae-30327fa4cb4c"
      },
      "source": [
        "m"
      ],
      "execution_count": 42,
      "outputs": [
        {
          "output_type": "execute_result",
          "data": {
            "text/plain": [
              "tensor([[1., 2., 3.],\n",
              "        [4., 5., 6.],\n",
              "        [7., 8., 9.]])"
            ]
          },
          "metadata": {
            "tags": []
          },
          "execution_count": 42
        }
      ]
    },
    {
      "cell_type": "code",
      "metadata": {
        "colab": {
          "base_uri": "https://localhost:8080/"
        },
        "id": "LiDsQ1f4mTrI",
        "outputId": "9e0585d6-b3c4-4e7f-db34-57214b275e1f"
      },
      "source": [
        "m.shape,c.shape"
      ],
      "execution_count": 43,
      "outputs": [
        {
          "output_type": "execute_result",
          "data": {
            "text/plain": [
              "(torch.Size([3, 3]), torch.Size([3]))"
            ]
          },
          "metadata": {
            "tags": []
          },
          "execution_count": 43
        }
      ]
    },
    {
      "cell_type": "code",
      "metadata": {
        "colab": {
          "base_uri": "https://localhost:8080/"
        },
        "id": "oU7vmfDlmYgB",
        "outputId": "e478228b-9f22-492c-b18f-9ef3e83c80dc"
      },
      "source": [
        "m + c"
      ],
      "execution_count": 45,
      "outputs": [
        {
          "output_type": "execute_result",
          "data": {
            "text/plain": [
              "tensor([[11., 22., 33.],\n",
              "        [14., 25., 36.],\n",
              "        [17., 28., 39.]])"
            ]
          },
          "metadata": {
            "tags": []
          },
          "execution_count": 45
        }
      ]
    },
    {
      "cell_type": "code",
      "metadata": {
        "colab": {
          "base_uri": "https://localhost:8080/"
        },
        "id": "Vgq8soOYmbxG",
        "outputId": "24cddd81-d1b0-4653-fe62-da1f2b71e384"
      },
      "source": [
        "c + m"
      ],
      "execution_count": 47,
      "outputs": [
        {
          "output_type": "execute_result",
          "data": {
            "text/plain": [
              "tensor([[11., 22., 33.],\n",
              "        [14., 25., 36.],\n",
              "        [17., 28., 39.]])"
            ]
          },
          "metadata": {
            "tags": []
          },
          "execution_count": 47
        }
      ]
    },
    {
      "cell_type": "code",
      "metadata": {
        "id": "YaJcKGAGmfli"
      },
      "source": [
        "t = c.expand_as(m)"
      ],
      "execution_count": 48,
      "outputs": []
    },
    {
      "cell_type": "code",
      "metadata": {
        "colab": {
          "base_uri": "https://localhost:8080/"
        },
        "id": "Bto7niIMmjVH",
        "outputId": "9d9227e0-d1b6-42bd-be8c-a086e1c092bc"
      },
      "source": [
        "t"
      ],
      "execution_count": 49,
      "outputs": [
        {
          "output_type": "execute_result",
          "data": {
            "text/plain": [
              "tensor([[10, 20, 30],\n",
              "        [10, 20, 30],\n",
              "        [10, 20, 30]])"
            ]
          },
          "metadata": {
            "tags": []
          },
          "execution_count": 49
        }
      ]
    },
    {
      "cell_type": "code",
      "metadata": {
        "colab": {
          "base_uri": "https://localhost:8080/"
        },
        "id": "Jc4H3utqmmuQ",
        "outputId": "42f69406-ddfb-42af-f189-281e0a3667b4"
      },
      "source": [
        "t.storage()"
      ],
      "execution_count": 50,
      "outputs": [
        {
          "output_type": "execute_result",
          "data": {
            "text/plain": [
              " 10\n",
              " 20\n",
              " 30\n",
              "[torch.LongStorage of size 3]"
            ]
          },
          "metadata": {
            "tags": []
          },
          "execution_count": 50
        }
      ]
    },
    {
      "cell_type": "code",
      "metadata": {
        "colab": {
          "base_uri": "https://localhost:8080/"
        },
        "id": "iTgBQHPmmo_d",
        "outputId": "dbd400f2-c869-42f9-de34-bbac0b600c06"
      },
      "source": [
        "t.stride(),t.shape"
      ],
      "execution_count": 51,
      "outputs": [
        {
          "output_type": "execute_result",
          "data": {
            "text/plain": [
              "((0, 1), torch.Size([3, 3]))"
            ]
          },
          "metadata": {
            "tags": []
          },
          "execution_count": 51
        }
      ]
    },
    {
      "cell_type": "code",
      "metadata": {
        "colab": {
          "base_uri": "https://localhost:8080/"
        },
        "id": "kS54wrYdms0A",
        "outputId": "51f5a02f-93a8-43d1-eb19-4ad51dde017a"
      },
      "source": [
        "c.unsqueeze(0)"
      ],
      "execution_count": 52,
      "outputs": [
        {
          "output_type": "execute_result",
          "data": {
            "text/plain": [
              "tensor([[10, 20, 30]])"
            ]
          },
          "metadata": {
            "tags": []
          },
          "execution_count": 52
        }
      ]
    },
    {
      "cell_type": "code",
      "metadata": {
        "colab": {
          "base_uri": "https://localhost:8080/"
        },
        "id": "RfUpUhvjnD7D",
        "outputId": "f0ae478b-0c27-4bf0-a9a8-36f6bdc46f3e"
      },
      "source": [
        "c.unsqueeze(1)"
      ],
      "execution_count": 53,
      "outputs": [
        {
          "output_type": "execute_result",
          "data": {
            "text/plain": [
              "tensor([[10],\n",
              "        [20],\n",
              "        [30]])"
            ]
          },
          "metadata": {
            "tags": []
          },
          "execution_count": 53
        }
      ]
    },
    {
      "cell_type": "code",
      "metadata": {
        "colab": {
          "base_uri": "https://localhost:8080/"
        },
        "id": "3jSW_ap9nGk4",
        "outputId": "b9d5de61-e7a0-462b-b5e4-9aa8ac3ec924"
      },
      "source": [
        "c.shape,c.unsqueeze(0).shape,c.unsqueeze(1).shape"
      ],
      "execution_count": 54,
      "outputs": [
        {
          "output_type": "execute_result",
          "data": {
            "text/plain": [
              "(torch.Size([3]), torch.Size([1, 3]), torch.Size([3, 1]))"
            ]
          },
          "metadata": {
            "tags": []
          },
          "execution_count": 54
        }
      ]
    },
    {
      "cell_type": "code",
      "metadata": {
        "colab": {
          "base_uri": "https://localhost:8080/"
        },
        "id": "IQY2yXcynbED",
        "outputId": "29d460cb-9483-4fa9-fe62-16d7a0bebe9a"
      },
      "source": [
        "c.shape,c[None,:].shape,c[:,None].shape"
      ],
      "execution_count": 56,
      "outputs": [
        {
          "output_type": "execute_result",
          "data": {
            "text/plain": [
              "(torch.Size([3]), torch.Size([1, 3]), torch.Size([3, 1]))"
            ]
          },
          "metadata": {
            "tags": []
          },
          "execution_count": 56
        }
      ]
    },
    {
      "cell_type": "code",
      "metadata": {
        "colab": {
          "base_uri": "https://localhost:8080/"
        },
        "id": "YOg5kPN4nzlh",
        "outputId": "e319c09b-8d19-4d0f-a9c1-90e043c0096f"
      },
      "source": [
        "c[:,None].expand_as(m)"
      ],
      "execution_count": 57,
      "outputs": [
        {
          "output_type": "execute_result",
          "data": {
            "text/plain": [
              "tensor([[10, 10, 10],\n",
              "        [20, 20, 20],\n",
              "        [30, 30, 30]])"
            ]
          },
          "metadata": {
            "tags": []
          },
          "execution_count": 57
        }
      ]
    },
    {
      "cell_type": "code",
      "metadata": {
        "colab": {
          "base_uri": "https://localhost:8080/"
        },
        "id": "Nvfwi1IBn7UK",
        "outputId": "bc4604f6-35d5-4c28-8617-2deea09c5593"
      },
      "source": [
        "m + c[None,]"
      ],
      "execution_count": 59,
      "outputs": [
        {
          "output_type": "execute_result",
          "data": {
            "text/plain": [
              "tensor([[11., 22., 33.],\n",
              "        [14., 25., 36.],\n",
              "        [17., 28., 39.]])"
            ]
          },
          "metadata": {
            "tags": []
          },
          "execution_count": 59
        }
      ]
    },
    {
      "cell_type": "markdown",
      "metadata": {
        "id": "4-UnFfSaoewU"
      },
      "source": [
        "**Matmul with broadcasting**"
      ]
    },
    {
      "cell_type": "code",
      "metadata": {
        "id": "g-RQ75hdoqE8"
      },
      "source": [
        "def matmul(a, b):\r\n",
        "  ar,ac = a.shape\r\n",
        "  br,bc = b.shape\r\n",
        "  assert ac == br\r\n",
        "  c = torch.zeros(ar,bc) \r\n",
        "  for i in range(ar):\r\n",
        "    c[i] = (a[i].unsqueeze(-1) * b).sum(dim=0) #dim refers to which axis and * mean elementwise @ mean matmul\r\n",
        "  return c"
      ],
      "execution_count": 60,
      "outputs": []
    },
    {
      "cell_type": "code",
      "metadata": {
        "colab": {
          "base_uri": "https://localhost:8080/"
        },
        "id": "2xUQ2VOspvD7",
        "outputId": "f25e97b0-f0f1-4c1b-8a88-67bd77bff5a8"
      },
      "source": [
        "timeit -n 10 _=matmul(m1,m2)"
      ],
      "execution_count": 61,
      "outputs": [
        {
          "output_type": "stream",
          "text": [
            "10 loops, best of 3: 316 µs per loop\n"
          ],
          "name": "stdout"
        }
      ]
    },
    {
      "cell_type": "code",
      "metadata": {
        "colab": {
          "base_uri": "https://localhost:8080/"
        },
        "id": "00kx45YQp13I",
        "outputId": "0ebd1388-bf3e-4703-b707-fed039481e9d"
      },
      "source": [
        "885000/277"
      ],
      "execution_count": 62,
      "outputs": [
        {
          "output_type": "execute_result",
          "data": {
            "text/plain": [
              "3194.945848375451"
            ]
          },
          "metadata": {
            "tags": []
          },
          "execution_count": 62
        }
      ]
    },
    {
      "cell_type": "code",
      "metadata": {
        "id": "kaVE11IHp_zB"
      },
      "source": [
        "test_near(t1, matmul(m1,m2))"
      ],
      "execution_count": 63,
      "outputs": []
    },
    {
      "cell_type": "markdown",
      "metadata": {
        "id": "yuvv2waZronK"
      },
      "source": [
        "**EINSTEIN SUMMATION**"
      ]
    },
    {
      "cell_type": "code",
      "metadata": {
        "id": "ol_EQgxvqESe"
      },
      "source": [
        "def matmul(a,b): return torch.einsum(\"ik,kj->ij\", a,b)"
      ],
      "execution_count": 66,
      "outputs": []
    },
    {
      "cell_type": "code",
      "metadata": {
        "colab": {
          "base_uri": "https://localhost:8080/"
        },
        "id": "g1BeElVdr8_q",
        "outputId": "4d0b5f8b-c2b4-4fc1-a491-ace69acfaf6d"
      },
      "source": [
        "%timeit -n 10 _ = matmul(m1,m2)"
      ],
      "execution_count": 67,
      "outputs": [
        {
          "output_type": "stream",
          "text": [
            "The slowest run took 100.53 times longer than the fastest. This could mean that an intermediate result is being cached.\n",
            "10 loops, best of 3: 35.6 µs per loop\n"
          ],
          "name": "stdout"
        }
      ]
    },
    {
      "cell_type": "code",
      "metadata": {
        "colab": {
          "base_uri": "https://localhost:8080/"
        },
        "id": "5827dQKosTTY",
        "outputId": "19244687-192d-4aba-cfd5-a30ad6ad3544"
      },
      "source": [
        "885000/55"
      ],
      "execution_count": 68,
      "outputs": [
        {
          "output_type": "execute_result",
          "data": {
            "text/plain": [
              "16090.90909090909"
            ]
          },
          "metadata": {
            "tags": []
          },
          "execution_count": 68
        }
      ]
    },
    {
      "cell_type": "code",
      "metadata": {
        "id": "JgrZrSpxsjYI"
      },
      "source": [
        "test_near(t1, matmul(m1,m2))"
      ],
      "execution_count": 69,
      "outputs": []
    },
    {
      "cell_type": "markdown",
      "metadata": {
        "id": "nL8yYLQmtrSi"
      },
      "source": [
        "**PYTORCH INTERNAL COMMANDS FOR MATRIX MULTIPLY**"
      ]
    },
    {
      "cell_type": "code",
      "metadata": {
        "colab": {
          "base_uri": "https://localhost:8080/"
        },
        "id": "hfR7XAimt5Vv",
        "outputId": "5342deeb-3d83-43fd-99df-09dafc2cad3d"
      },
      "source": [
        "%timeit -n 10 _= m1.matmul(m2)"
      ],
      "execution_count": 70,
      "outputs": [
        {
          "output_type": "stream",
          "text": [
            "The slowest run took 8.46 times longer than the fastest. This could mean that an intermediate result is being cached.\n",
            "10 loops, best of 3: 14.9 µs per loop\n"
          ],
          "name": "stdout"
        }
      ]
    },
    {
      "cell_type": "code",
      "metadata": {
        "id": "kQWuiJlnuGI4"
      },
      "source": [
        "t2 = m1@m2"
      ],
      "execution_count": 71,
      "outputs": []
    },
    {
      "cell_type": "code",
      "metadata": {
        "id": "HxCq62WiuPXX"
      },
      "source": [
        "test_near(t1,t2)"
      ],
      "execution_count": 72,
      "outputs": []
    },
    {
      "cell_type": "code",
      "metadata": {
        "colab": {
          "base_uri": "https://localhost:8080/"
        },
        "id": "uops9gO0u4EE",
        "outputId": "728f2ba9-315b-4e0e-9a4a-773b03ca9e6b"
      },
      "source": [
        "!pip install fire"
      ],
      "execution_count": 74,
      "outputs": [
        {
          "output_type": "stream",
          "text": [
            "Collecting fire\n",
            "\u001b[?25l  Downloading https://files.pythonhosted.org/packages/34/a7/0e22e70778aca01a52b9c899d9c145c6396d7b613719cd63db97ffa13f2f/fire-0.3.1.tar.gz (81kB)\n",
            "\r\u001b[K     |████                            | 10kB 18.4MB/s eta 0:00:01\r\u001b[K     |████████                        | 20kB 20.2MB/s eta 0:00:01\r\u001b[K     |████████████▏                   | 30kB 11.5MB/s eta 0:00:01\r\u001b[K     |████████████████▏               | 40kB 9.1MB/s eta 0:00:01\r\u001b[K     |████████████████████▏           | 51kB 3.9MB/s eta 0:00:01\r\u001b[K     |████████████████████████▎       | 61kB 4.4MB/s eta 0:00:01\r\u001b[K     |████████████████████████████▎   | 71kB 4.8MB/s eta 0:00:01\r\u001b[K     |████████████████████████████████| 81kB 3.5MB/s \n",
            "\u001b[?25hRequirement already satisfied: six in /usr/local/lib/python3.6/dist-packages (from fire) (1.15.0)\n",
            "Requirement already satisfied: termcolor in /usr/local/lib/python3.6/dist-packages (from fire) (1.1.0)\n",
            "Building wheels for collected packages: fire\n",
            "  Building wheel for fire (setup.py) ... \u001b[?25l\u001b[?25hdone\n",
            "  Created wheel for fire: filename=fire-0.3.1-py2.py3-none-any.whl size=111007 sha256=7a99aa91b4a38f6e3773b92cab5de818d397a1b347e53f54027964020a6a9c8f\n",
            "  Stored in directory: /root/.cache/pip/wheels/c1/61/df/768b03527bf006b546dce284eb4249b185669e65afc5fbb2ac\n",
            "Successfully built fire\n",
            "Installing collected packages: fire\n",
            "Successfully installed fire-0.3.1\n"
          ],
          "name": "stdout"
        }
      ]
    },
    {
      "cell_type": "code",
      "metadata": {
        "colab": {
          "base_uri": "https://localhost:8080/"
        },
        "id": "k5APEdk8t8EY",
        "outputId": "91f44793-76e6-4557-b03e-96b47f63162e"
      },
      "source": [
        "!python notebook2script.py 01_matmul.ipynb"
      ],
      "execution_count": 76,
      "outputs": [
        {
          "output_type": "stream",
          "text": [
            "Converted 01_matmul.ipynb to exp/nb_01.py\n"
          ],
          "name": "stdout"
        }
      ]
    }
  ]
}