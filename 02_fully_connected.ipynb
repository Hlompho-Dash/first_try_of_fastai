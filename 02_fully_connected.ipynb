{
  "nbformat": 4,
  "nbformat_minor": 0,
  "metadata": {
    "colab": {
      "name": "02_fully_connected.ipynb",
      "provenance": [],
      "collapsed_sections": [],
      "authorship_tag": "ABX9TyP6sKWAx4XXjv16d14+juIE",
      "include_colab_link": true
    },
    "kernelspec": {
      "name": "python3",
      "display_name": "Python 3"
    }
  },
  "cells": [
    {
      "cell_type": "markdown",
      "metadata": {
        "id": "view-in-github",
        "colab_type": "text"
      },
      "source": [
        "<a href=\"https://colab.research.google.com/github/Hlompho-Dash/first_try_of_fastai/blob/master/02_fully_connected.ipynb\" target=\"_parent\"><img src=\"https://colab.research.google.com/assets/colab-badge.svg\" alt=\"Open In Colab\"/></a>"
      ]
    },
    {
      "cell_type": "code",
      "metadata": {
        "colab": {
          "base_uri": "https://localhost:8080/"
        },
        "id": "mipP0trDwyoL",
        "outputId": "cc57d7cd-124f-46d2-eb49-83a7a79b5617"
      },
      "source": [
        "import os\r\n",
        "\r\n",
        "from google.colab import drive\r\n",
        "drive.mount('/content/gdrive')\r\n",
        "\r\n",
        "os.chdir('/content/gdrive/MyDrive/first_try_of_fastai')\r\n",
        "\r\n",
        "print(\"------------------------------------------------------------------\")"
      ],
      "execution_count": 1,
      "outputs": [
        {
          "output_type": "stream",
          "text": [
            "Mounted at /content/gdrive\n",
            "------------------------------------------------------------------\n"
          ],
          "name": "stdout"
        }
      ]
    },
    {
      "cell_type": "code",
      "metadata": {
        "colab": {
          "base_uri": "https://localhost:8080/"
        },
        "id": "XpjCqIANw0hv",
        "outputId": "76b09d4c-c696-4132-c9d6-9d6e2e267e62"
      },
      "source": [
        "print(os.getcwd())"
      ],
      "execution_count": 2,
      "outputs": [
        {
          "output_type": "stream",
          "text": [
            "/content/gdrive/MyDrive/first_try_of_fastai\n"
          ],
          "name": "stdout"
        }
      ]
    },
    {
      "cell_type": "code",
      "metadata": {
        "id": "zCUzG4DRw3O9"
      },
      "source": [
        "#export\r\n",
        "\r\n",
        "from exp.nb_01 import *\r\n",
        "\r\n",
        "def get_data():\r\n",
        "  path2 = \"/content/gdrive/MyDrive/first_try_of_fastai/mnist (1).pkl.gz\"\r\n",
        "  with gzip.open(path2, \"rb\") as f:\r\n",
        "    ((x_train, y_train), (x_valid, y_valid), _) = pickle.load(f, encoding = \"latin-1\")\r\n",
        "  return map(tensor, (x_train,y_train,x_valid,y_valid))\r\n",
        "def normalize(x, m, s): return (x-m)/s"
      ],
      "execution_count": 3,
      "outputs": []
    },
    {
      "cell_type": "code",
      "metadata": {
        "id": "VE044fGtyDoM"
      },
      "source": [
        "x_train, y_train, x_valid, y_valid = get_data()"
      ],
      "execution_count": 4,
      "outputs": []
    },
    {
      "cell_type": "code",
      "metadata": {
        "colab": {
          "base_uri": "https://localhost:8080/"
        },
        "id": "A9ckRyIIyNP6",
        "outputId": "690585f5-2b61-4aaa-cfb4-15aa06a004dd"
      },
      "source": [
        "train_mean, train_std = x_train.mean(),x_train.std()\r\n",
        "train_mean,train_std"
      ],
      "execution_count": 5,
      "outputs": [
        {
          "output_type": "execute_result",
          "data": {
            "text/plain": [
              "(tensor(0.1304), tensor(0.3073))"
            ]
          },
          "metadata": {
            "tags": []
          },
          "execution_count": 5
        }
      ]
    },
    {
      "cell_type": "code",
      "metadata": {
        "id": "Z45gBv7Vysik"
      },
      "source": [
        "x_train = normalize(x_train, train_mean, train_std)\r\n",
        "\r\n",
        "x_valid = normalize(x_valid, train_mean, train_std)"
      ],
      "execution_count": 6,
      "outputs": []
    },
    {
      "cell_type": "code",
      "metadata": {
        "colab": {
          "base_uri": "https://localhost:8080/"
        },
        "id": "YOlrgYPYy8eh",
        "outputId": "a12628e0-92c5-40c9-b999-e86965347aff"
      },
      "source": [
        "train_mean, train_std = x_train.mean(), x_train.std()\r\n",
        "train_mean, train_std"
      ],
      "execution_count": 7,
      "outputs": [
        {
          "output_type": "execute_result",
          "data": {
            "text/plain": [
              "(tensor(3.8966e-08), tensor(1.))"
            ]
          },
          "metadata": {
            "tags": []
          },
          "execution_count": 7
        }
      ]
    },
    {
      "cell_type": "code",
      "metadata": {
        "id": "PL3yHCqHzUpz"
      },
      "source": [
        "#export\r\n",
        "\r\n",
        "def test_near_zero(a, tol=1e-3):  assert a.abs()<tol, f\"Near zero: {a}\""
      ],
      "execution_count": 8,
      "outputs": []
    },
    {
      "cell_type": "code",
      "metadata": {
        "id": "ddGcv_0cz2-h"
      },
      "source": [
        "test_near_zero(x_train.mean())\r\n",
        "test_near_zero(1-x_train.std())"
      ],
      "execution_count": 9,
      "outputs": []
    },
    {
      "cell_type": "code",
      "metadata": {
        "colab": {
          "base_uri": "https://localhost:8080/"
        },
        "id": "a0cuqWQo0AGm",
        "outputId": "537a470a-0ad7-4a13-bd85-b487711dad9f"
      },
      "source": [
        "n,m = x_train.shape\r\n",
        "c = y_train.max()+1\r\n",
        "n,m,c"
      ],
      "execution_count": 10,
      "outputs": [
        {
          "output_type": "execute_result",
          "data": {
            "text/plain": [
              "(50000, 784, tensor(10))"
            ]
          },
          "metadata": {
            "tags": []
          },
          "execution_count": 10
        }
      ]
    },
    {
      "cell_type": "markdown",
      "metadata": {
        "id": "jK16hnt70ZC8"
      },
      "source": [
        "**Basic architecture**"
      ]
    },
    {
      "cell_type": "code",
      "metadata": {
        "id": "wYhHICSz0dMh"
      },
      "source": [
        "nh = 50"
      ],
      "execution_count": 11,
      "outputs": []
    },
    {
      "cell_type": "code",
      "metadata": {
        "id": "U-aebs9n0fxn"
      },
      "source": [
        "w1 = torch.randn(m,nh)/math.sqrt(m)\r\n",
        "b1 = torch.zeros(nh)\r\n",
        "w2 = torch.randn(nh,1)/math.sqrt(nh )\r\n",
        "b2 = torch.zeros(1)"
      ],
      "execution_count": 12,
      "outputs": []
    },
    {
      "cell_type": "code",
      "metadata": {
        "id": "U10scU-41pSy"
      },
      "source": [
        "test_near_zero(w1.mean())\r\n",
        "test_near_zero(w1.std()-1/math.sqrt(m))"
      ],
      "execution_count": 13,
      "outputs": []
    },
    {
      "cell_type": "code",
      "metadata": {
        "colab": {
          "base_uri": "https://localhost:8080/"
        },
        "id": "yU-f7xsy1i8l",
        "outputId": "2ea98f7e-25c2-4133-ef4c-1a7a96f0b6af"
      },
      "source": [
        "x_valid.mean(),x_valid.std()"
      ],
      "execution_count": 14,
      "outputs": [
        {
          "output_type": "execute_result",
          "data": {
            "text/plain": [
              "(tensor(-0.0059), tensor(0.9924))"
            ]
          },
          "metadata": {
            "tags": []
          },
          "execution_count": 14
        }
      ]
    },
    {
      "cell_type": "code",
      "metadata": {
        "id": "DMdeDjdg189B"
      },
      "source": [
        "def lin(x, w, b): return x@w + b"
      ],
      "execution_count": 15,
      "outputs": []
    },
    {
      "cell_type": "code",
      "metadata": {
        "colab": {
          "base_uri": "https://localhost:8080/"
        },
        "id": "FFZf1bvM2C3n",
        "outputId": "00c41561-a97b-4512-b042-20d415509746"
      },
      "source": [
        "t = lin(x_valid, w1, b1)\r\n",
        "t.mean(),t.std()"
      ],
      "execution_count": 16,
      "outputs": [
        {
          "output_type": "execute_result",
          "data": {
            "text/plain": [
              "(tensor(0.0162), tensor(1.0555))"
            ]
          },
          "metadata": {
            "tags": []
          },
          "execution_count": 16
        }
      ]
    },
    {
      "cell_type": "code",
      "metadata": {
        "id": "vSOYhmu_2O6n"
      },
      "source": [
        "def relu(x): return x.clamp_min(0.)"
      ],
      "execution_count": 17,
      "outputs": []
    },
    {
      "cell_type": "code",
      "metadata": {
        "id": "YvE4OaXH2gXA"
      },
      "source": [
        "t = relu(lin(x_valid, w1, b1))"
      ],
      "execution_count": 18,
      "outputs": []
    },
    {
      "cell_type": "code",
      "metadata": {
        "colab": {
          "base_uri": "https://localhost:8080/"
        },
        "id": "3B3eBoU42mSZ",
        "outputId": "f089bc67-54a2-4204-e317-ba4505f9e720"
      },
      "source": [
        "t.mean(),t.std()"
      ],
      "execution_count": 19,
      "outputs": [
        {
          "output_type": "execute_result",
          "data": {
            "text/plain": [
              "(tensor(0.4290), tensor(0.6206))"
            ]
          },
          "metadata": {
            "tags": []
          },
          "execution_count": 19
        }
      ]
    },
    {
      "cell_type": "markdown",
      "metadata": {
        "id": "xoVMjLEV3w9d"
      },
      "source": [
        "**  FIXING THE VANISHING GRADIENT PROBLEM**"
      ]
    },
    {
      "cell_type": "code",
      "metadata": {
        "colab": {
          "base_uri": "https://localhost:8080/"
        },
        "id": "KPpDXAji34ZJ",
        "outputId": "c86bd673-284f-48a0-c38c-ef917c3dcac2"
      },
      "source": [
        "w1 = torch.rand(m,nh)*math.sqrt(2/m)\r\n",
        "w1.mean(),w1.std()"
      ],
      "execution_count": 20,
      "outputs": [
        {
          "output_type": "execute_result",
          "data": {
            "text/plain": [
              "(tensor(0.0252), tensor(0.0146))"
            ]
          },
          "metadata": {
            "tags": []
          },
          "execution_count": 20
        }
      ]
    },
    {
      "cell_type": "code",
      "metadata": {
        "colab": {
          "base_uri": "https://localhost:8080/"
        },
        "id": "19aD31-v8-UE",
        "outputId": "b2c1dc7b-6580-424f-fec2-79fbad1a0fc3"
      },
      "source": [
        "t= relu(lin(x_valid, w1, b1))\r\n",
        "t.mean(), t.std()"
      ],
      "execution_count": 21,
      "outputs": [
        {
          "output_type": "execute_result",
          "data": {
            "text/plain": [
              "(tensor(1.0099), tensor(1.6895))"
            ]
          },
          "metadata": {
            "tags": []
          },
          "execution_count": 21
        }
      ]
    },
    {
      "cell_type": "code",
      "metadata": {
        "id": "MJkzBbL59HjC"
      },
      "source": [
        " #export\r\n",
        "\r\n",
        " from torch.nn import init"
      ],
      "execution_count": 22,
      "outputs": []
    },
    {
      "cell_type": "code",
      "metadata": {
        "id": "J0EKxA1b9jvg"
      },
      "source": [
        "w1 = torch.zeros(m,nh)\r\n",
        "init.kaiming_normal_(w1, mode = \"fan_out\")\r\n",
        "\r\n",
        "t = relu(lin(x_valid, w1, b1))"
      ],
      "execution_count": 23,
      "outputs": []
    },
    {
      "cell_type": "code",
      "metadata": {
        "id": "pV9hWkxo-Eu3"
      },
      "source": [
        "init.kaiming_normal_??"
      ],
      "execution_count": 24,
      "outputs": []
    },
    {
      "cell_type": "code",
      "metadata": {
        "colab": {
          "base_uri": "https://localhost:8080/"
        },
        "id": "Y5FFiCg--gwh",
        "outputId": "dc243b57-f243-435a-ac63-3124783d5b21"
      },
      "source": [
        "w1.mean(),w1.std()"
      ],
      "execution_count": 25,
      "outputs": [
        {
          "output_type": "execute_result",
          "data": {
            "text/plain": [
              "(tensor(0.0002), tensor(0.0504))"
            ]
          },
          "metadata": {
            "tags": []
          },
          "execution_count": 25
        }
      ]
    },
    {
      "cell_type": "code",
      "metadata": {
        "colab": {
          "base_uri": "https://localhost:8080/"
        },
        "id": "H_vgwxMa-j1S",
        "outputId": "7802213d-7b76-4da1-ac5d-76d19e76e4f7"
      },
      "source": [
        "t.mean(),t.std()"
      ],
      "execution_count": 26,
      "outputs": [
        {
          "output_type": "execute_result",
          "data": {
            "text/plain": [
              "(tensor(0.4670), tensor(0.7673))"
            ]
          },
          "metadata": {
            "tags": []
          },
          "execution_count": 26
        }
      ]
    },
    {
      "cell_type": "code",
      "metadata": {
        "colab": {
          "base_uri": "https://localhost:8080/"
        },
        "id": "HCLc6KUg-sUg",
        "outputId": "358b8cdb-8b07-4f88-c54b-f3be60189adb"
      },
      "source": [
        "w1.shape"
      ],
      "execution_count": 27,
      "outputs": [
        {
          "output_type": "execute_result",
          "data": {
            "text/plain": [
              "torch.Size([784, 50])"
            ]
          },
          "metadata": {
            "tags": []
          },
          "execution_count": 27
        }
      ]
    },
    {
      "cell_type": "code",
      "metadata": {
        "id": "1ne52Yz9-1T_"
      },
      "source": [
        "import torch.nn"
      ],
      "execution_count": 28,
      "outputs": []
    },
    {
      "cell_type": "code",
      "metadata": {
        "id": "wygn2KgM-5Zq"
      },
      "source": [
        "torch.nn.Linear.forward??"
      ],
      "execution_count": 29,
      "outputs": []
    },
    {
      "cell_type": "code",
      "metadata": {
        "id": "c9mgBg7P-9FF"
      },
      "source": [
        "torch.nn.functional.linear??"
      ],
      "execution_count": 30,
      "outputs": []
    },
    {
      "cell_type": "code",
      "metadata": {
        "id": "T4AQKJWH_Ja_"
      },
      "source": [
        "torch.nn.Conv2d??"
      ],
      "execution_count": 31,
      "outputs": []
    },
    {
      "cell_type": "code",
      "metadata": {
        "id": "zFVolHtv_E_8"
      },
      "source": [
        "torch.nn.modules.conv._ConvNd.reset_parameters??"
      ],
      "execution_count": 32,
      "outputs": []
    },
    {
      "cell_type": "code",
      "metadata": {
        "id": "ZVixlqLdAHEx"
      },
      "source": [
        "def relu(x): return x.clamp_min(0.) - 0.5"
      ],
      "execution_count": 33,
      "outputs": []
    },
    {
      "cell_type": "code",
      "metadata": {
        "colab": {
          "base_uri": "https://localhost:8080/"
        },
        "id": "u2VynhRJAw4w",
        "outputId": "a95e26c7-0728-430b-9d50-9905c69c4202"
      },
      "source": [
        "w1 = torch.randn(m,nh)*math.sqrt(2./m)\r\n",
        "t1 = relu(lin(x_valid, w1, b1))\r\n",
        "t1.mean(), t.std()"
      ],
      "execution_count": 34,
      "outputs": [
        {
          "output_type": "execute_result",
          "data": {
            "text/plain": [
              "(tensor(0.0689), tensor(0.7673))"
            ]
          },
          "metadata": {
            "tags": []
          },
          "execution_count": 34
        }
      ]
    },
    {
      "cell_type": "code",
      "metadata": {
        "id": "q8_d958zA_Ru"
      },
      "source": [
        "def model(xb):\r\n",
        "  l1 = lin(xb, w1, b1)\r\n",
        "  l2 = relu(l1)\r\n",
        "  l3 = lin(l2, w2, b2)\r\n",
        "\r\n",
        "  return l3"
      ],
      "execution_count": 35,
      "outputs": []
    },
    {
      "cell_type": "code",
      "metadata": {
        "colab": {
          "base_uri": "https://localhost:8080/"
        },
        "id": "SLYUYWV6BaCB",
        "outputId": "0aabefbf-c5c8-49ad-fd92-15acd8cacfdd"
      },
      "source": [
        "%timeit -n 10 _= model(x_valid)"
      ],
      "execution_count": 36,
      "outputs": [
        {
          "output_type": "stream",
          "text": [
            "10 loops, best of 3: 22.5 ms per loop\n"
          ],
          "name": "stdout"
        }
      ]
    },
    {
      "cell_type": "code",
      "metadata": {
        "id": "m3NZy7FeBjON"
      },
      "source": [
        "assert model(x_valid).shape == torch.Size([x_valid.shape[0],1])"
      ],
      "execution_count": 37,
      "outputs": []
    },
    {
      "cell_type": "code",
      "metadata": {
        "colab": {
          "base_uri": "https://localhost:8080/"
        },
        "id": "pxI65poMG6ye",
        "outputId": "d6984f24-6095-4490-cf39-0e1e426cfbfd"
      },
      "source": [
        "x_valid.shape"
      ],
      "execution_count": 44,
      "outputs": [
        {
          "output_type": "execute_result",
          "data": {
            "text/plain": [
              "torch.Size([10000, 784])"
            ]
          },
          "metadata": {
            "tags": []
          },
          "execution_count": 44
        }
      ]
    },
    {
      "cell_type": "code",
      "metadata": {
        "colab": {
          "base_uri": "https://localhost:8080/"
        },
        "id": "zyWFub7yGDIm",
        "outputId": "580cd7f7-38a1-4593-e884-8e509af7ef0b"
      },
      "source": [
        "torch.Size([x_valid.shape[0],1])"
      ],
      "execution_count": 38,
      "outputs": [
        {
          "output_type": "execute_result",
          "data": {
            "text/plain": [
              "torch.Size([10000, 1])"
            ]
          },
          "metadata": {
            "tags": []
          },
          "execution_count": 38
        }
      ]
    },
    {
      "cell_type": "code",
      "metadata": {
        "colab": {
          "base_uri": "https://localhost:8080/"
        },
        "id": "QgOSKAIKGHh9",
        "outputId": "238ee7f6-a75f-4449-90a9-fd49eaa6c428"
      },
      "source": [
        "model(x_valid).shape"
      ],
      "execution_count": 43,
      "outputs": [
        {
          "output_type": "execute_result",
          "data": {
            "text/plain": [
              "torch.Size([10000, 1])"
            ]
          },
          "metadata": {
            "tags": []
          },
          "execution_count": 43
        }
      ]
    },
    {
      "cell_type": "markdown",
      "metadata": {
        "id": "iIzBHf3EGnUJ"
      },
      "source": [
        "**LOSS FUNCTION: MSE**"
      ]
    },
    {
      "cell_type": "code",
      "metadata": {
        "id": "ic42Sy7qGYg3"
      },
      "source": [
        "def mse(output, target): return (output.squeeze(-1) - target).pow(2).mean()"
      ],
      "execution_count": 46,
      "outputs": []
    },
    {
      "cell_type": "code",
      "metadata": {
        "id": "5aVxm2SlKKZo"
      },
      "source": [
        "y_train, y_valid = y_train.float(), y_valid.float()"
      ],
      "execution_count": 47,
      "outputs": []
    },
    {
      "cell_type": "code",
      "metadata": {
        "id": "_BKMIi9rKSv5"
      },
      "source": [
        "preds = model(x_train)"
      ],
      "execution_count": 48,
      "outputs": []
    },
    {
      "cell_type": "code",
      "metadata": {
        "colab": {
          "base_uri": "https://localhost:8080/"
        },
        "id": "T0lWPWPLKW6E",
        "outputId": "cc678c4e-f32f-46c0-9e83-7f64a61fc09f"
      },
      "source": [
        "preds.shape"
      ],
      "execution_count": 49,
      "outputs": [
        {
          "output_type": "execute_result",
          "data": {
            "text/plain": [
              "torch.Size([50000, 1])"
            ]
          },
          "metadata": {
            "tags": []
          },
          "execution_count": 49
        }
      ]
    },
    {
      "cell_type": "code",
      "metadata": {
        "colab": {
          "base_uri": "https://localhost:8080/"
        },
        "id": "svNFFRY1KYwM",
        "outputId": "8328d245-2a20-4b35-e759-7771b6fb72bf"
      },
      "source": [
        "mse(preds, y_train)"
      ],
      "execution_count": 50,
      "outputs": [
        {
          "output_type": "execute_result",
          "data": {
            "text/plain": [
              "tensor(31.8522)"
            ]
          },
          "metadata": {
            "tags": []
          },
          "execution_count": 50
        }
      ]
    },
    {
      "cell_type": "markdown",
      "metadata": {
        "id": "SYl2vpsqLOjl"
      },
      "source": [
        "**GRADIENTS AND BACKWARD PASSES**"
      ]
    },
    {
      "cell_type": "code",
      "metadata": {
        "id": "hPF0ef7BLEf8"
      },
      "source": [
        "def mse_grad(inp, targ):\r\n",
        "  # grad of loss with respect to output\r\n",
        "  inp.g = 2. * (inp.squeeze() - targ).unsqueeze(-1)/ inp.shape[0]"
      ],
      "execution_count": 57,
      "outputs": []
    },
    {
      "cell_type": "code",
      "metadata": {
        "id": "Gm7rc1ZHL6GO"
      },
      "source": [
        "def relu_grad(inp, out):\r\n",
        "   # grad of relu with respect to input activations\r\n",
        "   inp.g = (inp > 0).float() * out.g"
      ],
      "execution_count": 58,
      "outputs": []
    },
    {
      "cell_type": "code",
      "metadata": {
        "id": "0QorL6biMcE1"
      },
      "source": [
        "def lin_grad(inp, out, w, b):\r\n",
        "  # grad of matmul with respect to input\r\n",
        "  inp.g = out.g @ w.t()\r\n",
        "  w.g = (inp.unsqueeze(-1) * out.g.unsqueeze(1)).sum(0)\r\n",
        "  b.g = out.g.sum(0)"
      ],
      "execution_count": 59,
      "outputs": []
    },
    {
      "cell_type": "code",
      "metadata": {
        "id": "TAnnZDu2OagA"
      },
      "source": [
        "def forward_and_backward(inp, targ):\r\n",
        "  # forward pass:\r\n",
        "  l1 = inp @ w1 + b1\r\n",
        "  l2 = relu(l1)\r\n",
        "  out = l2 @ w2 + b2\r\n",
        "\r\n",
        "  loss = mse(out, targ)\r\n",
        "\r\n",
        "  #backward pass:\r\n",
        "  mse_grad(out, targ)\r\n",
        "  lin_grad(l2, out, w2, b2)\r\n",
        "  relu_grad(l1, l2)\r\n",
        "  lin_grad(inp, l1, w1, b1)\r\n"
      ],
      "execution_count": 60,
      "outputs": []
    },
    {
      "cell_type": "code",
      "metadata": {
        "id": "VF2dTf_dR34N"
      },
      "source": [
        "forward_and_backward(x_train, y_train)"
      ],
      "execution_count": 61,
      "outputs": []
    },
    {
      "cell_type": "code",
      "metadata": {
        "id": "5YQ9sPU1SMyM"
      },
      "source": [
        "w1g = w1.g.clone()\r\n",
        "w2g = w2.g.clone()\r\n",
        "b1g = b1.g.clone()\r\n",
        "b2g = b2.g.clone()\r\n",
        "ig  = x_train.g.clone()"
      ],
      "execution_count": 62,
      "outputs": []
    },
    {
      "cell_type": "code",
      "metadata": {
        "id": "Y0d-6WlWSh0l"
      },
      "source": [
        "xt2 = x_train.clone().requires_grad_(True)\r\n",
        "w12 = w1.clone().requires_grad_(True)\r\n",
        "w22 = w2.clone().requires_grad_(True)\r\n",
        "b12 = b1.clone().requires_grad_(True)\r\n",
        "b22 = b2.clone().requires_grad_(True)\r\n"
      ],
      "execution_count": 71,
      "outputs": []
    },
    {
      "cell_type": "code",
      "metadata": {
        "id": "4QtpRhZvR-WM"
      },
      "source": [
        "def forward(inp, targ):\r\n",
        "  # forward\r\n",
        "  l1 = inp @ w12 + b12\r\n",
        "  l2 = relu(l1)\r\n",
        "  out = l2 @ w22 + b22\r\n",
        "\r\n",
        "  return mse(out,targ)"
      ],
      "execution_count": 72,
      "outputs": []
    },
    {
      "cell_type": "code",
      "metadata": {
        "id": "CYp9jNf_Te-3"
      },
      "source": [
        "loss = forward(xt2, y_train)"
      ],
      "execution_count": 69,
      "outputs": []
    },
    {
      "cell_type": "code",
      "metadata": {
        "colab": {
          "base_uri": "https://localhost:8080/",
          "height": 35
        },
        "id": "39eVdQ01TkyN",
        "outputId": "7f1102cf-d962-4cb7-e6bc-adfc1b674571"
      },
      "source": [
        "# THIS CELL HAS PROBLEMS, LOOK INTO THEM\r\n",
        "\"\"\"test_near(w22.grad, w2g)\r\n",
        "test_near(b22.grad, b2g)\r\n",
        "test_near(w12.grad, w1g)\r\n",
        "test_near(b12.grad, b1g)\r\n",
        "test_near(xt2.grad, ig)\"\"\""
      ],
      "execution_count": 84,
      "outputs": [
        {
          "output_type": "execute_result",
          "data": {
            "application/vnd.google.colaboratory.intrinsic+json": {
              "type": "string"
            },
            "text/plain": [
              "'test_near(w22.grad, w2g)\\ntest_near(b22.grad, b2g)\\ntest_near(w12.grad, w1g)\\ntest_near(b12.grad, b1g)\\ntest_near(xt2.grad, ig)'"
            ]
          },
          "metadata": {
            "tags": []
          },
          "execution_count": 84
        }
      ]
    },
    {
      "cell_type": "markdown",
      "metadata": {
        "id": "knJLGxHwV1ro"
      },
      "source": [
        "BEFORE WE GO INTO REFACTORING THE MODEL NOTE THE FOLLOWING:\r\n",
        "\r\n",
        "1. MATRIX REPRESENTATIONS OF NEURAL NETS. NOT QUITE CLEAR ON THAT\r\n",
        "2. THE \".g\" OF TENSORS IN THE GRADIENT CALCULATIONS ON THE BACKPROP\r\n",
        "3. LEAST THEN LOOK INTO THE SMALL TEST FRAMEWORKS BUILT IN"
      ]
    },
    {
      "cell_type": "markdown",
      "metadata": {
        "id": "yG_pCSfFWVCr"
      },
      "source": [
        "***REFACTORING THE MODEL***"
      ]
    },
    {
      "cell_type": "markdown",
      "metadata": {
        "id": "qRutQXJyWg-D"
      },
      "source": [
        "*LAYERS AS CLASSES*"
      ]
    },
    {
      "cell_type": "code",
      "metadata": {
        "id": "7LBQp5dNWTBE"
      },
      "source": [
        "class Relu():\r\n",
        "  def __call__(self, inp):\r\n",
        "    self.inp = inp\r\n",
        "    self.out = inp.clamp_min(0.) - 0.5\r\n",
        "    \r\n",
        "    return self.out\r\n",
        "\r\n",
        "  def backward(self): self.inp.g = (self.inp > 0).float() * self.out.g"
      ],
      "execution_count": 86,
      "outputs": []
    },
    {
      "cell_type": "code",
      "metadata": {
        "id": "Kv0G2dSkXgXJ"
      },
      "source": [
        "class Lin():\r\n",
        "  def __init__(self,w,b):\r\n",
        "    self.w, self.b = w,b\r\n",
        "  \r\n",
        "  def __call__(self,inp):\r\n",
        "    self.inp = inp\r\n",
        "    self.out = inp@self.w + self.b\r\n",
        "    return self.out\r\n",
        "\r\n",
        "  def backward(self):\r\n",
        "    self.inp.g = self.out.g @ self.w.t()\r\n",
        "    self.w.g = (self.inp.unsqueeze(-1) * self.out.g.unsqueeze(1)).sum(0)\r\n",
        "    self.b.g = self.out.g.sum(0)"
      ],
      "execution_count": 87,
      "outputs": []
    },
    {
      "cell_type": "code",
      "metadata": {
        "id": "F3AzSL-bYXvL"
      },
      "source": [
        "class Mse():\r\n",
        "  def __call__(self,inp,targ):\r\n",
        "    self.inp = inp\r\n",
        "    self.targ = targ\r\n",
        "    self.out = (inp.squeeze() - targ).pow(2).mean()\r\n",
        "\r\n",
        "  def backward(self):\r\n",
        "    self.inp.g = 2. * (self.inp.squeeze() - self.targ).unsqueeze(-1) / self.targ.shape[0]"
      ],
      "execution_count": 90,
      "outputs": []
    },
    {
      "cell_type": "code",
      "metadata": {
        "id": "E7uYqOcZZFuH"
      },
      "source": [
        "class Model():\r\n",
        "  def __init__(self, w1, b1, w2, b2):\r\n",
        "    self.layers = [Lin(w1,b1),Relu(), Lin(w2,b2)]\r\n",
        "    self.loss = Mse()\r\n",
        "\r\n",
        "  def __call__(self, x , targ):\r\n",
        "    for l in self.layers: x = l(x)\r\n",
        "    return self.loss(x, targ)\r\n",
        "\r\n",
        "  def backward(self):\r\n",
        "    self.loss.backward()\r\n",
        "    for l in reversed(self.layers): l.backward()"
      ],
      "execution_count": 94,
      "outputs": []
    },
    {
      "cell_type": "code",
      "metadata": {
        "id": "D4b4l5BpaxOl"
      },
      "source": [
        "w1.g,b1.g,w2.g,b2.g = [None]*4\r\n",
        "\r\n",
        "model = Model(w1, b1, w2, b2)"
      ],
      "execution_count": 95,
      "outputs": []
    },
    {
      "cell_type": "code",
      "metadata": {
        "colab": {
          "base_uri": "https://localhost:8080/"
        },
        "id": "NRhqpwlUbFxs",
        "outputId": "4ce56f0c-bb31-4cda-eaa3-bd82c56946be"
      },
      "source": [
        "%time loss = model(x_train, y_train)"
      ],
      "execution_count": 96,
      "outputs": [
        {
          "output_type": "stream",
          "text": [
            "CPU times: user 217 ms, sys: 862 µs, total: 217 ms\n",
            "Wall time: 226 ms\n"
          ],
          "name": "stdout"
        }
      ]
    },
    {
      "cell_type": "code",
      "metadata": {
        "colab": {
          "base_uri": "https://localhost:8080/"
        },
        "id": "qbNMXZWcXT-c",
        "outputId": "52a1d642-d487-4d59-8d95-0805fe63a96d"
      },
      "source": [
        "%time model.backward()"
      ],
      "execution_count": 97,
      "outputs": [
        {
          "output_type": "stream",
          "text": [
            "CPU times: user 4.02 s, sys: 8.34 s, total: 12.4 s\n",
            "Wall time: 12.4 s\n"
          ],
          "name": "stdout"
        }
      ]
    },
    {
      "cell_type": "code",
      "metadata": {
        "colab": {
          "base_uri": "https://localhost:8080/"
        },
        "id": "4wg7zUWZbx2Z",
        "outputId": "103ead99-f7ca-4623-abe1-59199ab2cfe7"
      },
      "source": [
        "# initialization and calling, different parameters to be taken\r\n",
        "Model(w1, b1, w2, b2)(x_train, y_train)"
      ],
      "execution_count": 99,
      "outputs": [
        {
          "output_type": "stream",
          "text": [
            "CPU times: user 127 ms, sys: 0 ns, total: 127 ms\n",
            "Wall time: 130 ms\n"
          ],
          "name": "stdout"
        }
      ]
    }
  ]
}