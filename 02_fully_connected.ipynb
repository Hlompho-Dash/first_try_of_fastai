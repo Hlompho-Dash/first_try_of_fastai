{
  "nbformat": 4,
  "nbformat_minor": 0,
  "metadata": {
    "colab": {
      "name": "02_fully_connected.ipynb",
      "provenance": [],
      "collapsed_sections": [],
      "authorship_tag": "ABX9TyOUGi9SahopEdVOK2Kea6G/",
      "include_colab_link": true
    },
    "kernelspec": {
      "name": "python3",
      "display_name": "Python 3"
    }
  },
  "cells": [
    {
      "cell_type": "markdown",
      "metadata": {
        "id": "view-in-github",
        "colab_type": "text"
      },
      "source": [
        "<a href=\"https://colab.research.google.com/github/Hlompho-Dash/first_try_of_fastai/blob/master/02_fully_connected.ipynb\" target=\"_parent\"><img src=\"https://colab.research.google.com/assets/colab-badge.svg\" alt=\"Open In Colab\"/></a>"
      ]
    },
    {
      "cell_type": "code",
      "metadata": {
        "colab": {
          "base_uri": "https://localhost:8080/"
        },
        "id": "mipP0trDwyoL",
        "outputId": "2a20f19c-2b7b-46b5-df3d-7828e398e5f8"
      },
      "source": [
        "import os\r\n",
        "\r\n",
        "from google.colab import drive\r\n",
        "drive.mount('/content/gdrive')\r\n",
        "\r\n",
        "os.chdir('/content/gdrive/MyDrive/first_try_of_fastai')\r\n",
        "\r\n",
        "print(\"------------------------------------------------------------------\")"
      ],
      "execution_count": 81,
      "outputs": [
        {
          "output_type": "stream",
          "text": [
            "Drive already mounted at /content/gdrive; to attempt to forcibly remount, call drive.mount(\"/content/gdrive\", force_remount=True).\n",
            "------------------------------------------------------------------\n"
          ],
          "name": "stdout"
        }
      ]
    },
    {
      "cell_type": "code",
      "metadata": {
        "colab": {
          "base_uri": "https://localhost:8080/"
        },
        "id": "XpjCqIANw0hv",
        "outputId": "d2c31a7f-f6b6-4391-fc9c-0784e41c08b1"
      },
      "source": [
        "print(os.getcwd())"
      ],
      "execution_count": 82,
      "outputs": [
        {
          "output_type": "stream",
          "text": [
            "/content/gdrive/MyDrive/first_try_of_fastai\n"
          ],
          "name": "stdout"
        }
      ]
    },
    {
      "cell_type": "code",
      "metadata": {
        "id": "zCUzG4DRw3O9"
      },
      "source": [
        "#export\r\n",
        "\r\n",
        "from exp.nb_01 import *\r\n",
        "\r\n",
        "def get_data():\r\n",
        "  path2 = \"/content/gdrive/MyDrive/first_try_of_fastai/mnist (1).pkl.gz\"\r\n",
        "  with gzip.open(path2, \"rb\") as f:\r\n",
        "    ((x_train, y_train), (x_valid, y_valid), _) = pickle.load(f, encoding = \"latin-1\")\r\n",
        "  return map(tensor, (x_train,y_train,x_valid,y_valid))\r\n",
        "def normalize(x, m, s): return (x-m)/s"
      ],
      "execution_count": 83,
      "outputs": []
    },
    {
      "cell_type": "code",
      "metadata": {
        "id": "VE044fGtyDoM"
      },
      "source": [
        "x_train, y_train, x_valid, y_valid = get_data()"
      ],
      "execution_count": 84,
      "outputs": []
    },
    {
      "cell_type": "code",
      "metadata": {
        "colab": {
          "base_uri": "https://localhost:8080/"
        },
        "id": "A9ckRyIIyNP6",
        "outputId": "d9c24aaf-8089-487f-aae6-0962d81af225"
      },
      "source": [
        "train_mean, train_std = x_train.mean(),x_train.std()\r\n",
        "train_mean,train_std"
      ],
      "execution_count": 85,
      "outputs": [
        {
          "output_type": "execute_result",
          "data": {
            "text/plain": [
              "(tensor(0.1304), tensor(0.3073))"
            ]
          },
          "metadata": {
            "tags": []
          },
          "execution_count": 85
        }
      ]
    },
    {
      "cell_type": "code",
      "metadata": {
        "id": "Z45gBv7Vysik"
      },
      "source": [
        "x_train = normalize(x_train, train_mean, train_std)\r\n",
        "\r\n",
        "x_valid = normalize(x_valid, train_mean, train_std)"
      ],
      "execution_count": 86,
      "outputs": []
    },
    {
      "cell_type": "code",
      "metadata": {
        "colab": {
          "base_uri": "https://localhost:8080/"
        },
        "id": "YOlrgYPYy8eh",
        "outputId": "b29d0c0a-7e01-4328-c100-162d136ef239"
      },
      "source": [
        "train_mean, train_std = x_train.mean(), x_train.std()\r\n",
        "train_mean, train_std"
      ],
      "execution_count": 87,
      "outputs": [
        {
          "output_type": "execute_result",
          "data": {
            "text/plain": [
              "(tensor(3.8966e-08), tensor(1.))"
            ]
          },
          "metadata": {
            "tags": []
          },
          "execution_count": 87
        }
      ]
    },
    {
      "cell_type": "code",
      "metadata": {
        "id": "PL3yHCqHzUpz"
      },
      "source": [
        "#export\r\n",
        "\r\n",
        "def test_near_zero(a, tol=1e-3):  assert a.abs()<tol, f\"Near zero: {a}\""
      ],
      "execution_count": 88,
      "outputs": []
    },
    {
      "cell_type": "code",
      "metadata": {
        "id": "ddGcv_0cz2-h"
      },
      "source": [
        "test_near_zero(x_train.mean())\r\n",
        "test_near_zero(1-x_train.std())"
      ],
      "execution_count": 89,
      "outputs": []
    },
    {
      "cell_type": "code",
      "metadata": {
        "colab": {
          "base_uri": "https://localhost:8080/"
        },
        "id": "a0cuqWQo0AGm",
        "outputId": "cd90eafa-7e8c-4a51-e379-9fed4e31d5ad"
      },
      "source": [
        "n,m = x_train.shape\r\n",
        "c = y_train.max()+1\r\n",
        "n,m,c"
      ],
      "execution_count": 90,
      "outputs": [
        {
          "output_type": "execute_result",
          "data": {
            "text/plain": [
              "(50000, 784, tensor(10))"
            ]
          },
          "metadata": {
            "tags": []
          },
          "execution_count": 90
        }
      ]
    },
    {
      "cell_type": "markdown",
      "metadata": {
        "id": "jK16hnt70ZC8"
      },
      "source": [
        "**Basic architecture**"
      ]
    },
    {
      "cell_type": "code",
      "metadata": {
        "id": "wYhHICSz0dMh"
      },
      "source": [
        "nh = 50"
      ],
      "execution_count": 91,
      "outputs": []
    },
    {
      "cell_type": "code",
      "metadata": {
        "id": "U-aebs9n0fxn"
      },
      "source": [
        "w1 = torch.randn(m,nh)/math.sqrt(m)\r\n",
        "b1 = torch.zeros(nh)\r\n",
        "w2 = torch.randn(nh,1)/math.sqrt(nh )\r\n",
        "b2 = torch.zeros(1)"
      ],
      "execution_count": 92,
      "outputs": []
    },
    {
      "cell_type": "code",
      "metadata": {
        "id": "U10scU-41pSy"
      },
      "source": [
        "test_near_zero(w1.mean())\r\n",
        "test_near_zero(w1.std()-1/math.sqrt(m))"
      ],
      "execution_count": 93,
      "outputs": []
    },
    {
      "cell_type": "code",
      "metadata": {
        "colab": {
          "base_uri": "https://localhost:8080/"
        },
        "id": "yU-f7xsy1i8l",
        "outputId": "7e5afbfd-5d96-4382-ac55-7372ecd5279b"
      },
      "source": [
        "x_valid.mean(),x_valid.std()"
      ],
      "execution_count": 94,
      "outputs": [
        {
          "output_type": "execute_result",
          "data": {
            "text/plain": [
              "(tensor(-0.0059), tensor(0.9924))"
            ]
          },
          "metadata": {
            "tags": []
          },
          "execution_count": 94
        }
      ]
    },
    {
      "cell_type": "code",
      "metadata": {
        "id": "DMdeDjdg189B"
      },
      "source": [
        "def lin(x, w, b): return x@w + b"
      ],
      "execution_count": 95,
      "outputs": []
    },
    {
      "cell_type": "code",
      "metadata": {
        "colab": {
          "base_uri": "https://localhost:8080/"
        },
        "id": "FFZf1bvM2C3n",
        "outputId": "f41bcdef-4279-4b7d-eba6-e653c56c775d"
      },
      "source": [
        "t = lin(x_valid, w1, b1)\r\n",
        "t.mean(),t.std()"
      ],
      "execution_count": 96,
      "outputs": [
        {
          "output_type": "execute_result",
          "data": {
            "text/plain": [
              "(tensor(-0.0803), tensor(0.9851))"
            ]
          },
          "metadata": {
            "tags": []
          },
          "execution_count": 96
        }
      ]
    },
    {
      "cell_type": "code",
      "metadata": {
        "id": "vSOYhmu_2O6n"
      },
      "source": [
        "def relu(x): return x.clamp_min(0.)"
      ],
      "execution_count": 97,
      "outputs": []
    },
    {
      "cell_type": "code",
      "metadata": {
        "id": "YvE4OaXH2gXA"
      },
      "source": [
        "t = relu(lin(x_valid, w1, b1))"
      ],
      "execution_count": 98,
      "outputs": []
    },
    {
      "cell_type": "code",
      "metadata": {
        "colab": {
          "base_uri": "https://localhost:8080/"
        },
        "id": "3B3eBoU42mSZ",
        "outputId": "cca1e3a2-1d46-4c39-bcba-21bce359e1c7"
      },
      "source": [
        "t.mean(),t.std()"
      ],
      "execution_count": 99,
      "outputs": [
        {
          "output_type": "execute_result",
          "data": {
            "text/plain": [
              "(tensor(0.3526), tensor(0.5549))"
            ]
          },
          "metadata": {
            "tags": []
          },
          "execution_count": 99
        }
      ]
    },
    {
      "cell_type": "markdown",
      "metadata": {
        "id": "xoVMjLEV3w9d"
      },
      "source": [
        "**  FIXING THE VANISHING GRADIENT PROBLEM**"
      ]
    },
    {
      "cell_type": "code",
      "metadata": {
        "colab": {
          "base_uri": "https://localhost:8080/"
        },
        "id": "KPpDXAji34ZJ",
        "outputId": "99601a9f-df32-4643-d25d-8c483fc83327"
      },
      "source": [
        "w1 = torch.rand(m,nh)*math.sqrt(2/m)\r\n",
        "w1.mean(),w1.std()"
      ],
      "execution_count": 100,
      "outputs": [
        {
          "output_type": "execute_result",
          "data": {
            "text/plain": [
              "(tensor(0.0253), tensor(0.0145))"
            ]
          },
          "metadata": {
            "tags": []
          },
          "execution_count": 100
        }
      ]
    },
    {
      "cell_type": "code",
      "metadata": {
        "colab": {
          "base_uri": "https://localhost:8080/"
        },
        "id": "19aD31-v8-UE",
        "outputId": "c69ab952-7fa0-4ecb-ea4d-5b6e69ff286f"
      },
      "source": [
        "t= relu(lin(x_valid, w1, b1))\r\n",
        "t.mean(), t.std()"
      ],
      "execution_count": 101,
      "outputs": [
        {
          "output_type": "execute_result",
          "data": {
            "text/plain": [
              "(tensor(0.9977), tensor(1.6721))"
            ]
          },
          "metadata": {
            "tags": []
          },
          "execution_count": 101
        }
      ]
    },
    {
      "cell_type": "code",
      "metadata": {
        "id": "MJkzBbL59HjC"
      },
      "source": [
        " #export\r\n",
        "\r\n",
        " from torch.nn import init"
      ],
      "execution_count": 102,
      "outputs": []
    },
    {
      "cell_type": "code",
      "metadata": {
        "id": "J0EKxA1b9jvg"
      },
      "source": [
        "w1 = torch.zeros(m,nh)\r\n",
        "init.kaiming_normal_(w1, mode = \"fan_out\")\r\n",
        "\r\n",
        "t = relu(lin(x_valid, w1, b1))"
      ],
      "execution_count": 103,
      "outputs": []
    },
    {
      "cell_type": "code",
      "metadata": {
        "id": "pV9hWkxo-Eu3"
      },
      "source": [
        "init.kaiming_normal_??"
      ],
      "execution_count": 104,
      "outputs": []
    },
    {
      "cell_type": "code",
      "metadata": {
        "colab": {
          "base_uri": "https://localhost:8080/"
        },
        "id": "Y5FFiCg--gwh",
        "outputId": "d930a978-ca02-4eee-8500-56b8c7d1587e"
      },
      "source": [
        "w1.mean(),w1.std()"
      ],
      "execution_count": 105,
      "outputs": [
        {
          "output_type": "execute_result",
          "data": {
            "text/plain": [
              "(tensor(0.0003), tensor(0.0508))"
            ]
          },
          "metadata": {
            "tags": []
          },
          "execution_count": 105
        }
      ]
    },
    {
      "cell_type": "code",
      "metadata": {
        "colab": {
          "base_uri": "https://localhost:8080/"
        },
        "id": "H_vgwxMa-j1S",
        "outputId": "502bfe69-13fe-403b-aec7-d8ba706712b8"
      },
      "source": [
        "t.mean(),t.std()"
      ],
      "execution_count": 106,
      "outputs": [
        {
          "output_type": "execute_result",
          "data": {
            "text/plain": [
              "(tensor(0.6425), tensor(0.9018))"
            ]
          },
          "metadata": {
            "tags": []
          },
          "execution_count": 106
        }
      ]
    },
    {
      "cell_type": "code",
      "metadata": {
        "colab": {
          "base_uri": "https://localhost:8080/"
        },
        "id": "HCLc6KUg-sUg",
        "outputId": "df08d1f2-d174-4b03-d89e-dd8cb427a576"
      },
      "source": [
        "w1.shape"
      ],
      "execution_count": 107,
      "outputs": [
        {
          "output_type": "execute_result",
          "data": {
            "text/plain": [
              "torch.Size([784, 50])"
            ]
          },
          "metadata": {
            "tags": []
          },
          "execution_count": 107
        }
      ]
    },
    {
      "cell_type": "code",
      "metadata": {
        "id": "1ne52Yz9-1T_"
      },
      "source": [
        "import torch.nn"
      ],
      "execution_count": 108,
      "outputs": []
    },
    {
      "cell_type": "code",
      "metadata": {
        "id": "wygn2KgM-5Zq"
      },
      "source": [
        "torch.nn.Linear.forward??"
      ],
      "execution_count": 109,
      "outputs": []
    },
    {
      "cell_type": "code",
      "metadata": {
        "id": "c9mgBg7P-9FF"
      },
      "source": [
        "torch.nn.functional.linear??"
      ],
      "execution_count": 110,
      "outputs": []
    },
    {
      "cell_type": "code",
      "metadata": {
        "id": "T4AQKJWH_Ja_"
      },
      "source": [
        "torch.nn.Conv2d??"
      ],
      "execution_count": 111,
      "outputs": []
    },
    {
      "cell_type": "code",
      "metadata": {
        "id": "zFVolHtv_E_8"
      },
      "source": [
        "torch.nn.modules.conv._ConvNd.reset_parameters??"
      ],
      "execution_count": 112,
      "outputs": []
    },
    {
      "cell_type": "code",
      "metadata": {
        "id": "ZVixlqLdAHEx"
      },
      "source": [
        "def relu(x): return x.clamp_min(0.) - 0.5"
      ],
      "execution_count": 113,
      "outputs": []
    },
    {
      "cell_type": "code",
      "metadata": {
        "colab": {
          "base_uri": "https://localhost:8080/"
        },
        "id": "u2VynhRJAw4w",
        "outputId": "98c2c189-65f5-428f-b4a9-e93992304b36"
      },
      "source": [
        "w1 = torch.randn(m,nh)*math.sqrt(2./m)\r\n",
        "t1 = relu(lin(x_valid, w1, b1))\r\n",
        "t1.mean(), t.std()"
      ],
      "execution_count": 114,
      "outputs": [
        {
          "output_type": "execute_result",
          "data": {
            "text/plain": [
              "(tensor(0.0595), tensor(0.9018))"
            ]
          },
          "metadata": {
            "tags": []
          },
          "execution_count": 114
        }
      ]
    },
    {
      "cell_type": "code",
      "metadata": {
        "id": "q8_d958zA_Ru"
      },
      "source": [
        "def model(xb):\r\n",
        "  l1 = lin(xb, w1, b1)\r\n",
        "  l2 = relu(l1)\r\n",
        "  l3 = lin(l2, w2, b2)\r\n",
        "\r\n",
        "  return l3"
      ],
      "execution_count": 115,
      "outputs": []
    },
    {
      "cell_type": "code",
      "metadata": {
        "colab": {
          "base_uri": "https://localhost:8080/"
        },
        "id": "SLYUYWV6BaCB",
        "outputId": "887470c9-ba5d-4ec5-8bdc-3bf7a576a557"
      },
      "source": [
        "%timeit -n 10 _= model(x_valid)"
      ],
      "execution_count": 116,
      "outputs": [
        {
          "output_type": "stream",
          "text": [
            "10 loops, best of 3: 15.6 ms per loop\n"
          ],
          "name": "stdout"
        }
      ]
    },
    {
      "cell_type": "code",
      "metadata": {
        "id": "m3NZy7FeBjON"
      },
      "source": [
        "assert model(x_valid).shape == torch.Size([x_valid.shape[0],1])"
      ],
      "execution_count": 117,
      "outputs": []
    },
    {
      "cell_type": "code",
      "metadata": {
        "colab": {
          "base_uri": "https://localhost:8080/"
        },
        "id": "pxI65poMG6ye",
        "outputId": "e5a2c19a-d857-4fe2-c30e-53a89e1a5495"
      },
      "source": [
        "x_valid.shape"
      ],
      "execution_count": 118,
      "outputs": [
        {
          "output_type": "execute_result",
          "data": {
            "text/plain": [
              "torch.Size([10000, 784])"
            ]
          },
          "metadata": {
            "tags": []
          },
          "execution_count": 118
        }
      ]
    },
    {
      "cell_type": "code",
      "metadata": {
        "colab": {
          "base_uri": "https://localhost:8080/"
        },
        "id": "zyWFub7yGDIm",
        "outputId": "ed3f5fac-8bcf-4384-9218-5bacc4c82d46"
      },
      "source": [
        "torch.Size([x_valid.shape[0],1])"
      ],
      "execution_count": 119,
      "outputs": [
        {
          "output_type": "execute_result",
          "data": {
            "text/plain": [
              "torch.Size([10000, 1])"
            ]
          },
          "metadata": {
            "tags": []
          },
          "execution_count": 119
        }
      ]
    },
    {
      "cell_type": "code",
      "metadata": {
        "colab": {
          "base_uri": "https://localhost:8080/"
        },
        "id": "QgOSKAIKGHh9",
        "outputId": "424f00a5-3c1f-479b-b0bf-271f7677aa80"
      },
      "source": [
        "model(x_valid).shape"
      ],
      "execution_count": 120,
      "outputs": [
        {
          "output_type": "execute_result",
          "data": {
            "text/plain": [
              "torch.Size([10000, 1])"
            ]
          },
          "metadata": {
            "tags": []
          },
          "execution_count": 120
        }
      ]
    },
    {
      "cell_type": "markdown",
      "metadata": {
        "id": "iIzBHf3EGnUJ"
      },
      "source": [
        "**LOSS FUNCTION: MSE**"
      ]
    },
    {
      "cell_type": "code",
      "metadata": {
        "id": "ic42Sy7qGYg3"
      },
      "source": [
        "def mse(output, target): return (output.squeeze(-1) - target).pow(2).mean()"
      ],
      "execution_count": 121,
      "outputs": []
    },
    {
      "cell_type": "code",
      "metadata": {
        "id": "5aVxm2SlKKZo"
      },
      "source": [
        "y_train, y_valid = y_train.float(), y_valid.float()"
      ],
      "execution_count": 122,
      "outputs": []
    },
    {
      "cell_type": "code",
      "metadata": {
        "id": "_BKMIi9rKSv5"
      },
      "source": [
        "preds = model(x_train)"
      ],
      "execution_count": 123,
      "outputs": []
    },
    {
      "cell_type": "code",
      "metadata": {
        "colab": {
          "base_uri": "https://localhost:8080/"
        },
        "id": "T0lWPWPLKW6E",
        "outputId": "e50abbc9-57a0-4f20-919c-144408dfc775"
      },
      "source": [
        "preds.shape"
      ],
      "execution_count": 124,
      "outputs": [
        {
          "output_type": "execute_result",
          "data": {
            "text/plain": [
              "torch.Size([50000, 1])"
            ]
          },
          "metadata": {
            "tags": []
          },
          "execution_count": 124
        }
      ]
    },
    {
      "cell_type": "code",
      "metadata": {
        "colab": {
          "base_uri": "https://localhost:8080/"
        },
        "id": "svNFFRY1KYwM",
        "outputId": "7c6d0801-581c-4db4-ecca-e79a5d1e945d"
      },
      "source": [
        "mse(preds, y_train)"
      ],
      "execution_count": 125,
      "outputs": [
        {
          "output_type": "execute_result",
          "data": {
            "text/plain": [
              "tensor(22.2787)"
            ]
          },
          "metadata": {
            "tags": []
          },
          "execution_count": 125
        }
      ]
    },
    {
      "cell_type": "markdown",
      "metadata": {
        "id": "SYl2vpsqLOjl"
      },
      "source": [
        "**GRADIENTS AND BACKWARD PASSES**"
      ]
    },
    {
      "cell_type": "code",
      "metadata": {
        "id": "hPF0ef7BLEf8"
      },
      "source": [
        "def mse_grad(inp, targ):\r\n",
        "  # grad of loss with respect to output\r\n",
        "  inp.g = 2. * (inp.squeeze() - targ).unsqueeze(-1)/ inp.shape[0]"
      ],
      "execution_count": 126,
      "outputs": []
    },
    {
      "cell_type": "code",
      "metadata": {
        "id": "Gm7rc1ZHL6GO"
      },
      "source": [
        "def relu_grad(inp, out):\r\n",
        "   # grad of relu with respect to input activations\r\n",
        "   inp.g = (inp > 0).float() * out.g"
      ],
      "execution_count": 127,
      "outputs": []
    },
    {
      "cell_type": "code",
      "metadata": {
        "id": "0QorL6biMcE1"
      },
      "source": [
        "def lin_grad(inp, out, w, b):\r\n",
        "  # grad of matmul with respect to input\r\n",
        "  inp.g = out.g @ w.t()\r\n",
        "  w.g = (inp.unsqueeze(-1) * out.g.unsqueeze(1)).sum(0)\r\n",
        "  b.g = out.g.sum(0)"
      ],
      "execution_count": 128,
      "outputs": []
    },
    {
      "cell_type": "code",
      "metadata": {
        "id": "TAnnZDu2OagA"
      },
      "source": [
        "def forward_and_backward(inp, targ):\r\n",
        "  # forward pass:\r\n",
        "  l1 = inp @ w1 + b1\r\n",
        "  l2 = relu(l1)\r\n",
        "  out = l2 @ w2 + b2\r\n",
        "\r\n",
        "  loss = mse(out, targ)\r\n",
        "\r\n",
        "  #backward pass:\r\n",
        "  mse_grad(out, targ)\r\n",
        "  lin_grad(l2, out, w2, b2)\r\n",
        "  relu_grad(l1, l2)\r\n",
        "  lin_grad(inp, l1, w1, b1)\r\n"
      ],
      "execution_count": 129,
      "outputs": []
    },
    {
      "cell_type": "code",
      "metadata": {
        "id": "VF2dTf_dR34N"
      },
      "source": [
        "forward_and_backward(x_train, y_train)"
      ],
      "execution_count": 130,
      "outputs": []
    },
    {
      "cell_type": "code",
      "metadata": {
        "id": "5YQ9sPU1SMyM"
      },
      "source": [
        "w1g = w1.g.clone()\r\n",
        "w2g = w2.g.clone()\r\n",
        "b1g = b1.g.clone()\r\n",
        "b2g = b2.g.clone()\r\n",
        "ig  = x_train.g.clone()"
      ],
      "execution_count": 131,
      "outputs": []
    },
    {
      "cell_type": "code",
      "metadata": {
        "id": "Y0d-6WlWSh0l"
      },
      "source": [
        "xt2 = x_train.clone().requires_grad_(True)\r\n",
        "w12 = w1.clone().requires_grad_(True)\r\n",
        "w22 = w2.clone().requires_grad_(True)\r\n",
        "b12 = b1.clone().requires_grad_(True)\r\n",
        "b22 = b2.clone().requires_grad_(True)\r\n"
      ],
      "execution_count": 132,
      "outputs": []
    },
    {
      "cell_type": "code",
      "metadata": {
        "id": "4QtpRhZvR-WM"
      },
      "source": [
        "def forward(inp, targ):\r\n",
        "  # forward\r\n",
        "  l1 = inp @ w12 + b12\r\n",
        "  l2 = relu(l1)\r\n",
        "  out = l2 @ w22 + b22\r\n",
        "\r\n",
        "  return mse(out,targ)"
      ],
      "execution_count": 133,
      "outputs": []
    },
    {
      "cell_type": "code",
      "metadata": {
        "id": "CYp9jNf_Te-3"
      },
      "source": [
        "loss = forward(xt2, y_train)"
      ],
      "execution_count": 134,
      "outputs": []
    },
    {
      "cell_type": "code",
      "metadata": {
        "colab": {
          "base_uri": "https://localhost:8080/",
          "height": 35
        },
        "id": "39eVdQ01TkyN",
        "outputId": "9bc4c35f-a208-4692-c499-8fe2efb1aab7"
      },
      "source": [
        "# THIS CELL HAS PROBLEMS, LOOK INTO THEM\r\n",
        "\"\"\"test_near(w22.grad, w2g)\r\n",
        "test_near(b22.grad, b2g)\r\n",
        "test_near(w12.grad, w1g)\r\n",
        "test_near(b12.grad, b1g)\r\n",
        "test_near(xt2.grad, ig)\"\"\""
      ],
      "execution_count": 135,
      "outputs": [
        {
          "output_type": "execute_result",
          "data": {
            "application/vnd.google.colaboratory.intrinsic+json": {
              "type": "string"
            },
            "text/plain": [
              "'test_near(w22.grad, w2g)\\ntest_near(b22.grad, b2g)\\ntest_near(w12.grad, w1g)\\ntest_near(b12.grad, b1g)\\ntest_near(xt2.grad, ig)'"
            ]
          },
          "metadata": {
            "tags": []
          },
          "execution_count": 135
        }
      ]
    },
    {
      "cell_type": "markdown",
      "metadata": {
        "id": "knJLGxHwV1ro"
      },
      "source": [
        "BEFORE WE GO INTO REFACTORING THE MODEL NOTE THE FOLLOWING:\r\n",
        "\r\n",
        "1. MATRIX REPRESENTATIONS OF NEURAL NETS. NOT QUITE CLEAR ON THAT\r\n",
        "2. THE \".g\" OF TENSORS IN THE GRADIENT CALCULATIONS ON THE BACKPROP\r\n",
        "3. LEAST THEN LOOK INTO THE SMALL TEST FRAMEWORKS BUILT IN"
      ]
    },
    {
      "cell_type": "markdown",
      "metadata": {
        "id": "yG_pCSfFWVCr"
      },
      "source": [
        "***REFACTORING THE MODEL***"
      ]
    },
    {
      "cell_type": "markdown",
      "metadata": {
        "id": "qRutQXJyWg-D"
      },
      "source": [
        "*LAYERS AS CLASSES*"
      ]
    },
    {
      "cell_type": "code",
      "metadata": {
        "id": "7LBQp5dNWTBE"
      },
      "source": [
        "class Relu():\r\n",
        "  def __call__(self, inp):\r\n",
        "    self.inp = inp\r\n",
        "    self.out = inp.clamp_min(0.) - 0.5\r\n",
        "    \r\n",
        "    return self.out\r\n",
        "\r\n",
        "  def backward(self): self.inp.g = (self.inp > 0).float() * self.out.g"
      ],
      "execution_count": 136,
      "outputs": []
    },
    {
      "cell_type": "code",
      "metadata": {
        "id": "Kv0G2dSkXgXJ"
      },
      "source": [
        "class Lin():\r\n",
        "  def __init__(self,w,b):\r\n",
        "    self.w, self.b = w,b\r\n",
        "  \r\n",
        "  def __call__(self,inp):\r\n",
        "    self.inp = inp\r\n",
        "    self.out = inp@self.w + self.b\r\n",
        "    return self.out\r\n",
        "\r\n",
        "  def backward(self):\r\n",
        "    self.inp.g = self.out.g @ self.w.t()\r\n",
        "    self.w.g = (self.inp.unsqueeze(-1) * self.out.g.unsqueeze(1)).sum(0)\r\n",
        "    self.b.g = self.out.g.sum(0)"
      ],
      "execution_count": 137,
      "outputs": []
    },
    {
      "cell_type": "code",
      "metadata": {
        "id": "F3AzSL-bYXvL"
      },
      "source": [
        "class Mse():\r\n",
        "  def __call__(self,inp,targ):\r\n",
        "    self.inp = inp\r\n",
        "    self.targ = targ\r\n",
        "    self.out = (inp.squeeze() - targ).pow(2).mean()\r\n",
        "\r\n",
        "  def backward(self):\r\n",
        "    self.inp.g = 2. * (self.inp.squeeze() - self.targ).unsqueeze(-1) / self.targ.shape[0]"
      ],
      "execution_count": 138,
      "outputs": []
    },
    {
      "cell_type": "code",
      "metadata": {
        "id": "E7uYqOcZZFuH"
      },
      "source": [
        "class Model():\r\n",
        "  def __init__(self, w1, b1, w2, b2):\r\n",
        "    self.layers = [Lin(w1,b1),Relu(), Lin(w2,b2)]\r\n",
        "    self.loss = Mse()\r\n",
        "\r\n",
        "  def __call__(self, x , targ):\r\n",
        "    for l in self.layers: x = l(x)\r\n",
        "    return self.loss(x, targ)\r\n",
        "\r\n",
        "  def backward(self):\r\n",
        "    self.loss.backward()\r\n",
        "    for l in reversed(self.layers): l.backward()"
      ],
      "execution_count": 139,
      "outputs": []
    },
    {
      "cell_type": "code",
      "metadata": {
        "id": "D4b4l5BpaxOl"
      },
      "source": [
        "w1.g,b1.g,w2.g,b2.g = [None]*4\r\n",
        "\r\n",
        "model = Model(w1, b1, w2, b2)"
      ],
      "execution_count": 140,
      "outputs": []
    },
    {
      "cell_type": "code",
      "metadata": {
        "colab": {
          "base_uri": "https://localhost:8080/"
        },
        "id": "NRhqpwlUbFxs",
        "outputId": "1c4a473a-a401-4332-c834-1152348b7437"
      },
      "source": [
        "%time loss = model(x_train, y_train)"
      ],
      "execution_count": 141,
      "outputs": [
        {
          "output_type": "stream",
          "text": [
            "CPU times: user 85.5 ms, sys: 0 ns, total: 85.5 ms\n",
            "Wall time: 88.8 ms\n"
          ],
          "name": "stdout"
        }
      ]
    },
    {
      "cell_type": "code",
      "metadata": {
        "colab": {
          "base_uri": "https://localhost:8080/"
        },
        "id": "qbNMXZWcXT-c",
        "outputId": "082aa54d-aab0-4a01-8559-e1357cb0d85d"
      },
      "source": [
        "%time model.backward()"
      ],
      "execution_count": 142,
      "outputs": [
        {
          "output_type": "stream",
          "text": [
            "CPU times: user 4.39 s, sys: 42.5 ms, total: 4.43 s\n",
            "Wall time: 4.44 s\n"
          ],
          "name": "stdout"
        }
      ]
    },
    {
      "cell_type": "code",
      "metadata": {
        "id": "4wg7zUWZbx2Z"
      },
      "source": [
        "# initialization and calling, different parameters to be taken\r\n",
        "Model(w1, b1, w2, b2)(x_train, y_train)"
      ],
      "execution_count": 143,
      "outputs": []
    },
    {
      "cell_type": "code",
      "metadata": {
        "id": "_VUOkVD-csAM"
      },
      "source": [
        "test_near(w2g, w2.g)\r\n",
        "test_near(b2g, b2.g)\r\n",
        "test_near(w1g, w1.g)\r\n",
        "test_near(b1g, b1.g)\r\n",
        "test_near(ig, x_train.g)"
      ],
      "execution_count": 144,
      "outputs": []
    },
    {
      "cell_type": "markdown",
      "metadata": {
        "id": "Zx07dyEHdKPh"
      },
      "source": [
        "**Module.forward**"
      ]
    },
    {
      "cell_type": "code",
      "metadata": {
        "id": "E9swn5mLdGZm"
      },
      "source": [
        "class Module():\r\n",
        "  def __call__(self, *args):\r\n",
        "    self.args = args\r\n",
        "    self.out = self.forward(*args)\r\n",
        "    return self.out\r\n",
        "\r\n",
        "  def forward(self): raise Exception(\"Not implementaed\")\r\n",
        "  def backward(self): self.bwd(self.out,*self.args)"
      ],
      "execution_count": 145,
      "outputs": []
    },
    {
      "cell_type": "code",
      "metadata": {
        "id": "w0MlyFW-dvi0"
      },
      "source": [
        "class Relu(Module):\r\n",
        "  def forward(self, inp): return inp.clamp_min(0.) - 0.5\r\n",
        "  def bwd(self,out,inp): inp.g = (inp > 0).float() * out.g"
      ],
      "execution_count": 146,
      "outputs": []
    },
    {
      "cell_type": "code",
      "metadata": {
        "id": "AQwLEnBCeRnl"
      },
      "source": [
        "class Lin(Module):\r\n",
        "  def __init__(self,w,b):\r\n",
        "    self.w,self.b = w,b\r\n",
        "\r\n",
        "  def forward(self, inp): return inp@self.w + self.b\r\n",
        "\r\n",
        "  def bwd(self, out, inp):\r\n",
        "    inp.g = out.g @ self.w.t()\r\n",
        "    self.w.g = torch.einsum(\"bi,bj->ij\", inp, out.g)\r\n",
        "    self.b.g = out.g.sum(0)"
      ],
      "execution_count": 147,
      "outputs": []
    },
    {
      "cell_type": "code",
      "metadata": {
        "id": "kyAjOH9rfJ1a"
      },
      "source": [
        "class Mse(Module):\r\n",
        "  def forward(self, inp,targ): return (inp.squeeze() - targ).pow(2).mean()\r\n",
        "  def bwd(self,out,inp, targ): inp.g = 2*(inp.squeeze()-targ).unsqueeze(-1)/targ.shape[0]"
      ],
      "execution_count": 148,
      "outputs": []
    },
    {
      "cell_type": "code",
      "metadata": {
        "id": "f2upfdrEfoZp"
      },
      "source": [
        "class Model():\r\n",
        "  def __init__(self,w1,b1,w2,b2):\r\n",
        "    self.layers = [Lin(w1,b1),Relu(),Lin(w2,b2)]\r\n",
        "    self.loss = Mse()\r\n",
        "\r\n",
        "  def __call__(self, x, targ):\r\n",
        "    for l in self.layers: x = l(x)\r\n",
        "    return self.loss(x,targ)\r\n",
        "  \r\n",
        "  def backward(self):\r\n",
        "    self.loss.backward()\r\n",
        "    for l in reversed(self.layers): l.backward()"
      ],
      "execution_count": 149,
      "outputs": []
    },
    {
      "cell_type": "code",
      "metadata": {
        "id": "T_2iW2dKgXVv"
      },
      "source": [
        "w1.g,b1.g,w2.g,b2.g = [None]*4\r\n",
        "\r\n",
        "model = Model(w1, b1, w2, b2)"
      ],
      "execution_count": 150,
      "outputs": []
    },
    {
      "cell_type": "code",
      "metadata": {
        "colab": {
          "base_uri": "https://localhost:8080/"
        },
        "id": "cql0WC_vgbiF",
        "outputId": "0d98ffa9-04e9-47b6-b5ce-1f067646569b"
      },
      "source": [
        "%time loss = model(x_train, y_train)"
      ],
      "execution_count": 151,
      "outputs": [
        {
          "output_type": "stream",
          "text": [
            "CPU times: user 82 ms, sys: 0 ns, total: 82 ms\n",
            "Wall time: 82.3 ms\n"
          ],
          "name": "stdout"
        }
      ]
    },
    {
      "cell_type": "markdown",
      "metadata": {
        "id": "xtAWAoy-k7C5"
      },
      "source": [
        "**WITHOUT EINSUM**"
      ]
    },
    {
      "cell_type": "code",
      "metadata": {
        "id": "xbySBEkxlA1w"
      },
      "source": [
        "class Lin(Module):\r\n",
        "  def __init__(self, w, b): self.w, self.b = w,b\r\n",
        "\r\n",
        "  def forward(self, inp): return inp@self.w + self.b\r\n",
        "\r\n",
        "  def bwd(self, out, inp):\r\n",
        "    inp.g = out.g @ self.w.t()\r\n",
        "    self.w.g = inp.t() @ out.g\r\n",
        "    self.b.g = out.g.sum(0)"
      ],
      "execution_count": 152,
      "outputs": []
    },
    {
      "cell_type": "code",
      "metadata": {
        "id": "ZoDUKJbyIH3W"
      },
      "source": [
        "w1.g, b1.g, w2.g, b2.g = [None]*4\r\n",
        "model = Model(w1, b1, w2, b2)"
      ],
      "execution_count": 153,
      "outputs": []
    },
    {
      "cell_type": "code",
      "metadata": {
        "colab": {
          "base_uri": "https://localhost:8080/"
        },
        "id": "zWiBQMwJIY7L",
        "outputId": "0d895c80-965d-4340-a113-6881847e72ae"
      },
      "source": [
        "%time loss = model(x_train, y_train)"
      ],
      "execution_count": 154,
      "outputs": [
        {
          "output_type": "stream",
          "text": [
            "CPU times: user 89.5 ms, sys: 0 ns, total: 89.5 ms\n",
            "Wall time: 99.6 ms\n"
          ],
          "name": "stdout"
        }
      ]
    },
    {
      "cell_type": "code",
      "metadata": {
        "colab": {
          "base_uri": "https://localhost:8080/"
        },
        "id": "D1-xjmeXMjZo",
        "outputId": "7db8c583-31b4-47de-da14-27121e98bddb"
      },
      "source": [
        "%time model.backward()"
      ],
      "execution_count": 155,
      "outputs": [
        {
          "output_type": "stream",
          "text": [
            "CPU times: user 204 ms, sys: 1.36 ms, total: 206 ms\n",
            "Wall time: 207 ms\n"
          ],
          "name": "stdout"
        }
      ]
    },
    {
      "cell_type": "code",
      "metadata": {
        "id": "QXQg9TmIMmj2"
      },
      "source": [
        "test_near(w2g, w2.g)\r\n",
        "test_near(b2g, b2.g)\r\n",
        "test_near(w1g, w1.g)\r\n",
        "test_near(b1g, b1.g)\r\n",
        "test_near(ig, x_train.g)"
      ],
      "execution_count": 156,
      "outputs": []
    },
    {
      "cell_type": "markdown",
      "metadata": {
        "id": "ol4Bn5ZgPCbE"
      },
      "source": [
        "**nn.Linear**\r\n",
        "**nn.Module**"
      ]
    },
    {
      "cell_type": "code",
      "metadata": {
        "id": "ftAw8x7YTqjT"
      },
      "source": [
        "#export\r\n",
        "from torch import nn"
      ],
      "execution_count": 157,
      "outputs": []
    },
    {
      "cell_type": "code",
      "metadata": {
        "id": "jdYRJ4GVPSVm"
      },
      "source": [
        "class Model(nn.Module):\r\n",
        "  def __init__(self, n_in, nh, n_out):\r\n",
        "    super().__init__()\r\n",
        "    self.layers = [nn.Linear(n_in, nh), nn.ReLU(), nn.Linear(nh, n_out)]\r\n",
        "    self.loss = mse\r\n",
        "  \r\n",
        "  def __call__(self, x , targ):\r\n",
        "    for l in self.layers: l(x)\r\n",
        "    return self.loss(x.squeeze(), targ)"
      ],
      "execution_count": 158,
      "outputs": []
    },
    {
      "cell_type": "code",
      "metadata": {
        "id": "9gYRAXVfW1IQ"
      },
      "source": [
        "model = Model(m, nh, 1)"
      ],
      "execution_count": 159,
      "outputs": []
    },
    {
      "cell_type": "code",
      "metadata": {
        "colab": {
          "base_uri": "https://localhost:8080/",
          "height": 387
        },
        "id": "PMxYRSboW8y_",
        "outputId": "0535159d-875e-484a-ea07-975ef695beb6"
      },
      "source": [
        "%time loss = model(x_train, y_train)"
      ],
      "execution_count": 160,
      "outputs": [
        {
          "output_type": "error",
          "ename": "RuntimeError",
          "evalue": "ignored",
          "traceback": [
            "\u001b[0;31m---------------------------------------------------------------------------\u001b[0m",
            "\u001b[0;31mRuntimeError\u001b[0m                              Traceback (most recent call last)",
            "\u001b[0;32m<ipython-input-160-a93782b70dbf>\u001b[0m in \u001b[0;36m<module>\u001b[0;34m()\u001b[0m\n\u001b[0;32m----> 1\u001b[0;31m \u001b[0mget_ipython\u001b[0m\u001b[0;34m(\u001b[0m\u001b[0;34m)\u001b[0m\u001b[0;34m.\u001b[0m\u001b[0mmagic\u001b[0m\u001b[0;34m(\u001b[0m\u001b[0;34m'time loss = model(x_train, y_train)'\u001b[0m\u001b[0;34m)\u001b[0m\u001b[0;34m\u001b[0m\u001b[0;34m\u001b[0m\u001b[0m\n\u001b[0m",
            "\u001b[0;32m/usr/local/lib/python3.6/dist-packages/IPython/core/interactiveshell.py\u001b[0m in \u001b[0;36mmagic\u001b[0;34m(self, arg_s)\u001b[0m\n\u001b[1;32m   2158\u001b[0m         \u001b[0mmagic_name\u001b[0m\u001b[0;34m,\u001b[0m \u001b[0m_\u001b[0m\u001b[0;34m,\u001b[0m \u001b[0mmagic_arg_s\u001b[0m \u001b[0;34m=\u001b[0m \u001b[0marg_s\u001b[0m\u001b[0;34m.\u001b[0m\u001b[0mpartition\u001b[0m\u001b[0;34m(\u001b[0m\u001b[0;34m' '\u001b[0m\u001b[0;34m)\u001b[0m\u001b[0;34m\u001b[0m\u001b[0;34m\u001b[0m\u001b[0m\n\u001b[1;32m   2159\u001b[0m         \u001b[0mmagic_name\u001b[0m \u001b[0;34m=\u001b[0m \u001b[0mmagic_name\u001b[0m\u001b[0;34m.\u001b[0m\u001b[0mlstrip\u001b[0m\u001b[0;34m(\u001b[0m\u001b[0mprefilter\u001b[0m\u001b[0;34m.\u001b[0m\u001b[0mESC_MAGIC\u001b[0m\u001b[0;34m)\u001b[0m\u001b[0;34m\u001b[0m\u001b[0;34m\u001b[0m\u001b[0m\n\u001b[0;32m-> 2160\u001b[0;31m         \u001b[0;32mreturn\u001b[0m \u001b[0mself\u001b[0m\u001b[0;34m.\u001b[0m\u001b[0mrun_line_magic\u001b[0m\u001b[0;34m(\u001b[0m\u001b[0mmagic_name\u001b[0m\u001b[0;34m,\u001b[0m \u001b[0mmagic_arg_s\u001b[0m\u001b[0;34m)\u001b[0m\u001b[0;34m\u001b[0m\u001b[0;34m\u001b[0m\u001b[0m\n\u001b[0m\u001b[1;32m   2161\u001b[0m \u001b[0;34m\u001b[0m\u001b[0m\n\u001b[1;32m   2162\u001b[0m     \u001b[0;31m#-------------------------------------------------------------------------\u001b[0m\u001b[0;34m\u001b[0m\u001b[0;34m\u001b[0m\u001b[0;34m\u001b[0m\u001b[0m\n",
            "\u001b[0;32m/usr/local/lib/python3.6/dist-packages/IPython/core/interactiveshell.py\u001b[0m in \u001b[0;36mrun_line_magic\u001b[0;34m(self, magic_name, line)\u001b[0m\n\u001b[1;32m   2079\u001b[0m                 \u001b[0mkwargs\u001b[0m\u001b[0;34m[\u001b[0m\u001b[0;34m'local_ns'\u001b[0m\u001b[0;34m]\u001b[0m \u001b[0;34m=\u001b[0m \u001b[0msys\u001b[0m\u001b[0;34m.\u001b[0m\u001b[0m_getframe\u001b[0m\u001b[0;34m(\u001b[0m\u001b[0mstack_depth\u001b[0m\u001b[0;34m)\u001b[0m\u001b[0;34m.\u001b[0m\u001b[0mf_locals\u001b[0m\u001b[0;34m\u001b[0m\u001b[0;34m\u001b[0m\u001b[0m\n\u001b[1;32m   2080\u001b[0m             \u001b[0;32mwith\u001b[0m \u001b[0mself\u001b[0m\u001b[0;34m.\u001b[0m\u001b[0mbuiltin_trap\u001b[0m\u001b[0;34m:\u001b[0m\u001b[0;34m\u001b[0m\u001b[0;34m\u001b[0m\u001b[0m\n\u001b[0;32m-> 2081\u001b[0;31m                 \u001b[0mresult\u001b[0m \u001b[0;34m=\u001b[0m \u001b[0mfn\u001b[0m\u001b[0;34m(\u001b[0m\u001b[0;34m*\u001b[0m\u001b[0margs\u001b[0m\u001b[0;34m,\u001b[0m\u001b[0;34m**\u001b[0m\u001b[0mkwargs\u001b[0m\u001b[0;34m)\u001b[0m\u001b[0;34m\u001b[0m\u001b[0;34m\u001b[0m\u001b[0m\n\u001b[0m\u001b[1;32m   2082\u001b[0m             \u001b[0;32mreturn\u001b[0m \u001b[0mresult\u001b[0m\u001b[0;34m\u001b[0m\u001b[0;34m\u001b[0m\u001b[0m\n\u001b[1;32m   2083\u001b[0m \u001b[0;34m\u001b[0m\u001b[0m\n",
            "\u001b[0;32m<decorator-gen-60>\u001b[0m in \u001b[0;36mtime\u001b[0;34m(self, line, cell, local_ns)\u001b[0m\n",
            "\u001b[0;32m/usr/local/lib/python3.6/dist-packages/IPython/core/magic.py\u001b[0m in \u001b[0;36m<lambda>\u001b[0;34m(f, *a, **k)\u001b[0m\n\u001b[1;32m    186\u001b[0m     \u001b[0;31m# but it's overkill for just that one bit of state.\u001b[0m\u001b[0;34m\u001b[0m\u001b[0;34m\u001b[0m\u001b[0;34m\u001b[0m\u001b[0m\n\u001b[1;32m    187\u001b[0m     \u001b[0;32mdef\u001b[0m \u001b[0mmagic_deco\u001b[0m\u001b[0;34m(\u001b[0m\u001b[0marg\u001b[0m\u001b[0;34m)\u001b[0m\u001b[0;34m:\u001b[0m\u001b[0;34m\u001b[0m\u001b[0;34m\u001b[0m\u001b[0m\n\u001b[0;32m--> 188\u001b[0;31m         \u001b[0mcall\u001b[0m \u001b[0;34m=\u001b[0m \u001b[0;32mlambda\u001b[0m \u001b[0mf\u001b[0m\u001b[0;34m,\u001b[0m \u001b[0;34m*\u001b[0m\u001b[0ma\u001b[0m\u001b[0;34m,\u001b[0m \u001b[0;34m**\u001b[0m\u001b[0mk\u001b[0m\u001b[0;34m:\u001b[0m \u001b[0mf\u001b[0m\u001b[0;34m(\u001b[0m\u001b[0;34m*\u001b[0m\u001b[0ma\u001b[0m\u001b[0;34m,\u001b[0m \u001b[0;34m**\u001b[0m\u001b[0mk\u001b[0m\u001b[0;34m)\u001b[0m\u001b[0;34m\u001b[0m\u001b[0;34m\u001b[0m\u001b[0m\n\u001b[0m\u001b[1;32m    189\u001b[0m \u001b[0;34m\u001b[0m\u001b[0m\n\u001b[1;32m    190\u001b[0m         \u001b[0;32mif\u001b[0m \u001b[0mcallable\u001b[0m\u001b[0;34m(\u001b[0m\u001b[0marg\u001b[0m\u001b[0;34m)\u001b[0m\u001b[0;34m:\u001b[0m\u001b[0;34m\u001b[0m\u001b[0;34m\u001b[0m\u001b[0m\n",
            "\u001b[0;32m/usr/local/lib/python3.6/dist-packages/IPython/core/magics/execution.py\u001b[0m in \u001b[0;36mtime\u001b[0;34m(self, line, cell, local_ns)\u001b[0m\n\u001b[1;32m   1191\u001b[0m         \u001b[0;32melse\u001b[0m\u001b[0;34m:\u001b[0m\u001b[0;34m\u001b[0m\u001b[0;34m\u001b[0m\u001b[0m\n\u001b[1;32m   1192\u001b[0m             \u001b[0mst\u001b[0m \u001b[0;34m=\u001b[0m \u001b[0mclock2\u001b[0m\u001b[0;34m(\u001b[0m\u001b[0;34m)\u001b[0m\u001b[0;34m\u001b[0m\u001b[0;34m\u001b[0m\u001b[0m\n\u001b[0;32m-> 1193\u001b[0;31m             \u001b[0mexec\u001b[0m\u001b[0;34m(\u001b[0m\u001b[0mcode\u001b[0m\u001b[0;34m,\u001b[0m \u001b[0mglob\u001b[0m\u001b[0;34m,\u001b[0m \u001b[0mlocal_ns\u001b[0m\u001b[0;34m)\u001b[0m\u001b[0;34m\u001b[0m\u001b[0;34m\u001b[0m\u001b[0m\n\u001b[0m\u001b[1;32m   1194\u001b[0m             \u001b[0mend\u001b[0m \u001b[0;34m=\u001b[0m \u001b[0mclock2\u001b[0m\u001b[0;34m(\u001b[0m\u001b[0;34m)\u001b[0m\u001b[0;34m\u001b[0m\u001b[0;34m\u001b[0m\u001b[0m\n\u001b[1;32m   1195\u001b[0m             \u001b[0mout\u001b[0m \u001b[0;34m=\u001b[0m \u001b[0;32mNone\u001b[0m\u001b[0;34m\u001b[0m\u001b[0;34m\u001b[0m\u001b[0m\n",
            "\u001b[0;32m<timed exec>\u001b[0m in \u001b[0;36m<module>\u001b[0;34m()\u001b[0m\n",
            "\u001b[0;32m<ipython-input-158-cb448f4d7743>\u001b[0m in \u001b[0;36m__call__\u001b[0;34m(self, x, targ)\u001b[0m\n\u001b[1;32m      6\u001b[0m \u001b[0;34m\u001b[0m\u001b[0m\n\u001b[1;32m      7\u001b[0m   \u001b[0;32mdef\u001b[0m \u001b[0m__call__\u001b[0m\u001b[0;34m(\u001b[0m\u001b[0mself\u001b[0m\u001b[0;34m,\u001b[0m \u001b[0mx\u001b[0m \u001b[0;34m,\u001b[0m \u001b[0mtarg\u001b[0m\u001b[0;34m)\u001b[0m\u001b[0;34m:\u001b[0m\u001b[0;34m\u001b[0m\u001b[0;34m\u001b[0m\u001b[0m\n\u001b[0;32m----> 8\u001b[0;31m     \u001b[0;32mfor\u001b[0m \u001b[0ml\u001b[0m \u001b[0;32min\u001b[0m \u001b[0mself\u001b[0m\u001b[0;34m.\u001b[0m\u001b[0mlayers\u001b[0m\u001b[0;34m:\u001b[0m \u001b[0ml\u001b[0m\u001b[0;34m(\u001b[0m\u001b[0mx\u001b[0m\u001b[0;34m)\u001b[0m\u001b[0;34m\u001b[0m\u001b[0;34m\u001b[0m\u001b[0m\n\u001b[0m\u001b[1;32m      9\u001b[0m     \u001b[0;32mreturn\u001b[0m \u001b[0mself\u001b[0m\u001b[0;34m.\u001b[0m\u001b[0mloss\u001b[0m\u001b[0;34m(\u001b[0m\u001b[0mx\u001b[0m\u001b[0;34m.\u001b[0m\u001b[0msqueeze\u001b[0m\u001b[0;34m(\u001b[0m\u001b[0;34m)\u001b[0m\u001b[0;34m,\u001b[0m \u001b[0mtarg\u001b[0m\u001b[0;34m)\u001b[0m\u001b[0;34m\u001b[0m\u001b[0;34m\u001b[0m\u001b[0m\n",
            "\u001b[0;32m/usr/local/lib/python3.6/dist-packages/torch/nn/modules/module.py\u001b[0m in \u001b[0;36m_call_impl\u001b[0;34m(self, *input, **kwargs)\u001b[0m\n\u001b[1;32m    725\u001b[0m             \u001b[0mresult\u001b[0m \u001b[0;34m=\u001b[0m \u001b[0mself\u001b[0m\u001b[0;34m.\u001b[0m\u001b[0m_slow_forward\u001b[0m\u001b[0;34m(\u001b[0m\u001b[0;34m*\u001b[0m\u001b[0minput\u001b[0m\u001b[0;34m,\u001b[0m \u001b[0;34m**\u001b[0m\u001b[0mkwargs\u001b[0m\u001b[0;34m)\u001b[0m\u001b[0;34m\u001b[0m\u001b[0;34m\u001b[0m\u001b[0m\n\u001b[1;32m    726\u001b[0m         \u001b[0;32melse\u001b[0m\u001b[0;34m:\u001b[0m\u001b[0;34m\u001b[0m\u001b[0;34m\u001b[0m\u001b[0m\n\u001b[0;32m--> 727\u001b[0;31m             \u001b[0mresult\u001b[0m \u001b[0;34m=\u001b[0m \u001b[0mself\u001b[0m\u001b[0;34m.\u001b[0m\u001b[0mforward\u001b[0m\u001b[0;34m(\u001b[0m\u001b[0;34m*\u001b[0m\u001b[0minput\u001b[0m\u001b[0;34m,\u001b[0m \u001b[0;34m**\u001b[0m\u001b[0mkwargs\u001b[0m\u001b[0;34m)\u001b[0m\u001b[0;34m\u001b[0m\u001b[0;34m\u001b[0m\u001b[0m\n\u001b[0m\u001b[1;32m    728\u001b[0m         for hook in itertools.chain(\n\u001b[1;32m    729\u001b[0m                 \u001b[0m_global_forward_hooks\u001b[0m\u001b[0;34m.\u001b[0m\u001b[0mvalues\u001b[0m\u001b[0;34m(\u001b[0m\u001b[0;34m)\u001b[0m\u001b[0;34m,\u001b[0m\u001b[0;34m\u001b[0m\u001b[0;34m\u001b[0m\u001b[0m\n",
            "\u001b[0;32m/usr/local/lib/python3.6/dist-packages/torch/nn/modules/linear.py\u001b[0m in \u001b[0;36mforward\u001b[0;34m(self, input)\u001b[0m\n\u001b[1;32m     91\u001b[0m \u001b[0;34m\u001b[0m\u001b[0m\n\u001b[1;32m     92\u001b[0m     \u001b[0;32mdef\u001b[0m \u001b[0mforward\u001b[0m\u001b[0;34m(\u001b[0m\u001b[0mself\u001b[0m\u001b[0;34m,\u001b[0m \u001b[0minput\u001b[0m\u001b[0;34m:\u001b[0m \u001b[0mTensor\u001b[0m\u001b[0;34m)\u001b[0m \u001b[0;34m->\u001b[0m \u001b[0mTensor\u001b[0m\u001b[0;34m:\u001b[0m\u001b[0;34m\u001b[0m\u001b[0;34m\u001b[0m\u001b[0m\n\u001b[0;32m---> 93\u001b[0;31m         \u001b[0;32mreturn\u001b[0m \u001b[0mF\u001b[0m\u001b[0;34m.\u001b[0m\u001b[0mlinear\u001b[0m\u001b[0;34m(\u001b[0m\u001b[0minput\u001b[0m\u001b[0;34m,\u001b[0m \u001b[0mself\u001b[0m\u001b[0;34m.\u001b[0m\u001b[0mweight\u001b[0m\u001b[0;34m,\u001b[0m \u001b[0mself\u001b[0m\u001b[0;34m.\u001b[0m\u001b[0mbias\u001b[0m\u001b[0;34m)\u001b[0m\u001b[0;34m\u001b[0m\u001b[0;34m\u001b[0m\u001b[0m\n\u001b[0m\u001b[1;32m     94\u001b[0m \u001b[0;34m\u001b[0m\u001b[0m\n\u001b[1;32m     95\u001b[0m     \u001b[0;32mdef\u001b[0m \u001b[0mextra_repr\u001b[0m\u001b[0;34m(\u001b[0m\u001b[0mself\u001b[0m\u001b[0;34m)\u001b[0m \u001b[0;34m->\u001b[0m \u001b[0mstr\u001b[0m\u001b[0;34m:\u001b[0m\u001b[0;34m\u001b[0m\u001b[0;34m\u001b[0m\u001b[0m\n",
            "\u001b[0;32m/usr/local/lib/python3.6/dist-packages/torch/nn/functional.py\u001b[0m in \u001b[0;36mlinear\u001b[0;34m(input, weight, bias)\u001b[0m\n\u001b[1;32m   1688\u001b[0m     \u001b[0;32mif\u001b[0m \u001b[0minput\u001b[0m\u001b[0;34m.\u001b[0m\u001b[0mdim\u001b[0m\u001b[0;34m(\u001b[0m\u001b[0;34m)\u001b[0m \u001b[0;34m==\u001b[0m \u001b[0;36m2\u001b[0m \u001b[0;32mand\u001b[0m \u001b[0mbias\u001b[0m \u001b[0;32mis\u001b[0m \u001b[0;32mnot\u001b[0m \u001b[0;32mNone\u001b[0m\u001b[0;34m:\u001b[0m\u001b[0;34m\u001b[0m\u001b[0;34m\u001b[0m\u001b[0m\n\u001b[1;32m   1689\u001b[0m         \u001b[0;31m# fused op is marginally faster\u001b[0m\u001b[0;34m\u001b[0m\u001b[0;34m\u001b[0m\u001b[0;34m\u001b[0m\u001b[0m\n\u001b[0;32m-> 1690\u001b[0;31m         \u001b[0mret\u001b[0m \u001b[0;34m=\u001b[0m \u001b[0mtorch\u001b[0m\u001b[0;34m.\u001b[0m\u001b[0maddmm\u001b[0m\u001b[0;34m(\u001b[0m\u001b[0mbias\u001b[0m\u001b[0;34m,\u001b[0m \u001b[0minput\u001b[0m\u001b[0;34m,\u001b[0m \u001b[0mweight\u001b[0m\u001b[0;34m.\u001b[0m\u001b[0mt\u001b[0m\u001b[0;34m(\u001b[0m\u001b[0;34m)\u001b[0m\u001b[0;34m)\u001b[0m\u001b[0;34m\u001b[0m\u001b[0;34m\u001b[0m\u001b[0m\n\u001b[0m\u001b[1;32m   1691\u001b[0m     \u001b[0;32melse\u001b[0m\u001b[0;34m:\u001b[0m\u001b[0;34m\u001b[0m\u001b[0;34m\u001b[0m\u001b[0m\n\u001b[1;32m   1692\u001b[0m         \u001b[0moutput\u001b[0m \u001b[0;34m=\u001b[0m \u001b[0minput\u001b[0m\u001b[0;34m.\u001b[0m\u001b[0mmatmul\u001b[0m\u001b[0;34m(\u001b[0m\u001b[0mweight\u001b[0m\u001b[0;34m.\u001b[0m\u001b[0mt\u001b[0m\u001b[0;34m(\u001b[0m\u001b[0;34m)\u001b[0m\u001b[0;34m)\u001b[0m\u001b[0;34m\u001b[0m\u001b[0;34m\u001b[0m\u001b[0m\n",
            "\u001b[0;31mRuntimeError\u001b[0m: mat1 and mat2 shapes cannot be multiplied (50000x784 and 50x1)"
          ]
        }
      ]
    },
    {
      "cell_type": "code",
      "metadata": {
        "id": "woXLGqauXusw"
      },
      "source": [
        "%time loss.backward()"
      ],
      "execution_count": null,
      "outputs": []
    },
    {
      "cell_type": "markdown",
      "metadata": {
        "id": "YEe5k1AoYSlL"
      },
      "source": [
        "**EXPORT**"
      ]
    },
    {
      "cell_type": "code",
      "metadata": {
        "id": "sS9-6K19YXvq"
      },
      "source": [
        "! ./notebook2script.py 02_fully_connected.ipynb"
      ],
      "execution_count": null,
      "outputs": []
    }
  ]
}