{
  "nbformat": 4,
  "nbformat_minor": 0,
  "metadata": {
    "colab": {
      "name": "02_fully_connected.ipynb",
      "provenance": [],
      "collapsed_sections": [],
      "authorship_tag": "ABX9TyOiZ8Q3Zhtr0eH8UCEALbSl",
      "include_colab_link": true
    },
    "kernelspec": {
      "name": "python3",
      "display_name": "Python 3"
    }
  },
  "cells": [
    {
      "cell_type": "markdown",
      "metadata": {
        "id": "view-in-github",
        "colab_type": "text"
      },
      "source": [
        "<a href=\"https://colab.research.google.com/github/Hlompho-Dash/first_try_of_fastai/blob/master/02_fully_connected.ipynb\" target=\"_parent\"><img src=\"https://colab.research.google.com/assets/colab-badge.svg\" alt=\"Open In Colab\"/></a>"
      ]
    },
    {
      "cell_type": "code",
      "metadata": {
        "colab": {
          "base_uri": "https://localhost:8080/"
        },
        "id": "mipP0trDwyoL",
        "outputId": "6eea96f1-8749-42ae-a569-ffa53c0e971e"
      },
      "source": [
        "import os\r\n",
        "\r\n",
        "from google.colab import drive\r\n",
        "drive.mount('/content/gdrive')\r\n",
        "\r\n",
        "os.chdir('/content/gdrive/MyDrive/first_try_of_fastai')\r\n",
        "\r\n",
        "print(\"------------------------------------------------------------------\")"
      ],
      "execution_count": 1,
      "outputs": [
        {
          "output_type": "stream",
          "text": [
            "Mounted at /content/gdrive\n",
            "------------------------------------------------------------------\n"
          ],
          "name": "stdout"
        }
      ]
    },
    {
      "cell_type": "code",
      "metadata": {
        "colab": {
          "base_uri": "https://localhost:8080/"
        },
        "id": "XpjCqIANw0hv",
        "outputId": "cdccef79-12a3-4f0f-827d-fc0fff10c1fc"
      },
      "source": [
        "print(os.getcwd())"
      ],
      "execution_count": 2,
      "outputs": [
        {
          "output_type": "stream",
          "text": [
            "/content/gdrive/MyDrive/first_try_of_fastai\n"
          ],
          "name": "stdout"
        }
      ]
    },
    {
      "cell_type": "code",
      "metadata": {
        "id": "zCUzG4DRw3O9"
      },
      "source": [
        "#export\r\n",
        "\r\n",
        "from exp.nb_01 import *\r\n",
        "\r\n",
        "def get_data():\r\n",
        "  path2 = \"/content/gdrive/MyDrive/first_try_of_fastai/mnist (1).pkl.gz\"\r\n",
        "  with gzip.open(path2, \"rb\") as f:\r\n",
        "    ((x_train, y_train), (x_valid, y_valid), _) = pickle.load(f, encoding = \"latin-1\")\r\n",
        "  return map(tensor, (x_train,y_train,x_valid,y_valid))\r\n",
        "def normalize(x, m, s): return (x-m)/s"
      ],
      "execution_count": 3,
      "outputs": []
    },
    {
      "cell_type": "code",
      "metadata": {
        "id": "VE044fGtyDoM"
      },
      "source": [
        "x_train, y_train, x_valid, y_valid = get_data()"
      ],
      "execution_count": 4,
      "outputs": []
    },
    {
      "cell_type": "code",
      "metadata": {
        "colab": {
          "base_uri": "https://localhost:8080/"
        },
        "id": "A9ckRyIIyNP6",
        "outputId": "53561f23-893b-4a7d-f7ee-094c7796b815"
      },
      "source": [
        "train_mean, train_std = x_train.mean(),x_train.std()\r\n",
        "train_mean,train_std"
      ],
      "execution_count": 6,
      "outputs": [
        {
          "output_type": "execute_result",
          "data": {
            "text/plain": [
              "(tensor(0.1304), tensor(0.3073))"
            ]
          },
          "metadata": {
            "tags": []
          },
          "execution_count": 6
        }
      ]
    },
    {
      "cell_type": "code",
      "metadata": {
        "id": "Z45gBv7Vysik"
      },
      "source": [
        "x_train = normalize(x_train, train_mean, train_std)\r\n",
        "\r\n",
        "x_valid = normalize(x_valid, train_mean, train_std)"
      ],
      "execution_count": 7,
      "outputs": []
    },
    {
      "cell_type": "code",
      "metadata": {
        "colab": {
          "base_uri": "https://localhost:8080/"
        },
        "id": "YOlrgYPYy8eh",
        "outputId": "fc3a8ed8-be00-46f8-f77a-a8231788d198"
      },
      "source": [
        "train_mean, train_std = x_train.mean(), x_train.std()\r\n",
        "train_mean, train_std"
      ],
      "execution_count": 10,
      "outputs": [
        {
          "output_type": "execute_result",
          "data": {
            "text/plain": [
              "(tensor(3.8966e-08), tensor(1.))"
            ]
          },
          "metadata": {
            "tags": []
          },
          "execution_count": 10
        }
      ]
    },
    {
      "cell_type": "code",
      "metadata": {
        "id": "PL3yHCqHzUpz"
      },
      "source": [
        "#export\r\n",
        "\r\n",
        "def test_near_zero(a, tol=1e-3):  assert a.abs()<tol, f\"Near zero: {a}\""
      ],
      "execution_count": 11,
      "outputs": []
    },
    {
      "cell_type": "code",
      "metadata": {
        "id": "ddGcv_0cz2-h"
      },
      "source": [
        "test_near_zero(x_train.mean())\r\n",
        "test_near_zero(1-x_train.std())"
      ],
      "execution_count": 12,
      "outputs": []
    },
    {
      "cell_type": "code",
      "metadata": {
        "colab": {
          "base_uri": "https://localhost:8080/"
        },
        "id": "a0cuqWQo0AGm",
        "outputId": "ec455406-5934-412c-b5db-a13b9591cc10"
      },
      "source": [
        "n,m = x_train.shape\r\n",
        "c = y_train.max()+1\r\n",
        "n,m,c"
      ],
      "execution_count": 13,
      "outputs": [
        {
          "output_type": "execute_result",
          "data": {
            "text/plain": [
              "(50000, 784, tensor(10))"
            ]
          },
          "metadata": {
            "tags": []
          },
          "execution_count": 13
        }
      ]
    },
    {
      "cell_type": "markdown",
      "metadata": {
        "id": "jK16hnt70ZC8"
      },
      "source": [
        "**Basic architecture**"
      ]
    },
    {
      "cell_type": "code",
      "metadata": {
        "id": "wYhHICSz0dMh"
      },
      "source": [
        "nh = 50"
      ],
      "execution_count": 14,
      "outputs": []
    },
    {
      "cell_type": "code",
      "metadata": {
        "id": "U-aebs9n0fxn"
      },
      "source": [
        "w1 = torch.randn(m,nh)/math.sqrt(m)\r\n",
        "b1 = torch.zeros(nh)\r\n",
        "w2 = torch.randn(nh,1)/math.sqrt(nh )\r\n",
        "b2 = torch.zeros(1)"
      ],
      "execution_count": 16,
      "outputs": []
    },
    {
      "cell_type": "code",
      "metadata": {
        "id": "U10scU-41pSy"
      },
      "source": [
        "test_near_zero(w1.mean())\r\n",
        "test_near_zero(w1.std()-1/math.sqrt(m))"
      ],
      "execution_count": 17,
      "outputs": []
    },
    {
      "cell_type": "code",
      "metadata": {
        "colab": {
          "base_uri": "https://localhost:8080/"
        },
        "id": "yU-f7xsy1i8l",
        "outputId": "f65f495f-276b-4dd8-ee51-c7b01abb9e40"
      },
      "source": [
        "x_valid.mean(),x_valid.std()"
      ],
      "execution_count": 18,
      "outputs": [
        {
          "output_type": "execute_result",
          "data": {
            "text/plain": [
              "(tensor(-0.0059), tensor(0.9924))"
            ]
          },
          "metadata": {
            "tags": []
          },
          "execution_count": 18
        }
      ]
    },
    {
      "cell_type": "code",
      "metadata": {
        "id": "DMdeDjdg189B"
      },
      "source": [
        "def lin(x, w, b): return x@w + b"
      ],
      "execution_count": 24,
      "outputs": []
    },
    {
      "cell_type": "code",
      "metadata": {
        "colab": {
          "base_uri": "https://localhost:8080/"
        },
        "id": "FFZf1bvM2C3n",
        "outputId": "a549a5e4-cbb6-49d7-e91c-51ebefcf871b"
      },
      "source": [
        "t = lin(x_valid, w1, b1)\r\n",
        "t.mean(),t.std()"
      ],
      "execution_count": 26,
      "outputs": [
        {
          "output_type": "execute_result",
          "data": {
            "text/plain": [
              "(tensor(-0.0729), tensor(0.9993))"
            ]
          },
          "metadata": {
            "tags": []
          },
          "execution_count": 26
        }
      ]
    },
    {
      "cell_type": "code",
      "metadata": {
        "id": "vSOYhmu_2O6n"
      },
      "source": [
        "def relu(x): return x.clamp_min(0.)"
      ],
      "execution_count": 27,
      "outputs": []
    },
    {
      "cell_type": "code",
      "metadata": {
        "id": "YvE4OaXH2gXA"
      },
      "source": [
        "t = relu(lin(x_valid, w1, b1))"
      ],
      "execution_count": 28,
      "outputs": []
    },
    {
      "cell_type": "code",
      "metadata": {
        "colab": {
          "base_uri": "https://localhost:8080/"
        },
        "id": "3B3eBoU42mSZ",
        "outputId": "3ca3a53c-6362-41ff-ebef-6ee2c4be0225"
      },
      "source": [
        "t.mean(),t.std()"
      ],
      "execution_count": 29,
      "outputs": [
        {
          "output_type": "execute_result",
          "data": {
            "text/plain": [
              "(tensor(0.3611), tensor(0.5755))"
            ]
          },
          "metadata": {
            "tags": []
          },
          "execution_count": 29
        }
      ]
    },
    {
      "cell_type": "markdown",
      "metadata": {
        "id": "xoVMjLEV3w9d"
      },
      "source": [
        "**  FIXING THE VANISHING GRADIENT PROBLEM**"
      ]
    },
    {
      "cell_type": "code",
      "metadata": {
        "colab": {
          "base_uri": "https://localhost:8080/"
        },
        "id": "KPpDXAji34ZJ",
        "outputId": "287b3999-6dc2-4d3a-8785-ae6c4d58336e"
      },
      "source": [
        "w1 = torch.rand(m,nh)*math.sqrt(2/m)\r\n",
        "w1.mean(),w1.std()"
      ],
      "execution_count": 30,
      "outputs": [
        {
          "output_type": "execute_result",
          "data": {
            "text/plain": [
              "(tensor(0.0254), tensor(0.0146))"
            ]
          },
          "metadata": {
            "tags": []
          },
          "execution_count": 30
        }
      ]
    },
    {
      "cell_type": "code",
      "metadata": {
        "colab": {
          "base_uri": "https://localhost:8080/"
        },
        "id": "19aD31-v8-UE",
        "outputId": "5e44d840-0db5-40a8-9323-9bb504959b8f"
      },
      "source": [
        "t= relu(lin(x_valid, w1, b1))\r\n",
        "t.mean(), t.std()"
      ],
      "execution_count": 31,
      "outputs": [
        {
          "output_type": "execute_result",
          "data": {
            "text/plain": [
              "(tensor(0.9981), tensor(1.6849))"
            ]
          },
          "metadata": {
            "tags": []
          },
          "execution_count": 31
        }
      ]
    },
    {
      "cell_type": "code",
      "metadata": {
        "id": "MJkzBbL59HjC"
      },
      "source": [
        " #export\r\n",
        "\r\n",
        " from torch.nn import init"
      ],
      "execution_count": 32,
      "outputs": []
    },
    {
      "cell_type": "code",
      "metadata": {
        "id": "J0EKxA1b9jvg"
      },
      "source": [
        "w1 = torch.zeros(m,nh)\r\n",
        "init.kaiming_normal_(w1, mode = \"fan_out\")\r\n",
        "\r\n",
        "t = relu(lin(x_valid, w1, b1))"
      ],
      "execution_count": 33,
      "outputs": []
    },
    {
      "cell_type": "code",
      "metadata": {
        "id": "pV9hWkxo-Eu3"
      },
      "source": [
        "init.kaiming_normal_??"
      ],
      "execution_count": 34,
      "outputs": []
    },
    {
      "cell_type": "code",
      "metadata": {
        "colab": {
          "base_uri": "https://localhost:8080/"
        },
        "id": "Y5FFiCg--gwh",
        "outputId": "cc7569aa-9a83-4a2f-a7c8-81db983a4672"
      },
      "source": [
        "w1.mean(),w1.std()"
      ],
      "execution_count": 35,
      "outputs": [
        {
          "output_type": "execute_result",
          "data": {
            "text/plain": [
              "(tensor(-0.0002), tensor(0.0506))"
            ]
          },
          "metadata": {
            "tags": []
          },
          "execution_count": 35
        }
      ]
    },
    {
      "cell_type": "code",
      "metadata": {
        "colab": {
          "base_uri": "https://localhost:8080/"
        },
        "id": "H_vgwxMa-j1S",
        "outputId": "54c37735-d56f-4b01-85f0-8041cab9a22d"
      },
      "source": [
        "t.mean(),t.std()"
      ],
      "execution_count": 36,
      "outputs": [
        {
          "output_type": "execute_result",
          "data": {
            "text/plain": [
              "(tensor(0.5823), tensor(0.8165))"
            ]
          },
          "metadata": {
            "tags": []
          },
          "execution_count": 36
        }
      ]
    },
    {
      "cell_type": "code",
      "metadata": {
        "colab": {
          "base_uri": "https://localhost:8080/"
        },
        "id": "HCLc6KUg-sUg",
        "outputId": "42d2f46a-b913-4e17-ffc3-cab92c387633"
      },
      "source": [
        "w1.shape"
      ],
      "execution_count": 37,
      "outputs": [
        {
          "output_type": "execute_result",
          "data": {
            "text/plain": [
              "torch.Size([784, 50])"
            ]
          },
          "metadata": {
            "tags": []
          },
          "execution_count": 37
        }
      ]
    },
    {
      "cell_type": "code",
      "metadata": {
        "id": "1ne52Yz9-1T_"
      },
      "source": [
        "import torch.nn"
      ],
      "execution_count": 38,
      "outputs": []
    },
    {
      "cell_type": "code",
      "metadata": {
        "id": "wygn2KgM-5Zq"
      },
      "source": [
        "torch.nn.Linear.forward??"
      ],
      "execution_count": 42,
      "outputs": []
    },
    {
      "cell_type": "code",
      "metadata": {
        "id": "c9mgBg7P-9FF"
      },
      "source": [
        "torch.nn.functional.linear??"
      ],
      "execution_count": 44,
      "outputs": []
    },
    {
      "cell_type": "code",
      "metadata": {
        "id": "T4AQKJWH_Ja_"
      },
      "source": [
        "torch.nn.Conv2d??"
      ],
      "execution_count": 45,
      "outputs": []
    },
    {
      "cell_type": "code",
      "metadata": {
        "id": "zFVolHtv_E_8"
      },
      "source": [
        "torch.nn.modules.conv._ConvNd.reset_parameters??"
      ],
      "execution_count": 46,
      "outputs": []
    },
    {
      "cell_type": "code",
      "metadata": {
        "id": "ZVixlqLdAHEx"
      },
      "source": [
        "def relu(x): return x.clamp_min(0.) - 0.5"
      ],
      "execution_count": 49,
      "outputs": []
    },
    {
      "cell_type": "code",
      "metadata": {
        "colab": {
          "base_uri": "https://localhost:8080/"
        },
        "id": "u2VynhRJAw4w",
        "outputId": "30d08ead-0a64-43ec-adf2-fdf4d1642d5c"
      },
      "source": [
        "w1 = torch.randn(m,nh)*math.sqrt(2./m)\r\n",
        "t1 = relu(lin(x_valid, w1, b1))\r\n",
        "t1.mean(), t.std()"
      ],
      "execution_count": 50,
      "outputs": [
        {
          "output_type": "execute_result",
          "data": {
            "text/plain": [
              "(tensor(0.4475), tensor(0.8165))"
            ]
          },
          "metadata": {
            "tags": []
          },
          "execution_count": 50
        }
      ]
    },
    {
      "cell_type": "code",
      "metadata": {
        "id": "q8_d958zA_Ru"
      },
      "source": [
        "def model(xb):\r\n",
        "  l1 = lin(xb, w1, b1)\r\n",
        "  l2 = relu(l1)\r\n",
        "  l3 = lin(l2, w2, b2)\r\n",
        "\r\n",
        "  return l3"
      ],
      "execution_count": 51,
      "outputs": []
    },
    {
      "cell_type": "code",
      "metadata": {
        "colab": {
          "base_uri": "https://localhost:8080/"
        },
        "id": "SLYUYWV6BaCB",
        "outputId": "bb87d3e5-57f4-4765-f0ec-d51523927c7e"
      },
      "source": [
        "%timeit -n 10 _= model(x_valid)"
      ],
      "execution_count": 53,
      "outputs": [
        {
          "output_type": "stream",
          "text": [
            "10 loops, best of 3: 23.2 ms per loop\n"
          ],
          "name": "stdout"
        }
      ]
    },
    {
      "cell_type": "code",
      "metadata": {
        "id": "m3NZy7FeBjON"
      },
      "source": [
        ""
      ],
      "execution_count": null,
      "outputs": []
    },
    {
      "cell_type": "code",
      "metadata": {
        "id": "_VKK7XDzBfLC"
      },
      "source": [
        ""
      ],
      "execution_count": null,
      "outputs": []
    }
  ]
}