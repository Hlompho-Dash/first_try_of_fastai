{
 "cells": [
  {
   "cell_type": "code",
   "execution_count": 1,
   "metadata": {
    "colab": {
     "base_uri": "https://localhost:8080/"
    },
    "executionInfo": {
     "elapsed": 56711,
     "status": "ok",
     "timestamp": 1607784208546,
     "user": {
      "displayName": "Hlompho Lekaka",
      "photoUrl": "",
      "userId": "06191567976139515257"
     },
     "user_tz": -120
    },
    "id": "px7i8547nuIr",
    "outputId": "f0c79674-5ef4-4a15-d30d-3e042930b8d8"
   },
   "outputs": [
    {
     "name": "stdout",
     "output_type": "stream",
     "text": [
      "Mounted at /content/gdrive\n",
      "------------------------------------------------------------------\n"
     ]
    }
   ],
   "source": [
    "import os\n",
    "\n",
    "from google.colab import drive\n",
    "drive.mount('/content/gdrive')\n",
    "\n",
    "os.chdir('/content/gdrive/MyDrive/first_try_of_fastai')\n",
    "\n",
    "print(\"-----------------------------------------------------------------\")"
   ]
  },
  {
   "cell_type": "code",
   "execution_count": 2,
   "metadata": {
    "colab": {
     "base_uri": "https://localhost:8080/"
    },
    "executionInfo": {
     "elapsed": 56658,
     "status": "ok",
     "timestamp": 1607784208555,
     "user": {
      "displayName": "Hlompho Lekaka",
      "photoUrl": "",
      "userId": "06191567976139515257"
     },
     "user_tz": -120
    },
    "id": "XCrBaEY-2vJa",
    "outputId": "fdf87933-c536-4f76-edc5-b6da7bc07de9"
   },
   "outputs": [
    {
     "name": "stdout",
     "output_type": "stream",
     "text": [
      "/content/gdrive/MyDrive/first_try_of_fastai\n"
     ]
    }
   ],
   "source": [
    "print(os.getcwd())"
   ]
  },
  {
   "cell_type": "code",
   "execution_count": 3,
   "metadata": {
    "executionInfo": {
     "elapsed": 56651,
     "status": "ok",
     "timestamp": 1607784208561,
     "user": {
      "displayName": "Hlompho Lekaka",
      "photoUrl": "",
      "userId": "06191567976139515257"
     },
     "user_tz": -120
    },
    "id": "O_vfvf3eqgWk"
   },
   "outputs": [],
   "source": [
    "#export\n",
    "from exp.nb_00 import *\n",
    "import operator\n",
    "\n",
    "def test(a,b,cmp, cname=None):\n",
    "  if cname is None: cname = cmp.__name__\n",
    "  assert cmp(a,b),f\"{cname}:\\n{a}\\n{b}\"\n",
    "\n",
    "def test_eq(a,b): test(a,b,operator.eq,\"==\")\n"
   ]
  },
  {
   "cell_type": "code",
   "execution_count": 4,
   "metadata": {
    "executionInfo": {
     "elapsed": 56646,
     "status": "ok",
     "timestamp": 1607784208566,
     "user": {
      "displayName": "Hlompho Lekaka",
      "photoUrl": "",
      "userId": "06191567976139515257"
     },
     "user_tz": -120
    },
    "id": "EqSUuLVmrS1o"
   },
   "outputs": [],
   "source": [
    "test_eq(TEST,\"test\")"
   ]
  },
  {
   "cell_type": "code",
   "execution_count": 5,
   "metadata": {
    "executionInfo": {
     "elapsed": 60309,
     "status": "ok",
     "timestamp": 1607784212239,
     "user": {
      "displayName": "Hlompho Lekaka",
      "photoUrl": "",
      "userId": "06191567976139515257"
     },
     "user_tz": -120
    },
    "id": "eXnh6_lPq3XH"
   },
   "outputs": [],
   "source": [
    " #export\n",
    "\n",
    "from pathlib import Path\n",
    "from IPython.core.debugger import set_trace\n",
    "from fastai import datasets\n",
    "import pickle, gzip, math, torch, matplotlib as mpl\n",
    "import matplotlib.pyplot as plt\n",
    "from torch import tensor\n",
    "\n",
    "MNIST_URL = \"http://deeplearning.net/data/mnist/mnist.pkl\""
   ]
  },
  {
   "cell_type": "code",
   "execution_count": 6,
   "metadata": {
    "executionInfo": {
     "elapsed": 60274,
     "status": "ok",
     "timestamp": 1607784212243,
     "user": {
      "displayName": "Hlompho Lekaka",
      "photoUrl": "",
      "userId": "06191567976139515257"
     },
     "user_tz": -120
    },
    "id": "tX4ekW9J0IL2"
   },
   "outputs": [],
   "source": [
    "#path = datasets.download_data(MNIST_URL)\n",
    "#path\n",
    "\n",
    "path1 = \"/content/gdrive/MyDrive/first_try_of_fastai/mnist.pkl.gz\"\n",
    "path2 = \"/content/gdrive/MyDrive/first_try_of_fastai/mnist (1).pkl.gz\""
   ]
  },
  {
   "cell_type": "code",
   "execution_count": 7,
   "metadata": {
    "executionInfo": {
     "elapsed": 62148,
     "status": "ok",
     "timestamp": 1607784214148,
     "user": {
      "displayName": "Hlompho Lekaka",
      "photoUrl": "",
      "userId": "06191567976139515257"
     },
     "user_tz": -120
    },
    "id": "eDmxy78C0aMV"
   },
   "outputs": [],
   "source": [
    "with gzip.open(path2, \"rb\") as f:\n",
    "  ((x_train, y_train), (x_valid, y_valid), _) = pickle.load(f, encoding = \"latin-1\")"
   ]
  },
  {
   "cell_type": "code",
   "execution_count": 8,
   "metadata": {
    "executionInfo": {
     "elapsed": 62120,
     "status": "ok",
     "timestamp": 1607784214154,
     "user": {
      "displayName": "Hlompho Lekaka",
      "photoUrl": "",
      "userId": "06191567976139515257"
     },
     "user_tz": -120
    },
    "id": "_jlDZzYbNebw"
   },
   "outputs": [],
   "source": [
    "??tensor"
   ]
  },
  {
   "cell_type": "code",
   "execution_count": 9,
   "metadata": {
    "colab": {
     "base_uri": "https://localhost:8080/"
    },
    "executionInfo": {
     "elapsed": 62361,
     "status": "ok",
     "timestamp": 1607784214430,
     "user": {
      "displayName": "Hlompho Lekaka",
      "photoUrl": "",
      "userId": "06191567976139515257"
     },
     "user_tz": -120
    },
    "id": "_pS9BgRMMqFH",
    "outputId": "5b750155-15b7-4c37-b79d-98da06016c1c"
   },
   "outputs": [
    {
     "data": {
      "text/plain": [
       "(tensor([[0., 0., 0.,  ..., 0., 0., 0.],\n",
       "         [0., 0., 0.,  ..., 0., 0., 0.],\n",
       "         [0., 0., 0.,  ..., 0., 0., 0.],\n",
       "         ...,\n",
       "         [0., 0., 0.,  ..., 0., 0., 0.],\n",
       "         [0., 0., 0.,  ..., 0., 0., 0.],\n",
       "         [0., 0., 0.,  ..., 0., 0., 0.]]),\n",
       " torch.Size([50000, 784]),\n",
       " tensor([5, 0, 4,  ..., 8, 4, 8]),\n",
       " torch.Size([50000]),\n",
       " tensor(0),\n",
       " tensor(9))"
      ]
     },
     "execution_count": 9,
     "metadata": {
      "tags": []
     },
     "output_type": "execute_result"
    }
   ],
   "source": [
    "x_train,y_train,x_valid,y_vlaid = map(tensor, (x_train,y_train,x_valid,y_valid))\n",
    "n,c = x_train.shape\n",
    "\n",
    "x_train, x_train.shape,y_train, y_train.shape, y_train.min(),y_train.max()"
   ]
  },
  {
   "cell_type": "code",
   "execution_count": 10,
   "metadata": {
    "executionInfo": {
     "elapsed": 62322,
     "status": "ok",
     "timestamp": 1607784214432,
     "user": {
      "displayName": "Hlompho Lekaka",
      "photoUrl": "",
      "userId": "06191567976139515257"
     },
     "user_tz": -120
    },
    "id": "_6jEtLBjN7ht"
   },
   "outputs": [],
   "source": [
    "assert n==y_train.shape[0]==50000\n",
    "\n",
    "test_eq(c,28*28)\n",
    "test_eq(y_train.min(),0)\n",
    "test_eq(y_train.max(),9)"
   ]
  },
  {
   "cell_type": "code",
   "execution_count": 11,
   "metadata": {
    "executionInfo": {
     "elapsed": 62293,
     "status": "ok",
     "timestamp": 1607784214434,
     "user": {
      "displayName": "Hlompho Lekaka",
      "photoUrl": "",
      "userId": "06191567976139515257"
     },
     "user_tz": -120
    },
    "id": "6x1Oppn5O8wK"
   },
   "outputs": [],
   "source": [
    "mpl.rcParams[\"image.cmap\"] = \"gray\""
   ]
  },
  {
   "cell_type": "code",
   "execution_count": 12,
   "metadata": {
    "executionInfo": {
     "elapsed": 62266,
     "status": "ok",
     "timestamp": 1607784214437,
     "user": {
      "displayName": "Hlompho Lekaka",
      "photoUrl": "",
      "userId": "06191567976139515257"
     },
     "user_tz": -120
    },
    "id": "A2viuDzuPEHS"
   },
   "outputs": [],
   "source": [
    "img = x_train[0]"
   ]
  },
  {
   "cell_type": "code",
   "execution_count": 13,
   "metadata": {
    "colab": {
     "base_uri": "https://localhost:8080/",
     "height": 35
    },
    "executionInfo": {
     "elapsed": 62269,
     "status": "ok",
     "timestamp": 1607784214480,
     "user": {
      "displayName": "Hlompho Lekaka",
      "photoUrl": "",
      "userId": "06191567976139515257"
     },
     "user_tz": -120
    },
    "id": "mzgevMg4PQAo",
    "outputId": "9c7e7ecc-08a0-4bbe-ad0d-b512fe6f4a8a"
   },
   "outputs": [
    {
     "data": {
      "application/vnd.google.colaboratory.intrinsic+json": {
       "type": "string"
      },
      "text/plain": [
       "'torch.FloatTensor'"
      ]
     },
     "execution_count": 13,
     "metadata": {
      "tags": []
     },
     "output_type": "execute_result"
    }
   ],
   "source": [
    "img.view(28,28).type()"
   ]
  },
  {
   "cell_type": "code",
   "execution_count": 14,
   "metadata": {
    "colab": {
     "base_uri": "https://localhost:8080/",
     "height": 283
    },
    "executionInfo": {
     "elapsed": 62215,
     "status": "ok",
     "timestamp": 1607784214483,
     "user": {
      "displayName": "Hlompho Lekaka",
      "photoUrl": "",
      "userId": "06191567976139515257"
     },
     "user_tz": -120
    },
    "id": "teSw61PQPV3q",
    "outputId": "98a75444-f09f-4618-c42a-fe17c2e432b2"
   },
   "outputs": [
    {
     "data": {
      "text/plain": [
       "<matplotlib.image.AxesImage at 0x7ff9956e6748>"
      ]
     },
     "execution_count": 14,
     "metadata": {
      "tags": []
     },
     "output_type": "execute_result"
    },
    {
     "data": {
      "image/png": "[encoded data removed]",
      "text/plain": [
       "<Figure size 432x288 with 1 Axes>"
      ]
     },
     "metadata": {
      "tags": []
     },
     "output_type": "display_data"
    }
   ],
   "source": [
    "plt.imshow(img.view(28,28))"
   ]
  },
  {
   "cell_type": "markdown",
   "metadata": {
    "id": "_5MUU19bQAEp"
   },
   "source": [
    "**Initial Python model**"
   ]
  },
  {
   "cell_type": "markdown",
   "metadata": {
    "id": "EiyW_D8IQvZI"
   },
   "source": [
    "y = Ax + B MODEL"
   ]
  },
  {
   "cell_type": "code",
   "execution_count": 15,
   "metadata": {
    "executionInfo": {
     "elapsed": 62171,
     "status": "ok",
     "timestamp": 1607784214485,
     "user": {
      "displayName": "Hlompho Lekaka",
      "photoUrl": "",
      "userId": "06191567976139515257"
     },
     "user_tz": -120
    },
    "id": "KlqmeVNuPa35"
   },
   "outputs": [],
   "source": [
    "weights = torch.randn(784,10)"
   ]
  },
  {
   "cell_type": "code",
   "execution_count": 16,
   "metadata": {
    "executionInfo": {
     "elapsed": 62143,
     "status": "ok",
     "timestamp": 1607784214487,
     "user": {
      "displayName": "Hlompho Lekaka",
      "photoUrl": "",
      "userId": "06191567976139515257"
     },
     "user_tz": -120
    },
    "id": "IIgknaoRQgY9"
   },
   "outputs": [],
   "source": [
    "bias = torch.zeros(10)"
   ]
  },
  {
   "cell_type": "code",
   "execution_count": 16,
   "metadata": {
    "executionInfo": {
     "elapsed": 62135,
     "status": "ok",
     "timestamp": 1607784214489,
     "user": {
      "displayName": "Hlompho Lekaka",
      "photoUrl": "",
      "userId": "06191567976139515257"
     },
     "user_tz": -120
    },
    "id": "ehnz36TqQjh5"
   },
   "outputs": [],
   "source": []
  },
  {
   "cell_type": "code",
   "execution_count": 17,
   "metadata": {
    "executionInfo": {
     "elapsed": 62102,
     "status": "ok",
     "timestamp": 1607784214492,
     "user": {
      "displayName": "Hlompho Lekaka",
      "photoUrl": "",
      "userId": "06191567976139515257"
     },
     "user_tz": -120
    },
    "id": "K1fZ5KxkQaBv"
   },
   "outputs": [],
   "source": [
    "def matmul(a,b):\n",
    "  ar,ac = a.shape\n",
    "  br,bc = b.shape\n",
    "\n",
    "  assert ac==br\n",
    "  c = torch.zeros(ar, bc)\n",
    "  for i in range(ar):\n",
    "    for j in range(bc):\n",
    "      for k in range(ac):\n",
    "        c[i,j] += a[i,k] * b[k,j]\n",
    "  return c"
   ]
  },
  {
   "cell_type": "code",
   "execution_count": 18,
   "metadata": {
    "executionInfo": {
     "elapsed": 62069,
     "status": "ok",
     "timestamp": 1607784214494,
     "user": {
      "displayName": "Hlompho Lekaka",
      "photoUrl": "",
      "userId": "06191567976139515257"
     },
     "user_tz": -120
    },
    "id": "BtOVBVtnRpFk"
   },
   "outputs": [],
   "source": [
    "m1 = x_valid[:5]\n",
    "m2 = weights"
   ]
  },
  {
   "cell_type": "code",
   "execution_count": 19,
   "metadata": {
    "colab": {
     "base_uri": "https://localhost:8080/"
    },
    "executionInfo": {
     "elapsed": 62026,
     "status": "ok",
     "timestamp": 1607784214497,
     "user": {
      "displayName": "Hlompho Lekaka",
      "photoUrl": "",
      "userId": "06191567976139515257"
     },
     "user_tz": -120
    },
    "id": "SimJGFEZR5rj",
    "outputId": "8dc0f886-2339-4313-c145-1775b5b617cb"
   },
   "outputs": [
    {
     "data": {
      "text/plain": [
       "(torch.Size([5, 784]), torch.Size([784, 10]))"
      ]
     },
     "execution_count": 19,
     "metadata": {
      "tags": []
     },
     "output_type": "execute_result"
    }
   ],
   "source": [
    "m1.shape,m2.shape"
   ]
  },
  {
   "cell_type": "code",
   "execution_count": 20,
   "metadata": {
    "colab": {
     "base_uri": "https://localhost:8080/"
    },
    "executionInfo": {
     "elapsed": 63837,
     "status": "ok",
     "timestamp": 1607784216351,
     "user": {
      "displayName": "Hlompho Lekaka",
      "photoUrl": "",
      "userId": "06191567976139515257"
     },
     "user_tz": -120
    },
    "id": "0CdzZW5FR8RJ",
    "outputId": "e0c79781-a1f1-4a7c-ab38-79d4c6567b39"
   },
   "outputs": [
    {
     "name": "stdout",
     "output_type": "stream",
     "text": [
      "CPU times: user 848 ms, sys: 0 ns, total: 848 ms\n",
      "Wall time: 861 ms\n"
     ]
    }
   ],
   "source": [
    "%time t1=matmul(m1,m2)"
   ]
  },
  {
   "cell_type": "code",
   "execution_count": 21,
   "metadata": {
    "colab": {
     "base_uri": "https://localhost:8080/"
    },
    "executionInfo": {
     "elapsed": 63809,
     "status": "ok",
     "timestamp": 1607784216369,
     "user": {
      "displayName": "Hlompho Lekaka",
      "photoUrl": "",
      "userId": "06191567976139515257"
     },
     "user_tz": -120
    },
    "id": "1sx5CkwFShO3",
    "outputId": "eafb1e9f-bb98-4087-a97a-641404b4bd68"
   },
   "outputs": [
    {
     "data": {
      "text/plain": [
       "torch.Size([5, 10])"
      ]
     },
     "execution_count": 21,
     "metadata": {
      "tags": []
     },
     "output_type": "execute_result"
    }
   ],
   "source": [
    "t1.shape"
   ]
  },
  {
   "cell_type": "code",
   "execution_count": 22,
   "metadata": {
    "colab": {
     "base_uri": "https://localhost:8080/"
    },
    "executionInfo": {
     "elapsed": 63771,
     "status": "ok",
     "timestamp": 1607784216373,
     "user": {
      "displayName": "Hlompho Lekaka",
      "photoUrl": "",
      "userId": "06191567976139515257"
     },
     "user_tz": -120
    },
    "id": "0f88TCP0Slej",
    "outputId": "76538186-47f5-4d38-e09a-ee8f25d8554f"
   },
   "outputs": [
    {
     "data": {
      "text/plain": [
       "(tensor([10,  6, -4]), tensor([2, 8, 7]))"
      ]
     },
     "execution_count": 22,
     "metadata": {
      "tags": []
     },
     "output_type": "execute_result"
    }
   ],
   "source": [
    "a = tensor([10,6,-4])\n",
    "b = tensor([2,8,7])\n",
    "\n",
    "a,b"
   ]
  },
  {
   "cell_type": "code",
   "execution_count": 23,
   "metadata": {
    "colab": {
     "base_uri": "https://localhost:8080/"
    },
    "executionInfo": {
     "elapsed": 63736,
     "status": "ok",
     "timestamp": 1607784216378,
     "user": {
      "displayName": "Hlompho Lekaka",
      "photoUrl": "",
      "userId": "06191567976139515257"
     },
     "user_tz": -120
    },
    "id": "M4YKMLUcTQlC",
    "outputId": "29d32c28-b5be-4a3c-8d03-59d9381fd3b6"
   },
   "outputs": [
    {
     "data": {
      "text/plain": [
       "tensor([12, 14,  3])"
      ]
     },
     "execution_count": 23,
     "metadata": {
      "tags": []
     },
     "output_type": "execute_result"
    }
   ],
   "source": [
    "a + b"
   ]
  },
  {
   "cell_type": "code",
   "execution_count": 24,
   "metadata": {
    "colab": {
     "base_uri": "https://localhost:8080/"
    },
    "executionInfo": {
     "elapsed": 63706,
     "status": "ok",
     "timestamp": 1607784216383,
     "user": {
      "displayName": "Hlompho Lekaka",
      "photoUrl": "",
      "userId": "06191567976139515257"
     },
     "user_tz": -120
    },
    "id": "IgQrv01PTSdH",
    "outputId": "b5c26716-9c04-4bce-e48d-f11329cec0d1"
   },
   "outputs": [
    {
     "data": {
      "text/plain": [
       "tensor(0.6667)"
      ]
     },
     "execution_count": 24,
     "metadata": {
      "tags": []
     },
     "output_type": "execute_result"
    }
   ],
   "source": [
    "(a < b).float().mean()"
   ]
  },
  {
   "cell_type": "code",
   "execution_count": 25,
   "metadata": {
    "colab": {
     "base_uri": "https://localhost:8080/"
    },
    "executionInfo": {
     "elapsed": 63674,
     "status": "ok",
     "timestamp": 1607784216387,
     "user": {
      "displayName": "Hlompho Lekaka",
      "photoUrl": "",
      "userId": "06191567976139515257"
     },
     "user_tz": -120
    },
    "id": "1ebS75IPTLnE",
    "outputId": "fa4ad7cb-b21b-4721-a0bf-e8f737b51233"
   },
   "outputs": [
    {
     "data": {
      "text/plain": [
       "tensor([[1., 2., 3.],\n",
       "        [4., 5., 6.],\n",
       "        [7., 8., 9.]])"
      ]
     },
     "execution_count": 25,
     "metadata": {
      "tags": []
     },
     "output_type": "execute_result"
    }
   ],
   "source": [
    "m = tensor([[1.,2,3],[4,5,6],[7,8,9]])\n",
    "m"
   ]
  },
  {
   "cell_type": "markdown",
   "metadata": {
    "id": "FTO2DDXBT3wA"
   },
   "source": [
    "Check out https://course19.fast.ai/videos/?lesson=8 at 48:09 to see how to write latex in jupyter notebooks. \n",
    "\n",
    "Go to the wiki page of the equation an copy and paste the equation in latex into jupyter notebook \n",
    "\n",
    "like below:\n",
    "\n",
    "$$\\|A\\|_{F}={\\sqrt {\\operatorname {spur} \\left(A^{H}A\\right)}}={\\sqrt {\\operatorname {spur} \\left(AA^{H}\\right)}}=\\|A^{H}\\|_{F}$$\n",
    "\n",
    "$$\\|A\\|_{\\text{F}}={\\sqrt {\\sum _{i=1}^{m}\\sum _{j=1}^{n}|a_{ij}|^{2}}}={\\sqrt {\\operatorname {trace} \\left(A^{*}A\\right)}}={\\sqrt {\\sum _{i=1}^{\\min\\{m,n\\}}\\sigma _{i}^{2}(A)}},$$\n",
    "\n",
    "\n",
    "or on archix you can click download source and it will give you the original TEX file for the paper then your can just copy the equation"
   ]
  },
  {
   "cell_type": "code",
   "execution_count": 26,
   "metadata": {
    "colab": {
     "base_uri": "https://localhost:8080/"
    },
    "executionInfo": {
     "elapsed": 63644,
     "status": "ok",
     "timestamp": 1607784216391,
     "user": {
      "displayName": "Hlompho Lekaka",
      "photoUrl": "",
      "userId": "06191567976139515257"
     },
     "user_tz": -120
    },
    "id": "iQsYOZX5TspJ",
    "outputId": "3a9c4493-4ee6-403d-8830-6b73fa58848e"
   },
   "outputs": [
    {
     "data": {
      "text/plain": [
       "tensor(16.8819)"
      ]
     },
     "execution_count": 26,
     "metadata": {
      "tags": []
     },
     "output_type": "execute_result"
    }
   ],
   "source": [
    "(m*m).sum().sqrt()"
   ]
  },
  {
   "cell_type": "markdown",
   "metadata": {
    "id": "VoKO9WjuZYfm"
   },
   "source": [
    "**ELEMENT WISE MULTIPLICATION AND SUMMATION**"
   ]
  },
  {
   "cell_type": "code",
   "execution_count": 27,
   "metadata": {
    "executionInfo": {
     "elapsed": 63611,
     "status": "ok",
     "timestamp": 1607784216396,
     "user": {
      "displayName": "Hlompho Lekaka",
      "photoUrl": "",
      "userId": "06191567976139515257"
     },
     "user_tz": -120
    },
    "id": "PW9b3-xxZLWg"
   },
   "outputs": [],
   "source": [
    "def matmul(a,b):\n",
    "  ar,ac = a.shape\n",
    "  br,bc = b.shape\n",
    "\n",
    "  assert ac==br\n",
    "  c = torch.zeros(ar, bc)\n",
    "  for i in range(ar):\n",
    "    for j in range(bc):\n",
    "        c[i,j] = (a[i,:] * b[:,j]).sum()\n",
    "  return c"
   ]
  },
  {
   "cell_type": "code",
   "execution_count": 28,
   "metadata": {
    "colab": {
     "base_uri": "https://localhost:8080/"
    },
    "executionInfo": {
     "elapsed": 63578,
     "status": "ok",
     "timestamp": 1607784216399,
     "user": {
      "displayName": "Hlompho Lekaka",
      "photoUrl": "",
      "userId": "06191567976139515257"
     },
     "user_tz": -120
    },
    "id": "d1MG4JpfZw21",
    "outputId": "f86fd45f-1050-4c61-cc2c-065c219bd1c4"
   },
   "outputs": [
    {
     "name": "stdout",
     "output_type": "stream",
     "text": [
      "1 loop, best of 3: 1.82 ms per loop\n"
     ]
    }
   ],
   "source": [
    "%timeit -n 1 _=matmul(m1,m2)"
   ]
  },
  {
   "cell_type": "code",
   "execution_count": 32,
   "metadata": {
    "colab": {
     "base_uri": "https://localhost:8080/"
    },
    "executionInfo": {
     "elapsed": 1201,
     "status": "ok",
     "timestamp": 1607784887564,
     "user": {
      "displayName": "Hlompho Lekaka",
      "photoUrl": "",
      "userId": "06191567976139515257"
     },
     "user_tz": -120
    },
    "id": "YY_3evxVaXNT",
    "outputId": "371fcff2-89a5-4935-9ee8-3f6e4b06f00b"
   },
   "outputs": [
    {
     "name": "stdout",
     "output_type": "stream",
     "text": [
      "CPU times: user 2.38 ms, sys: 62 µs, total: 2.44 ms\n",
      "Wall time: 3.41 ms\n"
     ]
    }
   ],
   "source": [
    "%time _= matmul(m1,m2)"
   ]
  },
  {
   "cell_type": "code",
   "execution_count": 30,
   "metadata": {
    "colab": {
     "base_uri": "https://localhost:8080/"
    },
    "executionInfo": {
     "elapsed": 63450,
     "status": "ok",
     "timestamp": 1607784216405,
     "user": {
      "displayName": "Hlompho Lekaka",
      "photoUrl": "",
      "userId": "06191567976139515257"
     },
     "user_tz": -120
    },
    "id": "3PWH31yJam_V",
    "outputId": "4505d9ff-af8e-4359-ecc3-b237a608a2c5"
   },
   "outputs": [
    {
     "data": {
      "text/plain": [
       "178.02"
      ]
     },
     "execution_count": 30,
     "metadata": {
      "tags": []
     },
     "output_type": "execute_result"
    }
   ],
   "source": [
    "890.1/5"
   ]
  },
  {
   "cell_type": "code",
   "execution_count": 35,
   "metadata": {
    "executionInfo": {
     "elapsed": 1461,
     "status": "ok",
     "timestamp": 1607785055478,
     "user": {
      "displayName": "Hlompho Lekaka",
      "photoUrl": "",
      "userId": "06191567976139515257"
     },
     "user_tz": -120
    },
    "id": "rmG9-w6taTHF"
   },
   "outputs": [],
   "source": [
    "#export\n",
    "\n",
    "def near(a, b): return torch.allclose(a, b, rtol=1e-3, atol=1e-5)\n",
    "def test_near(a, b): test(a, b, near)"
   ]
  },
  {
   "cell_type": "code",
   "execution_count": 37,
   "metadata": {
    "executionInfo": {
     "elapsed": 1879,
     "status": "ok",
     "timestamp": 1607785075260,
     "user": {
      "displayName": "Hlompho Lekaka",
      "photoUrl": "",
      "userId": "06191567976139515257"
     },
     "user_tz": -120
    },
    "id": "Ax0gm97acBu6"
   },
   "outputs": [],
   "source": [
    "test_near(t1, matmul(m1, m2))"
   ]
  },
  {
   "cell_type": "markdown",
   "metadata": {
    "id": "WgGgF5Xvlevq"
   },
   "source": [
    "**BROADCASTING**"
   ]
  },
  {
   "cell_type": "code",
   "execution_count": 55,
   "metadata": {
    "colab": {
     "base_uri": "https://localhost:8080/"
    },
    "executionInfo": {
     "elapsed": 1596,
     "status": "ok",
     "timestamp": 1607787773966,
     "user": {
      "displayName": "Hlompho Lekaka",
      "photoUrl": "",
      "userId": "06191567976139515257"
     },
     "user_tz": -120
    },
    "id": "VhrU5lonlln-",
    "outputId": "a8292646-0471-4e39-d090-c549299a228e"
   },
   "outputs": [
    {
     "data": {
      "text/plain": [
       "(tensor([10, 20, 30]), torch.Size([3]))"
      ]
     },
     "execution_count": 55,
     "metadata": {
      "tags": []
     },
     "output_type": "execute_result"
    }
   ],
   "source": [
    "c = tensor([10,20,30])\n",
    "c,c.shape"
   ]
  },
  {
   "cell_type": "code",
   "execution_count": 42,
   "metadata": {
    "colab": {
     "base_uri": "https://localhost:8080/"
    },
    "executionInfo": {
     "elapsed": 1407,
     "status": "ok",
     "timestamp": 1607787429166,
     "user": {
      "displayName": "Hlompho Lekaka",
      "photoUrl": "",
      "userId": "06191567976139515257"
     },
     "user_tz": -120
    },
    "id": "mFbJCKgPmQRw",
    "outputId": "36a3a0e3-eff6-482b-c9ae-30327fa4cb4c"
   },
   "outputs": [
    {
     "data": {
      "text/plain": [
       "tensor([[1., 2., 3.],\n",
       "        [4., 5., 6.],\n",
       "        [7., 8., 9.]])"
      ]
     },
     "execution_count": 42,
     "metadata": {
      "tags": []
     },
     "output_type": "execute_result"
    }
   ],
   "source": [
    "m"
   ]
  },
  {
   "cell_type": "code",
   "execution_count": 43,
   "metadata": {
    "colab": {
     "base_uri": "https://localhost:8080/"
    },
    "executionInfo": {
     "elapsed": 1275,
     "status": "ok",
     "timestamp": 1607787451628,
     "user": {
      "displayName": "Hlompho Lekaka",
      "photoUrl": "",
      "userId": "06191567976139515257"
     },
     "user_tz": -120
    },
    "id": "LiDsQ1f4mTrI",
    "outputId": "9e0585d6-b3c4-4e7f-db34-57214b275e1f"
   },
   "outputs": [
    {
     "data": {
      "text/plain": [
       "(torch.Size([3, 3]), torch.Size([3]))"
      ]
     },
     "execution_count": 43,
     "metadata": {
      "tags": []
     },
     "output_type": "execute_result"
    }
   ],
   "source": [
    "m.shape,c.shape"
   ]
  },
  {
   "cell_type": "code",
   "execution_count": 45,
   "metadata": {
    "colab": {
     "base_uri": "https://localhost:8080/"
    },
    "executionInfo": {
     "elapsed": 1220,
     "status": "ok",
     "timestamp": 1607787463165,
     "user": {
      "displayName": "Hlompho Lekaka",
      "photoUrl": "",
      "userId": "06191567976139515257"
     },
     "user_tz": -120
    },
    "id": "oU7vmfDlmYgB",
    "outputId": "e478228b-9f22-492c-b18f-9ef3e83c80dc"
   },
   "outputs": [
    {
     "data": {
      "text/plain": [
       "tensor([[11., 22., 33.],\n",
       "        [14., 25., 36.],\n",
       "        [17., 28., 39.]])"
      ]
     },
     "execution_count": 45,
     "metadata": {
      "tags": []
     },
     "output_type": "execute_result"
    }
   ],
   "source": [
    "m + c"
   ]
  },
  {
   "cell_type": "code",
   "execution_count": 47,
   "metadata": {
    "colab": {
     "base_uri": "https://localhost:8080/"
    },
    "executionInfo": {
     "elapsed": 2359,
     "status": "ok",
     "timestamp": 1607787480364,
     "user": {
      "displayName": "Hlompho Lekaka",
      "photoUrl": "",
      "userId": "06191567976139515257"
     },
     "user_tz": -120
    },
    "id": "Vgq8soOYmbxG",
    "outputId": "24cddd81-d1b0-4653-fe62-da1f2b71e384"
   },
   "outputs": [
    {
     "data": {
      "text/plain": [
       "tensor([[11., 22., 33.],\n",
       "        [14., 25., 36.],\n",
       "        [17., 28., 39.]])"
      ]
     },
     "execution_count": 47,
     "metadata": {
      "tags": []
     },
     "output_type": "execute_result"
    }
   ],
   "source": [
    "c + m"
   ]
  },
  {
   "cell_type": "code",
   "execution_count": 48,
   "metadata": {
    "executionInfo": {
     "elapsed": 7210,
     "status": "ok",
     "timestamp": 1607787499473,
     "user": {
      "displayName": "Hlompho Lekaka",
      "photoUrl": "",
      "userId": "06191567976139515257"
     },
     "user_tz": -120
    },
    "id": "YaJcKGAGmfli"
   },
   "outputs": [],
   "source": [
    "t = c.expand_as(m)"
   ]
  },
  {
   "cell_type": "code",
   "execution_count": 49,
   "metadata": {
    "colab": {
     "base_uri": "https://localhost:8080/"
    },
    "executionInfo": {
     "elapsed": 2159,
     "status": "ok",
     "timestamp": 1607787511186,
     "user": {
      "displayName": "Hlompho Lekaka",
      "photoUrl": "",
      "userId": "06191567976139515257"
     },
     "user_tz": -120
    },
    "id": "Bto7niIMmjVH",
    "outputId": "9d9227e0-d1b6-42bd-be8c-a086e1c092bc"
   },
   "outputs": [
    {
     "data": {
      "text/plain": [
       "tensor([[10, 20, 30],\n",
       "        [10, 20, 30],\n",
       "        [10, 20, 30]])"
      ]
     },
     "execution_count": 49,
     "metadata": {
      "tags": []
     },
     "output_type": "execute_result"
    }
   ],
   "source": [
    "t"
   ]
  },
  {
   "cell_type": "code",
   "execution_count": 50,
   "metadata": {
    "colab": {
     "base_uri": "https://localhost:8080/"
    },
    "executionInfo": {
     "elapsed": 2600,
     "status": "ok",
     "timestamp": 1607787519139,
     "user": {
      "displayName": "Hlompho Lekaka",
      "photoUrl": "",
      "userId": "06191567976139515257"
     },
     "user_tz": -120
    },
    "id": "Jc4H3utqmmuQ",
    "outputId": "42f69406-ddfb-42af-f189-281e0a3667b4"
   },
   "outputs": [
    {
     "data": {
      "text/plain": [
       " 10\n",
       " 20\n",
       " 30\n",
       "[torch.LongStorage of size 3]"
      ]
     },
     "execution_count": 50,
     "metadata": {
      "tags": []
     },
     "output_type": "execute_result"
    }
   ],
   "source": [
    "t.storage()"
   ]
  },
  {
   "cell_type": "code",
   "execution_count": 51,
   "metadata": {
    "colab": {
     "base_uri": "https://localhost:8080/"
    },
    "executionInfo": {
     "elapsed": 3078,
     "status": "ok",
     "timestamp": 1607787535250,
     "user": {
      "displayName": "Hlompho Lekaka",
      "photoUrl": "",
      "userId": "06191567976139515257"
     },
     "user_tz": -120
    },
    "id": "iTgBQHPmmo_d",
    "outputId": "dbd400f2-c869-42f9-de34-bbac0b600c06"
   },
   "outputs": [
    {
     "data": {
      "text/plain": [
       "((0, 1), torch.Size([3, 3]))"
      ]
     },
     "execution_count": 51,
     "metadata": {
      "tags": []
     },
     "output_type": "execute_result"
    }
   ],
   "source": [
    "t.stride(),t.shape"
   ]
  },
  {
   "cell_type": "code",
   "execution_count": 52,
   "metadata": {
    "colab": {
     "base_uri": "https://localhost:8080/"
    },
    "executionInfo": {
     "elapsed": 2383,
     "status": "ok",
     "timestamp": 1607787629145,
     "user": {
      "displayName": "Hlompho Lekaka",
      "photoUrl": "",
      "userId": "06191567976139515257"
     },
     "user_tz": -120
    },
    "id": "kS54wrYdms0A",
    "outputId": "51f5a02f-93a8-43d1-eb19-4ad51dde017a"
   },
   "outputs": [
    {
     "data": {
      "text/plain": [
       "tensor([[10, 20, 30]])"
      ]
     },
     "execution_count": 52,
     "metadata": {
      "tags": []
     },
     "output_type": "execute_result"
    }
   ],
   "source": [
    "c.unsqueeze(0)"
   ]
  },
  {
   "cell_type": "code",
   "execution_count": 53,
   "metadata": {
    "colab": {
     "base_uri": "https://localhost:8080/"
    },
    "executionInfo": {
     "elapsed": 1129,
     "status": "ok",
     "timestamp": 1607787640947,
     "user": {
      "displayName": "Hlompho Lekaka",
      "photoUrl": "",
      "userId": "06191567976139515257"
     },
     "user_tz": -120
    },
    "id": "RfUpUhvjnD7D",
    "outputId": "f0ae478b-0c27-4bf0-a9a8-36f6bdc46f3e"
   },
   "outputs": [
    {
     "data": {
      "text/plain": [
       "tensor([[10],\n",
       "        [20],\n",
       "        [30]])"
      ]
     },
     "execution_count": 53,
     "metadata": {
      "tags": []
     },
     "output_type": "execute_result"
    }
   ],
   "source": [
    "c.unsqueeze(1)"
   ]
  },
  {
   "cell_type": "code",
   "execution_count": 54,
   "metadata": {
    "colab": {
     "base_uri": "https://localhost:8080/"
    },
    "executionInfo": {
     "elapsed": 4916,
     "status": "ok",
     "timestamp": 1607787726347,
     "user": {
      "displayName": "Hlompho Lekaka",
      "photoUrl": "",
      "userId": "06191567976139515257"
     },
     "user_tz": -120
    },
    "id": "3jSW_ap9nGk4",
    "outputId": "b9d5de61-e7a0-462b-b5e4-9aa8ac3ec924"
   },
   "outputs": [
    {
     "data": {
      "text/plain": [
       "(torch.Size([3]), torch.Size([1, 3]), torch.Size([3, 1]))"
      ]
     },
     "execution_count": 54,
     "metadata": {
      "tags": []
     },
     "output_type": "execute_result"
    }
   ],
   "source": [
    "c.shape,c.unsqueeze(0).shape,c.unsqueeze(1).shape"
   ]
  },
  {
   "cell_type": "code",
   "execution_count": 56,
   "metadata": {
    "colab": {
     "base_uri": "https://localhost:8080/"
    },
    "executionInfo": {
     "elapsed": 3175,
     "status": "ok",
     "timestamp": 1607787825152,
     "user": {
      "displayName": "Hlompho Lekaka",
      "photoUrl": "",
      "userId": "06191567976139515257"
     },
     "user_tz": -120
    },
    "id": "IQY2yXcynbED",
    "outputId": "29d460cb-9483-4fa9-fe62-16d7a0bebe9a"
   },
   "outputs": [
    {
     "data": {
      "text/plain": [
       "(torch.Size([3]), torch.Size([1, 3]), torch.Size([3, 1]))"
      ]
     },
     "execution_count": 56,
     "metadata": {
      "tags": []
     },
     "output_type": "execute_result"
    }
   ],
   "source": [
    "c.shape,c[None,:].shape,c[:,None].shape"
   ]
  },
  {
   "cell_type": "code",
   "execution_count": 57,
   "metadata": {
    "colab": {
     "base_uri": "https://localhost:8080/"
    },
    "executionInfo": {
     "elapsed": 1932,
     "status": "ok",
     "timestamp": 1607787855425,
     "user": {
      "displayName": "Hlompho Lekaka",
      "photoUrl": "",
      "userId": "06191567976139515257"
     },
     "user_tz": -120
    },
    "id": "YOg5kPN4nzlh",
    "outputId": "e319c09b-8d19-4d0f-a9c1-90e043c0096f"
   },
   "outputs": [
    {
     "data": {
      "text/plain": [
       "tensor([[10, 10, 10],\n",
       "        [20, 20, 20],\n",
       "        [30, 30, 30]])"
      ]
     },
     "execution_count": 57,
     "metadata": {
      "tags": []
     },
     "output_type": "execute_result"
    }
   ],
   "source": [
    "c[:,None].expand_as(m)"
   ]
  },
  {
   "cell_type": "code",
   "execution_count": 59,
   "metadata": {
    "colab": {
     "base_uri": "https://localhost:8080/"
    },
    "executionInfo": {
     "elapsed": 1923,
     "status": "ok",
     "timestamp": 1607787898923,
     "user": {
      "displayName": "Hlompho Lekaka",
      "photoUrl": "",
      "userId": "06191567976139515257"
     },
     "user_tz": -120
    },
    "id": "Nvfwi1IBn7UK",
    "outputId": "bc4604f6-35d5-4c28-8617-2deea09c5593"
   },
   "outputs": [
    {
     "data": {
      "text/plain": [
       "tensor([[11., 22., 33.],\n",
       "        [14., 25., 36.],\n",
       "        [17., 28., 39.]])"
      ]
     },
     "execution_count": 59,
     "metadata": {
      "tags": []
     },
     "output_type": "execute_result"
    }
   ],
   "source": [
    "m + c[None,]"
   ]
  },
  {
   "cell_type": "markdown",
   "metadata": {
    "id": "4-UnFfSaoewU"
   },
   "source": [
    "**Matmul with broadcasting**"
   ]
  },
  {
   "cell_type": "code",
   "execution_count": 60,
   "metadata": {
    "executionInfo": {
     "elapsed": 3942,
     "status": "ok",
     "timestamp": 1607788332270,
     "user": {
      "displayName": "Hlompho Lekaka",
      "photoUrl": "",
      "userId": "06191567976139515257"
     },
     "user_tz": -120
    },
    "id": "g-RQ75hdoqE8"
   },
   "outputs": [],
   "source": [
    "def matmul(a, b):\n",
    "  ar,ac = a.shape\n",
    "  br,bc = b.shape\n",
    "  assert ac == br\n",
    "  c = torch.zeros(ar,bc) \n",
    "  for i in range(ar):\n",
    "    c[i] = (a[i].unsqueeze(-1) * b).sum(dim=0) #dim refers to which axis and * mean elementwise @ mean matmul\n",
    "  return c"
   ]
  },
  {
   "cell_type": "code",
   "execution_count": 61,
   "metadata": {
    "colab": {
     "base_uri": "https://localhost:8080/"
    },
    "executionInfo": {
     "elapsed": 3070,
     "status": "ok",
     "timestamp": 1607788359397,
     "user": {
      "displayName": "Hlompho Lekaka",
      "photoUrl": "",
      "userId": "06191567976139515257"
     },
     "user_tz": -120
    },
    "id": "2xUQ2VOspvD7",
    "outputId": "f25e97b0-f0f1-4c1b-8a88-67bd77bff5a8"
   },
   "outputs": [
    {
     "name": "stdout",
     "output_type": "stream",
     "text": [
      "10 loops, best of 3: 316 µs per loop\n"
     ]
    }
   ],
   "source": [
    "timeit -n 10 _=matmul(m1,m2)"
   ]
  },
  {
   "cell_type": "code",
   "execution_count": 62,
   "metadata": {
    "colab": {
     "base_uri": "https://localhost:8080/"
    },
    "executionInfo": {
     "elapsed": 2874,
     "status": "ok",
     "timestamp": 1607788399750,
     "user": {
      "displayName": "Hlompho Lekaka",
      "photoUrl": "",
      "userId": "06191567976139515257"
     },
     "user_tz": -120
    },
    "id": "00kx45YQp13I",
    "outputId": "0ebd1388-bf3e-4703-b707-fed039481e9d"
   },
   "outputs": [
    {
     "data": {
      "text/plain": [
       "3194.945848375451"
      ]
     },
     "execution_count": 62,
     "metadata": {
      "tags": []
     },
     "output_type": "execute_result"
    }
   ],
   "source": [
    "885000/277"
   ]
  },
  {
   "cell_type": "code",
   "execution_count": 63,
   "metadata": {
    "executionInfo": {
     "elapsed": 3414,
     "status": "ok",
     "timestamp": 1607788419670,
     "user": {
      "displayName": "Hlompho Lekaka",
      "photoUrl": "",
      "userId": "06191567976139515257"
     },
     "user_tz": -120
    },
    "id": "kaVE11IHp_zB"
   },
   "outputs": [],
   "source": [
    "test_near(t1, matmul(m1,m2))"
   ]
  },
  {
   "cell_type": "markdown",
   "metadata": {
    "id": "yuvv2waZronK"
   },
   "source": [
    "**EINSTEIN SUMMATION**"
   ]
  },
  {
   "cell_type": "code",
   "execution_count": 66,
   "metadata": {
    "executionInfo": {
     "elapsed": 16001,
     "status": "ok",
     "timestamp": 1607788974975,
     "user": {
      "displayName": "Hlompho Lekaka",
      "photoUrl": "",
      "userId": "06191567976139515257"
     },
     "user_tz": -120
    },
    "id": "ol_EQgxvqESe"
   },
   "outputs": [],
   "source": [
    "def matmul(a,b): return torch.einsum(\"ik,kj->ij\", a,b)"
   ]
  },
  {
   "cell_type": "code",
   "execution_count": 67,
   "metadata": {
    "colab": {
     "base_uri": "https://localhost:8080/"
    },
    "executionInfo": {
     "elapsed": 4756,
     "status": "ok",
     "timestamp": 1607789005709,
     "user": {
      "displayName": "Hlompho Lekaka",
      "photoUrl": "",
      "userId": "06191567976139515257"
     },
     "user_tz": -120
    },
    "id": "g1BeElVdr8_q",
    "outputId": "4d0b5f8b-c2b4-4fc1-a491-ace69acfaf6d"
   },
   "outputs": [
    {
     "name": "stdout",
     "output_type": "stream",
     "text": [
      "The slowest run took 100.53 times longer than the fastest. This could mean that an intermediate result is being cached.\n",
      "10 loops, best of 3: 35.6 µs per loop\n"
     ]
    }
   ],
   "source": [
    "%timeit -n 10 _ = matmul(m1,m2)"
   ]
  },
  {
   "cell_type": "code",
   "execution_count": 68,
   "metadata": {
    "colab": {
     "base_uri": "https://localhost:8080/"
    },
    "executionInfo": {
     "elapsed": 4962,
     "status": "ok",
     "timestamp": 1607789071368,
     "user": {
      "displayName": "Hlompho Lekaka",
      "photoUrl": "",
      "userId": "06191567976139515257"
     },
     "user_tz": -120
    },
    "id": "5827dQKosTTY",
    "outputId": "19244687-192d-4aba-cfd5-a30ad6ad3544"
   },
   "outputs": [
    {
     "data": {
      "text/plain": [
       "16090.90909090909"
      ]
     },
     "execution_count": 68,
     "metadata": {
      "tags": []
     },
     "output_type": "execute_result"
    }
   ],
   "source": [
    "885000/55"
   ]
  },
  {
   "cell_type": "code",
   "execution_count": 69,
   "metadata": {
    "executionInfo": {
     "elapsed": 2158,
     "status": "ok",
     "timestamp": 1607789141395,
     "user": {
      "displayName": "Hlompho Lekaka",
      "photoUrl": "",
      "userId": "06191567976139515257"
     },
     "user_tz": -120
    },
    "id": "JgrZrSpxsjYI"
   },
   "outputs": [],
   "source": [
    "test_near(t1, matmul(m1,m2))"
   ]
  },
  {
   "cell_type": "markdown",
   "metadata": {
    "id": "nL8yYLQmtrSi"
   },
   "source": [
    "**PYTORCH INTERNAL COMMANDS FOR MATRIX MULTIPLY**"
   ]
  },
  {
   "cell_type": "code",
   "execution_count": 70,
   "metadata": {
    "colab": {
     "base_uri": "https://localhost:8080/"
    },
    "executionInfo": {
     "elapsed": 2122,
     "status": "ok",
     "timestamp": 1607789480215,
     "user": {
      "displayName": "Hlompho Lekaka",
      "photoUrl": "",
      "userId": "06191567976139515257"
     },
     "user_tz": -120
    },
    "id": "hfR7XAimt5Vv",
    "outputId": "5342deeb-3d83-43fd-99df-09dafc2cad3d"
   },
   "outputs": [
    {
     "name": "stdout",
     "output_type": "stream",
     "text": [
      "The slowest run took 8.46 times longer than the fastest. This could mean that an intermediate result is being cached.\n",
      "10 loops, best of 3: 14.9 µs per loop\n"
     ]
    }
   ],
   "source": [
    "%timeit -n 10 _= m1.matmul(m2)"
   ]
  },
  {
   "cell_type": "code",
   "execution_count": 71,
   "metadata": {
    "executionInfo": {
     "elapsed": 4497,
     "status": "ok",
     "timestamp": 1607789513279,
     "user": {
      "displayName": "Hlompho Lekaka",
      "photoUrl": "",
      "userId": "06191567976139515257"
     },
     "user_tz": -120
    },
    "id": "kQWuiJlnuGI4"
   },
   "outputs": [],
   "source": [
    "t2 = m1@m2"
   ]
  },
  {
   "cell_type": "code",
   "execution_count": 72,
   "metadata": {
    "executionInfo": {
     "elapsed": 3614,
     "status": "ok",
     "timestamp": 1607789525115,
     "user": {
      "displayName": "Hlompho Lekaka",
      "photoUrl": "",
      "userId": "06191567976139515257"
     },
     "user_tz": -120
    },
    "id": "HxCq62WiuPXX"
   },
   "outputs": [],
   "source": [
    "test_near(t1,t2)"
   ]
  },
  {
   "cell_type": "code",
   "execution_count": null,
   "metadata": {
    "id": "cexSrgWEuSNc"
   },
   "outputs": [],
   "source": []
  },
  {
   "cell_type": "code",
   "execution_count": null,
   "metadata": {
    "colab": {
     "background_save": true
    },
    "id": "k5APEdk8t8EY"
   },
   "outputs": [
    {
     "name": "stdout",
     "output_type": "stream",
     "text": [
      "Converted 01_matmul.ipynb to exp/nb_01.py\n"
     ]
    }
   ],
   "source": [
    "!python notebook2script.py "
   ]
  }
 ],
 "metadata": {
  "colab": {
   "authorship_tag": "ABX9TyMQ3dLARKV3pvNcIj1B+yGj",
   "collapsed_sections": [],
   "name": "01_matmul.ipynb",
   "version": ""
  },
  "kernelspec": {
   "display_name": "Python 3",
   "language": "python",
   "name": "python3"
  },
  "language_info": {
   "codemirror_mode": {
    "name": "ipython",
    "version": 3
   },
   "file_extension": ".py",
   "mimetype": "text/x-python",
   "name": "python",
   "nbconvert_exporter": "python",
   "pygments_lexer": "ipython3",
   "version": "3.7.4"
  }
 },
 "nbformat": 4,
 "nbformat_minor": 1
}
