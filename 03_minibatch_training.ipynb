{
  "nbformat": 4,
  "nbformat_minor": 0,
  "metadata": {
    "colab": {
      "name": "03_minibatch_training.ipynb",
      "provenance": [],
      "collapsed_sections": [],
      "authorship_tag": "ABX9TyOuV+4AnD2kC+nKEjS4gGhh",
      "include_colab_link": true
    },
    "kernelspec": {
      "name": "python3",
      "display_name": "Python 3"
    }
  },
  "cells": [
    {
      "cell_type": "markdown",
      "metadata": {
        "id": "view-in-github",
        "colab_type": "text"
      },
      "source": [
        "<a href=\"https://colab.research.google.com/github/Hlompho-Dash/first_try_of_fastai/blob/master/03_minibatch_training.ipynb\" target=\"_parent\"><img src=\"https://colab.research.google.com/assets/colab-badge.svg\" alt=\"Open In Colab\"/></a>"
      ]
    },
    {
      "cell_type": "code",
      "metadata": {
        "colab": {
          "base_uri": "https://localhost:8080/"
        },
        "id": "frD3yyh2EZ-w",
        "outputId": "a0fc0005-36fb-4b05-fbfc-09f28cd57e67"
      },
      "source": [
        "import os\r\n",
        "\r\n",
        "from google.colab import drive\r\n",
        "drive.mount('/content/gdrive')\r\n",
        "\r\n",
        "os.chdir('/content/gdrive/MyDrive/first_try_of_fastai')\r\n",
        "\r\n",
        "print(\"------------------------------------------------------------------\")"
      ],
      "execution_count": 64,
      "outputs": [
        {
          "output_type": "stream",
          "text": [
            "Drive already mounted at /content/gdrive; to attempt to forcibly remount, call drive.mount(\"/content/gdrive\", force_remount=True).\n",
            "------------------------------------------------------------------\n"
          ],
          "name": "stdout"
        }
      ]
    },
    {
      "cell_type": "code",
      "metadata": {
        "id": "ECzr17vHEmMT"
      },
      "source": [
        "#export\r\n",
        "os.chdir('/content/gdrive/MyDrive/first_try_of_fastai/exp')\r\n",
        "from nb_02 import *\r\n",
        "import torch.nn.functional as F\r\n",
        "os.chdir('/content/gdrive/MyDrive/first_try_of_fastai')"
      ],
      "execution_count": 65,
      "outputs": []
    },
    {
      "cell_type": "markdown",
      "metadata": {
        "id": "3y8oFCpBOUgs"
      },
      "source": [
        "**Data**"
      ]
    },
    {
      "cell_type": "code",
      "metadata": {
        "id": "fahlHFLUHBd7"
      },
      "source": [
        "mpl.rcParams[\"image.cmap\"] = \"gray\""
      ],
      "execution_count": 66,
      "outputs": []
    },
    {
      "cell_type": "code",
      "metadata": {
        "id": "qdVUvephH2uW"
      },
      "source": [
        "x_train,y_train,x_valid,y_valid = get_data()"
      ],
      "execution_count": 67,
      "outputs": []
    },
    {
      "cell_type": "code",
      "metadata": {
        "id": "Wl0_EAssH-NY"
      },
      "source": [
        "n,m = x_train.shape\r\n",
        "c = y_train.max() + 1\r\n",
        "nh = 50"
      ],
      "execution_count": 68,
      "outputs": []
    },
    {
      "cell_type": "code",
      "metadata": {
        "id": "UIgLnIE-KC7g"
      },
      "source": [
        "class Model(nn.Module):\r\n",
        "  def __init__(self, n_in, nh, n_out):\r\n",
        "    super().__init__()\r\n",
        "    self.layers = [nn.Linear(n_in, nh), nn.ReLU(), nn.Linear(nh, n_out)]\r\n",
        "  def __call__(self, x):\r\n",
        "    for l in self.layers: x = l(x)\r\n",
        "    return x"
      ],
      "execution_count": 69,
      "outputs": []
    },
    {
      "cell_type": "code",
      "metadata": {
        "id": "bzHIeW3jKBEp"
      },
      "source": [
        "model = Model(m,nh,10)"
      ],
      "execution_count": 70,
      "outputs": []
    },
    {
      "cell_type": "code",
      "metadata": {
        "id": "B97rKgbfLVcE"
      },
      "source": [
        "pred = model(x_train)"
      ],
      "execution_count": 71,
      "outputs": []
    },
    {
      "cell_type": "markdown",
      "metadata": {
        "id": "fDF90vdNLaVg"
      },
      "source": [
        "**Cross Entropy Loss**"
      ]
    },
    {
      "cell_type": "code",
      "metadata": {
        "id": "d_6hGKfjLdyv"
      },
      "source": [
        "def log_softmax(x): return (x.exp()/(x.exp().sum(-1,keepdim=True))).log()"
      ],
      "execution_count": 72,
      "outputs": []
    },
    {
      "cell_type": "code",
      "metadata": {
        "colab": {
          "base_uri": "https://localhost:8080/"
        },
        "id": "P9996arfMNro",
        "outputId": "88467201-811f-45b8-d0de-c5a8e2943fde"
      },
      "source": [
        "sm_pred = log_softmax(pred)\r\n",
        "sm_pred"
      ],
      "execution_count": 73,
      "outputs": [
        {
          "output_type": "execute_result",
          "data": {
            "text/plain": [
              "tensor([[-2.2677, -2.3908, -2.1650,  ..., -2.2638, -2.3224, -2.2185],\n",
              "        [-2.2558, -2.3419, -2.2427,  ..., -2.2805, -2.2712, -2.2322],\n",
              "        [-2.2938, -2.3642, -2.2378,  ..., -2.2178, -2.3266, -2.2225],\n",
              "        ...,\n",
              "        [-2.2646, -2.3623, -2.1283,  ..., -2.1977, -2.2917, -2.3566],\n",
              "        [-2.2970, -2.4061, -2.1789,  ..., -2.2479, -2.3271, -2.2348],\n",
              "        [-2.2604, -2.4039, -2.0971,  ..., -2.2922, -2.3473, -2.2571]],\n",
              "       grad_fn=<LogBackward>)"
            ]
          },
          "metadata": {
            "tags": []
          },
          "execution_count": 73
        }
      ]
    },
    {
      "cell_type": "code",
      "metadata": {
        "colab": {
          "base_uri": "https://localhost:8080/"
        },
        "id": "wV_bZSeHMVvS",
        "outputId": "00a1fbe7-4e4c-49d4-b95f-af5875ed963f"
      },
      "source": [
        "y_train[:3]"
      ],
      "execution_count": 74,
      "outputs": [
        {
          "output_type": "execute_result",
          "data": {
            "text/plain": [
              "tensor([5, 0, 4])"
            ]
          },
          "metadata": {
            "tags": []
          },
          "execution_count": 74
        }
      ]
    },
    {
      "cell_type": "code",
      "metadata": {
        "colab": {
          "base_uri": "https://localhost:8080/"
        },
        "id": "9E-Dz_bpM6D8",
        "outputId": "8da52faf-dfae-41f5-c7b6-6a08562f7636"
      },
      "source": [
        "sm_pred[[0,1,2], [5,0,4]]"
      ],
      "execution_count": 75,
      "outputs": [
        {
          "output_type": "execute_result",
          "data": {
            "text/plain": [
              "tensor([-2.2823, -2.2558, -2.3313], grad_fn=<IndexBackward>)"
            ]
          },
          "metadata": {
            "tags": []
          },
          "execution_count": 75
        }
      ]
    },
    {
      "cell_type": "code",
      "metadata": {
        "colab": {
          "base_uri": "https://localhost:8080/"
        },
        "id": "AVkndZUBNCCp",
        "outputId": "e318a3e5-4594-409f-ebea-554e627eb815"
      },
      "source": [
        "x_train.shape[0]"
      ],
      "execution_count": 76,
      "outputs": [
        {
          "output_type": "execute_result",
          "data": {
            "text/plain": [
              "50000"
            ]
          },
          "metadata": {
            "tags": []
          },
          "execution_count": 76
        }
      ]
    },
    {
      "cell_type": "code",
      "metadata": {
        "id": "ty8PZqA8NECW"
      },
      "source": [
        "def nll(input, target): return -input[range(target.shape[0]), target].mean()"
      ],
      "execution_count": 77,
      "outputs": []
    },
    {
      "cell_type": "code",
      "metadata": {
        "id": "4j2WAvuzNWm0"
      },
      "source": [
        "loss = nll(sm_pred, y_train)"
      ],
      "execution_count": 78,
      "outputs": []
    },
    {
      "cell_type": "code",
      "metadata": {
        "colab": {
          "base_uri": "https://localhost:8080/"
        },
        "id": "xWurukrdOfvT",
        "outputId": "cccbca8a-49c8-418c-8ce8-d0328034a609"
      },
      "source": [
        "loss"
      ],
      "execution_count": 79,
      "outputs": [
        {
          "output_type": "execute_result",
          "data": {
            "text/plain": [
              "tensor(2.3043, grad_fn=<NegBackward>)"
            ]
          },
          "metadata": {
            "tags": []
          },
          "execution_count": 79
        }
      ]
    },
    {
      "cell_type": "code",
      "metadata": {
        "id": "DgOZ-KvkOlV0"
      },
      "source": [
        "def log_softmax(x): return x - x.exp().sum(-1,keepdim=True).log()"
      ],
      "execution_count": 80,
      "outputs": []
    },
    {
      "cell_type": "code",
      "metadata": {
        "id": "-jjfdGD_OxVO"
      },
      "source": [
        "test_near(nll(log_softmax(pred), y_train), loss)"
      ],
      "execution_count": 81,
      "outputs": []
    },
    {
      "cell_type": "code",
      "metadata": {
        "id": "jRG8RTwfPLdQ"
      },
      "source": [
        "def logsumexp(x):\r\n",
        "  m = x.max(-1)[0]\r\n",
        "  return m + (x-m[:,None]).exp().sum(-1).log()"
      ],
      "execution_count": 82,
      "outputs": []
    },
    {
      "cell_type": "code",
      "metadata": {
        "id": "MsM1rxqjQSFx"
      },
      "source": [
        "test_near(logsumexp(pred), pred.logsumexp(-1))"
      ],
      "execution_count": 83,
      "outputs": []
    },
    {
      "cell_type": "code",
      "metadata": {
        "id": "__9G1NYwQZxo"
      },
      "source": [
        "def log_softmax(x): return x - x.logsumexp(-1, keepdim = True)"
      ],
      "execution_count": 84,
      "outputs": []
    },
    {
      "cell_type": "code",
      "metadata": {
        "id": "-HqkacsSQuvP"
      },
      "source": [
        "test_near(nll(log_softmax(pred),y_train), loss)"
      ],
      "execution_count": 85,
      "outputs": []
    },
    {
      "cell_type": "code",
      "metadata": {
        "id": "Omz4jwC6Rch4"
      },
      "source": [
        "test_near(F.nll_loss(F.log_softmax(pred,-1), y_train), loss)"
      ],
      "execution_count": 86,
      "outputs": []
    },
    {
      "cell_type": "code",
      "metadata": {
        "id": "jP-MGrAOSvSV"
      },
      "source": [
        "test_near(F.cross_entropy(pred, y_train), loss)"
      ],
      "execution_count": 87,
      "outputs": []
    },
    {
      "cell_type": "code",
      "metadata": {
        "id": "Yw67yIC8S3qG"
      },
      "source": [
        ""
      ],
      "execution_count": 87,
      "outputs": []
    },
    {
      "cell_type": "markdown",
      "metadata": {
        "id": "T0vUyo7LZf46"
      },
      "source": [
        "BASIC TRAINING LOOP"
      ]
    },
    {
      "cell_type": "code",
      "metadata": {
        "id": "3yeLGKwOZnGL"
      },
      "source": [
        "loss_func = F.cross_entropy"
      ],
      "execution_count": 91,
      "outputs": []
    },
    {
      "cell_type": "code",
      "metadata": {
        "id": "q3RT9ne_aif6"
      },
      "source": [
        "#export\r\n",
        "\r\n",
        "def accuracy(out, yb): return (torch.argmax(out, dim = 1) == yb).float().mean()"
      ],
      "execution_count": 89,
      "outputs": []
    },
    {
      "cell_type": "code",
      "metadata": {
        "colab": {
          "base_uri": "https://localhost:8080/"
        },
        "id": "dzv3PBvzb2S6",
        "outputId": "961b9131-c8a0-43fc-9d85-28393a59b0ac"
      },
      "source": [
        "bs = 64\r\n",
        "xb = x_train[0:bs]\r\n",
        "preds = model(xb)\r\n",
        "preds[0]"
      ],
      "execution_count": 90,
      "outputs": [
        {
          "output_type": "execute_result",
          "data": {
            "text/plain": [
              "tensor([ 0.0081, -0.1150,  0.1108, -0.0554, -0.0728, -0.0065, -0.1934,  0.0120,\n",
              "        -0.0466,  0.0573], grad_fn=<SelectBackward>)"
            ]
          },
          "metadata": {
            "tags": []
          },
          "execution_count": 90
        }
      ]
    },
    {
      "cell_type": "code",
      "metadata": {
        "colab": {
          "base_uri": "https://localhost:8080/"
        },
        "id": "E9dNP0q7cIsu",
        "outputId": "6ba33fed-c61f-424d-dbe5-c88bc2175ced"
      },
      "source": [
        "yb = y_train[0:bs]\r\n",
        "loss_func(preds, yb)"
      ],
      "execution_count": 92,
      "outputs": [
        {
          "output_type": "execute_result",
          "data": {
            "text/plain": [
              "tensor(2.2999, grad_fn=<NllLossBackward>)"
            ]
          },
          "metadata": {
            "tags": []
          },
          "execution_count": 92
        }
      ]
    },
    {
      "cell_type": "code",
      "metadata": {
        "colab": {
          "base_uri": "https://localhost:8080/"
        },
        "id": "ShOQ7LljcWvC",
        "outputId": "87d53747-ad63-4d89-e442-f840d0adaa38"
      },
      "source": [
        "accuracy(preds, yb)"
      ],
      "execution_count": 93,
      "outputs": [
        {
          "output_type": "execute_result",
          "data": {
            "text/plain": [
              "tensor(0.0938)"
            ]
          },
          "metadata": {
            "tags": []
          },
          "execution_count": 93
        }
      ]
    },
    {
      "cell_type": "code",
      "metadata": {
        "id": "TUx7OJMbcbMt"
      },
      "source": [
        "lr = 0.5\r\n",
        "epochs = 1"
      ],
      "execution_count": 94,
      "outputs": []
    },
    {
      "cell_type": "code",
      "metadata": {
        "id": "WUVO0CZoci8w"
      },
      "source": [
        "for epoch in range(epochs):\r\n",
        "  for i in range((n-1)//bs + 1):\r\n",
        "    start_i = i*bs\r\n",
        "    end_i = start_i*bs\r\n",
        "\r\n",
        "    xb = x_train[start_i:end_i]\r\n",
        "    yb = y_train[start_i:end_i]\r\n",
        "\r\n",
        "    loss = loss_func(model(xb), yb)\r\n",
        "\r\n",
        "    loss.backward()\r\n",
        "    with torch.no_grad():\r\n",
        "      for l in model.layers:\r\n",
        "        if hasattr(l, \"weight\"):\r\n",
        "          l.weight -= l.weight.grad * lr\r\n",
        "          l.bias -= l.bias.grad * lr\r\n",
        "\r\n",
        "          l.weight.grad.zero_()\r\n",
        "          l.bias.grad.zero_()"
      ],
      "execution_count": 96,
      "outputs": []
    },
    {
      "cell_type": "code",
      "metadata": {
        "colab": {
          "base_uri": "https://localhost:8080/"
        },
        "id": "jdU0GJcrebOS",
        "outputId": "fff99966-9c28-497d-d060-b0f6da7ad2bc"
      },
      "source": [
        "loss_func(model(xb), yb), accuracy(model(xb), yb)"
      ],
      "execution_count": 98,
      "outputs": [
        {
          "output_type": "execute_result",
          "data": {
            "text/plain": [
              "(tensor(0.0061, grad_fn=<NllLossBackward>), tensor(1.))"
            ]
          },
          "metadata": {
            "tags": []
          },
          "execution_count": 98
        }
      ]
    },
    {
      "cell_type": "markdown",
      "metadata": {
        "id": "eCF1_n1HeyDk"
      },
      "source": [
        "**UNSING PARAMEMTERS AND OPTIM**"
      ]
    },
    {
      "cell_type": "markdown",
      "metadata": {
        "id": "DoBJ2f91e33E"
      },
      "source": [
        "Parameters"
      ]
    },
    {
      "cell_type": "code",
      "metadata": {
        "id": "BcYJUxrJexUR"
      },
      "source": [
        ""
      ],
      "execution_count": null,
      "outputs": []
    }
  ]
}