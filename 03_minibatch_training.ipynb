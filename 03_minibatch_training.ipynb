{
  "nbformat": 4,
  "nbformat_minor": 0,
  "metadata": {
    "colab": {
      "name": "03_minibatch_training.ipynb",
      "provenance": [],
      "collapsed_sections": [],
      "authorship_tag": "ABX9TyOuM/d1Sxom7UU4dUkviiSY",
      "include_colab_link": true
    },
    "kernelspec": {
      "name": "python3",
      "display_name": "Python 3"
    }
  },
  "cells": [
    {
      "cell_type": "markdown",
      "metadata": {
        "id": "view-in-github",
        "colab_type": "text"
      },
      "source": [
        "<a href=\"https://colab.research.google.com/github/Hlompho-Dash/first_try_of_fastai/blob/master/03_minibatch_training.ipynb\" target=\"_parent\"><img src=\"https://colab.research.google.com/assets/colab-badge.svg\" alt=\"Open In Colab\"/></a>"
      ]
    },
    {
      "cell_type": "code",
      "metadata": {
        "colab": {
          "base_uri": "https://localhost:8080/"
        },
        "id": "frD3yyh2EZ-w",
        "outputId": "9e953fcf-8707-4ee2-bba3-462a688b910f"
      },
      "source": [
        "import os\r\n",
        "\r\n",
        "from google.colab import drive\r\n",
        "drive.mount('/content/gdrive')\r\n",
        "\r\n",
        "os.chdir('/content/gdrive/MyDrive/first_try_of_fastai')\r\n",
        "\r\n",
        "print(\"------------------------------------------------------------------\")"
      ],
      "execution_count": 1,
      "outputs": [
        {
          "output_type": "stream",
          "text": [
            "Drive already mounted at /content/gdrive; to attempt to forcibly remount, call drive.mount(\"/content/gdrive\", force_remount=True).\n",
            "------------------------------------------------------------------\n"
          ],
          "name": "stdout"
        }
      ]
    },
    {
      "cell_type": "code",
      "metadata": {
        "id": "ECzr17vHEmMT"
      },
      "source": [
        "#export\r\n",
        "os.chdir('/content/gdrive/MyDrive/first_try_of_fastai/exp')\r\n",
        "from nb_02 import *\r\n",
        "import torch.nn.functional as F\r\n",
        "os.chdir('/content/gdrive/MyDrive/first_try_of_fastai')"
      ],
      "execution_count": 2,
      "outputs": []
    },
    {
      "cell_type": "markdown",
      "metadata": {
        "id": "3y8oFCpBOUgs"
      },
      "source": [
        "**Data**"
      ]
    },
    {
      "cell_type": "code",
      "metadata": {
        "id": "fahlHFLUHBd7"
      },
      "source": [
        "mpl.rcParams[\"image.cmap\"] = \"gray\""
      ],
      "execution_count": 3,
      "outputs": []
    },
    {
      "cell_type": "code",
      "metadata": {
        "id": "qdVUvephH2uW"
      },
      "source": [
        "x_train,y_train,x_valid,y_valid = get_data()"
      ],
      "execution_count": 4,
      "outputs": []
    },
    {
      "cell_type": "code",
      "metadata": {
        "id": "Wl0_EAssH-NY"
      },
      "source": [
        "n,m = x_train.shape\r\n",
        "c = y_train.max() + 1\r\n",
        "nh = 50"
      ],
      "execution_count": 5,
      "outputs": []
    },
    {
      "cell_type": "code",
      "metadata": {
        "id": "UIgLnIE-KC7g"
      },
      "source": [
        "class Model(nn.Module):\r\n",
        "  def __init__(self, n_in, nh, n_out):\r\n",
        "    super().__init__()\r\n",
        "    self.layers = [nn.Linear(n_in, nh), nn.ReLU(), nn.Linear(nh, n_out)]\r\n",
        "  def __call__(self, x):\r\n",
        "    for l in self.layers: x = l(x)\r\n",
        "    return x"
      ],
      "execution_count": 6,
      "outputs": []
    },
    {
      "cell_type": "code",
      "metadata": {
        "id": "bzHIeW3jKBEp"
      },
      "source": [
        "model = Model(m,nh,10)"
      ],
      "execution_count": 7,
      "outputs": []
    },
    {
      "cell_type": "code",
      "metadata": {
        "id": "B97rKgbfLVcE"
      },
      "source": [
        "pred = model(x_train)"
      ],
      "execution_count": 8,
      "outputs": []
    },
    {
      "cell_type": "markdown",
      "metadata": {
        "id": "fDF90vdNLaVg"
      },
      "source": [
        "**Cross Entropy Loss**"
      ]
    },
    {
      "cell_type": "code",
      "metadata": {
        "id": "d_6hGKfjLdyv"
      },
      "source": [
        "def log_softmax(x): return (x.exp()/(x.exp().sum(-1,keepdim=True))).log()"
      ],
      "execution_count": 9,
      "outputs": []
    },
    {
      "cell_type": "code",
      "metadata": {
        "colab": {
          "base_uri": "https://localhost:8080/"
        },
        "id": "P9996arfMNro",
        "outputId": "5fc05bda-ae27-4968-f2f2-e7efb20959fb"
      },
      "source": [
        "sm_pred = log_softmax(pred)\r\n",
        "sm_pred"
      ],
      "execution_count": 10,
      "outputs": [
        {
          "output_type": "execute_result",
          "data": {
            "text/plain": [
              "tensor([[-2.4403, -2.2687, -2.4579,  ..., -2.2915, -2.2691, -2.1631],\n",
              "        [-2.5275, -2.1769, -2.5339,  ..., -2.2442, -2.2007, -2.1862],\n",
              "        [-2.4590, -2.1608, -2.5786,  ..., -2.2376, -2.3488, -2.1445],\n",
              "        ...,\n",
              "        [-2.3291, -2.2014, -2.5414,  ..., -2.2543, -2.3528, -2.2668],\n",
              "        [-2.3701, -2.2436, -2.4680,  ..., -2.1812, -2.4084, -2.1773],\n",
              "        [-2.3718, -2.2003, -2.4877,  ..., -2.2174, -2.2975, -2.2244]],\n",
              "       grad_fn=<LogBackward>)"
            ]
          },
          "metadata": {
            "tags": []
          },
          "execution_count": 10
        }
      ]
    },
    {
      "cell_type": "code",
      "metadata": {
        "colab": {
          "base_uri": "https://localhost:8080/"
        },
        "id": "wV_bZSeHMVvS",
        "outputId": "bd52d9cf-ae18-4400-bc4f-573547589a43"
      },
      "source": [
        "y_train[:3]"
      ],
      "execution_count": 11,
      "outputs": [
        {
          "output_type": "execute_result",
          "data": {
            "text/plain": [
              "tensor([5, 0, 4])"
            ]
          },
          "metadata": {
            "tags": []
          },
          "execution_count": 11
        }
      ]
    },
    {
      "cell_type": "code",
      "metadata": {
        "colab": {
          "base_uri": "https://localhost:8080/"
        },
        "id": "9E-Dz_bpM6D8",
        "outputId": "ea275f1b-bc54-498e-9dcd-489570dc94ab"
      },
      "source": [
        "sm_pred[[0,1,2], [5,0,4]]"
      ],
      "execution_count": 12,
      "outputs": [
        {
          "output_type": "execute_result",
          "data": {
            "text/plain": [
              "tensor([-2.3291, -2.5275, -2.4069], grad_fn=<IndexBackward>)"
            ]
          },
          "metadata": {
            "tags": []
          },
          "execution_count": 12
        }
      ]
    },
    {
      "cell_type": "code",
      "metadata": {
        "colab": {
          "base_uri": "https://localhost:8080/"
        },
        "id": "AVkndZUBNCCp",
        "outputId": "2f189528-c0f9-4787-9ea7-ddf762f21f8b"
      },
      "source": [
        "x_train.shape[0]"
      ],
      "execution_count": 13,
      "outputs": [
        {
          "output_type": "execute_result",
          "data": {
            "text/plain": [
              "50000"
            ]
          },
          "metadata": {
            "tags": []
          },
          "execution_count": 13
        }
      ]
    },
    {
      "cell_type": "code",
      "metadata": {
        "id": "ty8PZqA8NECW"
      },
      "source": [
        "def nll(input, target): return -input[range(target.shape[0]), target].mean()"
      ],
      "execution_count": 14,
      "outputs": []
    },
    {
      "cell_type": "code",
      "metadata": {
        "id": "4j2WAvuzNWm0"
      },
      "source": [
        "loss = nll(sm_pred, y_train)"
      ],
      "execution_count": 15,
      "outputs": []
    },
    {
      "cell_type": "code",
      "metadata": {
        "colab": {
          "base_uri": "https://localhost:8080/"
        },
        "id": "xWurukrdOfvT",
        "outputId": "64109869-46f9-4666-f666-437d5fb55c13"
      },
      "source": [
        "loss"
      ],
      "execution_count": 16,
      "outputs": [
        {
          "output_type": "execute_result",
          "data": {
            "text/plain": [
              "tensor(2.3154, grad_fn=<NegBackward>)"
            ]
          },
          "metadata": {
            "tags": []
          },
          "execution_count": 16
        }
      ]
    },
    {
      "cell_type": "code",
      "metadata": {
        "id": "DgOZ-KvkOlV0"
      },
      "source": [
        "def log_softmax(x): return x - x.exp().sum(-1,keepdim=True).log()"
      ],
      "execution_count": 17,
      "outputs": []
    },
    {
      "cell_type": "code",
      "metadata": {
        "id": "-jjfdGD_OxVO"
      },
      "source": [
        "test_near(nll(log_softmax(pred), y_train), loss)"
      ],
      "execution_count": 18,
      "outputs": []
    },
    {
      "cell_type": "code",
      "metadata": {
        "id": "jRG8RTwfPLdQ"
      },
      "source": [
        "def logsumexp(x):\r\n",
        "  m = x.max(-1)[0]\r\n",
        "  return m + (x-m[:,None]).exp().sum(-1).log()"
      ],
      "execution_count": 19,
      "outputs": []
    },
    {
      "cell_type": "code",
      "metadata": {
        "id": "MsM1rxqjQSFx"
      },
      "source": [
        "test_near(logsumexp(pred), pred.logsumexp(-1))"
      ],
      "execution_count": 20,
      "outputs": []
    },
    {
      "cell_type": "code",
      "metadata": {
        "id": "__9G1NYwQZxo"
      },
      "source": [
        "def log_softmax(x): return x - x.logsumexp(-1, keepdim = True)"
      ],
      "execution_count": 21,
      "outputs": []
    },
    {
      "cell_type": "code",
      "metadata": {
        "id": "-HqkacsSQuvP"
      },
      "source": [
        "test_near(nll(log_softmax(pred),y_train), loss)"
      ],
      "execution_count": 22,
      "outputs": []
    },
    {
      "cell_type": "code",
      "metadata": {
        "id": "Omz4jwC6Rch4"
      },
      "source": [
        "test_near(F.nll_loss(F.log_softmax(pred,-1), y_train), loss)"
      ],
      "execution_count": 23,
      "outputs": []
    },
    {
      "cell_type": "code",
      "metadata": {
        "id": "jP-MGrAOSvSV"
      },
      "source": [
        "test_near(F.cross_entropy(pred, y_train), loss)"
      ],
      "execution_count": 24,
      "outputs": []
    },
    {
      "cell_type": "code",
      "metadata": {
        "id": "Yw67yIC8S3qG"
      },
      "source": [
        ""
      ],
      "execution_count": 24,
      "outputs": []
    },
    {
      "cell_type": "markdown",
      "metadata": {
        "id": "T0vUyo7LZf46"
      },
      "source": [
        "BASIC TRAINING LOOP"
      ]
    },
    {
      "cell_type": "code",
      "metadata": {
        "id": "3yeLGKwOZnGL"
      },
      "source": [
        "loss_func = F.cross_entropy"
      ],
      "execution_count": 25,
      "outputs": []
    },
    {
      "cell_type": "code",
      "metadata": {
        "id": "q3RT9ne_aif6"
      },
      "source": [
        "#export\r\n",
        "\r\n",
        "def accuracy(out, yb): return (torch.argmax(out, dim = 1) == yb).float().mean()"
      ],
      "execution_count": 26,
      "outputs": []
    },
    {
      "cell_type": "code",
      "metadata": {
        "colab": {
          "base_uri": "https://localhost:8080/"
        },
        "id": "dzv3PBvzb2S6",
        "outputId": "dd944b3f-2a80-4834-ed33-d31ace213942"
      },
      "source": [
        "bs = 64\r\n",
        "xb = x_train[0:bs]\r\n",
        "preds = model(xb)\r\n",
        "preds[0]"
      ],
      "execution_count": 27,
      "outputs": [
        {
          "output_type": "execute_result",
          "data": {
            "text/plain": [
              "tensor([-0.1215,  0.0501, -0.1391,  0.0534, -0.0880, -0.0103,  0.1386,  0.0273,\n",
              "         0.0497,  0.1557], grad_fn=<SelectBackward>)"
            ]
          },
          "metadata": {
            "tags": []
          },
          "execution_count": 27
        }
      ]
    },
    {
      "cell_type": "code",
      "metadata": {
        "colab": {
          "base_uri": "https://localhost:8080/"
        },
        "id": "E9dNP0q7cIsu",
        "outputId": "76122030-bf5f-4565-ffb0-332bae30c156"
      },
      "source": [
        "yb = y_train[0:bs]\r\n",
        "loss_func(preds, yb)"
      ],
      "execution_count": 28,
      "outputs": [
        {
          "output_type": "execute_result",
          "data": {
            "text/plain": [
              "tensor(2.3150, grad_fn=<NllLossBackward>)"
            ]
          },
          "metadata": {
            "tags": []
          },
          "execution_count": 28
        }
      ]
    },
    {
      "cell_type": "code",
      "metadata": {
        "colab": {
          "base_uri": "https://localhost:8080/"
        },
        "id": "ShOQ7LljcWvC",
        "outputId": "f85acf9e-6ab6-4c9c-89ba-a3a6b22f0bc6"
      },
      "source": [
        "accuracy(preds, yb)"
      ],
      "execution_count": 29,
      "outputs": [
        {
          "output_type": "execute_result",
          "data": {
            "text/plain": [
              "tensor(0.1719)"
            ]
          },
          "metadata": {
            "tags": []
          },
          "execution_count": 29
        }
      ]
    },
    {
      "cell_type": "code",
      "metadata": {
        "id": "TUx7OJMbcbMt"
      },
      "source": [
        "lr = 0.5\r\n",
        "epochs = 1"
      ],
      "execution_count": 30,
      "outputs": []
    },
    {
      "cell_type": "code",
      "metadata": {
        "id": "WUVO0CZoci8w"
      },
      "source": [
        "for epoch in range(epochs):\r\n",
        "  for i in range((n-1)//bs + 1):\r\n",
        "    start_i = i*bs\r\n",
        "    end_i = start_i*bs\r\n",
        "\r\n",
        "    xb = x_train[start_i:end_i]\r\n",
        "    yb = y_train[start_i:end_i]\r\n",
        "\r\n",
        "    loss = loss_func(model(xb), yb)\r\n",
        "\r\n",
        "    loss.backward()\r\n",
        "    with torch.no_grad():\r\n",
        "      for l in model.layers:\r\n",
        "        if hasattr(l, \"weight\"):\r\n",
        "          l.weight -= l.weight.grad * lr\r\n",
        "          l.bias -= l.bias.grad * lr\r\n",
        "\r\n",
        "          l.weight.grad.zero_()\r\n",
        "          l.bias.grad.zero_()"
      ],
      "execution_count": 31,
      "outputs": []
    },
    {
      "cell_type": "code",
      "metadata": {
        "colab": {
          "base_uri": "https://localhost:8080/"
        },
        "id": "jdU0GJcrebOS",
        "outputId": "d197215a-41a8-4c32-8e2f-0fa0c4f3b0ea"
      },
      "source": [
        "loss_func(model(xb), yb), accuracy(model(xb), yb)"
      ],
      "execution_count": 32,
      "outputs": [
        {
          "output_type": "execute_result",
          "data": {
            "text/plain": [
              "(tensor(0.0064, grad_fn=<NllLossBackward>), tensor(1.))"
            ]
          },
          "metadata": {
            "tags": []
          },
          "execution_count": 32
        }
      ]
    },
    {
      "cell_type": "markdown",
      "metadata": {
        "id": "eCF1_n1HeyDk"
      },
      "source": [
        "**UNSING PARAMEMTERS AND OPTIM**"
      ]
    },
    {
      "cell_type": "markdown",
      "metadata": {
        "id": "DoBJ2f91e33E"
      },
      "source": [
        "Parameters"
      ]
    },
    {
      "cell_type": "code",
      "metadata": {
        "id": "BcYJUxrJexUR"
      },
      "source": [
        "class Model(nn.Module):\r\n",
        "  def __init__(self, n_in, nh, n_out):\r\n",
        "    super().__init__()\r\n",
        "    self.l1 = nn.Linear(n_in, nh)\r\n",
        "    self.l2 = nn.Linear(nh, n_out)\r\n",
        "    self.Relu = nn.ReLU()\r\n",
        "\r\n",
        "  def __call__(self, x): return self.l2( self.Relu( self.l1(x) ) )"
      ],
      "execution_count": 68,
      "outputs": []
    },
    {
      "cell_type": "code",
      "metadata": {
        "id": "iVIQtAlRktkS"
      },
      "source": [
        "model = Model(m, nh, 10)"
      ],
      "execution_count": 69,
      "outputs": []
    },
    {
      "cell_type": "code",
      "metadata": {
        "colab": {
          "base_uri": "https://localhost:8080/"
        },
        "id": "nvgECSpfk1Li",
        "outputId": "9d888565-bbbd-41c9-f9b5-69f2e371a336"
      },
      "source": [
        "for name,l in model.named_children(): print(f\"{name}: {l}\")"
      ],
      "execution_count": 70,
      "outputs": [
        {
          "output_type": "stream",
          "text": [
            "l1: Linear(in_features=784, out_features=50, bias=True)\n",
            "l2: Linear(in_features=50, out_features=10, bias=True)\n",
            "Relu: ReLU()\n"
          ],
          "name": "stdout"
        }
      ]
    },
    {
      "cell_type": "code",
      "metadata": {
        "colab": {
          "base_uri": "https://localhost:8080/"
        },
        "id": "r0hy_OMJk-tA",
        "outputId": "995efa1b-75e7-47a3-a890-9df4da9f9690"
      },
      "source": [
        "model"
      ],
      "execution_count": 71,
      "outputs": [
        {
          "output_type": "execute_result",
          "data": {
            "text/plain": [
              "Model(\n",
              "  (l1): Linear(in_features=784, out_features=50, bias=True)\n",
              "  (l2): Linear(in_features=50, out_features=10, bias=True)\n",
              "  (Relu): ReLU()\n",
              ")"
            ]
          },
          "metadata": {
            "tags": []
          },
          "execution_count": 71
        }
      ]
    },
    {
      "cell_type": "code",
      "metadata": {
        "colab": {
          "base_uri": "https://localhost:8080/"
        },
        "id": "BCvPexh1lOL5",
        "outputId": "41f7508f-b7dd-4b41-d893-6da37f508fef"
      },
      "source": [
        "model.l1"
      ],
      "execution_count": 72,
      "outputs": [
        {
          "output_type": "execute_result",
          "data": {
            "text/plain": [
              "Linear(in_features=784, out_features=50, bias=True)"
            ]
          },
          "metadata": {
            "tags": []
          },
          "execution_count": 72
        }
      ]
    },
    {
      "cell_type": "code",
      "metadata": {
        "id": "WELMGyZ9lPd1"
      },
      "source": [
        "def fit():\r\n",
        "  for epoch in range(epochs):\r\n",
        "    for i in range((n-1)//bs + 1):\r\n",
        "      start_i = i*bs\r\n",
        "      end_i  = start_i+bs\r\n",
        "\r\n",
        "      xb = x_train[start_i:end_i]\r\n",
        "      yb = y_train[start_i:end_i]\r\n",
        "\r\n",
        "      loss = loss_func(model(xb), yb)\r\n",
        "\r\n",
        "      loss.backward()\r\n",
        "      with torch.no_grad():\r\n",
        "        for p in model.parameters(): p -= p.grad * lr\r\n",
        "        model.zero_grad()"
      ],
      "execution_count": 73,
      "outputs": []
    },
    {
      "cell_type": "code",
      "metadata": {
        "id": "ebfViAsznBuQ"
      },
      "source": [
        "#model??"
      ],
      "execution_count": 74,
      "outputs": []
    },
    {
      "cell_type": "code",
      "metadata": {
        "colab": {
          "base_uri": "https://localhost:8080/"
        },
        "id": "Jx_GDJdgvzwJ",
        "outputId": "f886f7a7-3501-43e1-a188-a875d046aba1"
      },
      "source": [
        "fit()\r\n",
        "loss_func(model(xb), yb), accuracy(model(xb), yb)"
      ],
      "execution_count": 75,
      "outputs": [
        {
          "output_type": "execute_result",
          "data": {
            "text/plain": [
              "(tensor(0.3764, grad_fn=<NllLossBackward>), tensor(0.8750))"
            ]
          },
          "metadata": {
            "tags": []
          },
          "execution_count": 75
        }
      ]
    },
    {
      "cell_type": "code",
      "metadata": {
        "id": "8H2W4xu0xXr-"
      },
      "source": [
        ""
      ],
      "execution_count": 75,
      "outputs": []
    }
  ]
}