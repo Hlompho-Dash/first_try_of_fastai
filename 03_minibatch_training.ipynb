{
  "nbformat": 4,
  "nbformat_minor": 0,
  "metadata": {
    "colab": {
      "name": "03_minibatch_training.ipynb",
      "provenance": [],
      "collapsed_sections": [],
      "authorship_tag": "ABX9TyMnQPMTr9ErencVyVDgqrli",
      "include_colab_link": true
    },
    "kernelspec": {
      "name": "python3",
      "display_name": "Python 3"
    }
  },
  "cells": [
    {
      "cell_type": "markdown",
      "metadata": {
        "id": "view-in-github",
        "colab_type": "text"
      },
      "source": [
        "<a href=\"https://colab.research.google.com/github/Hlompho-Dash/first_try_of_fastai/blob/master/03_minibatch_training.ipynb\" target=\"_parent\"><img src=\"https://colab.research.google.com/assets/colab-badge.svg\" alt=\"Open In Colab\"/></a>"
      ]
    },
    {
      "cell_type": "code",
      "metadata": {
        "colab": {
          "base_uri": "https://localhost:8080/"
        },
        "id": "frD3yyh2EZ-w",
        "outputId": "c0e4b21b-482d-43eb-9c02-88672b74e913"
      },
      "source": [
        "import os\r\n",
        "\r\n",
        "from google.colab import drive\r\n",
        "drive.mount('/content/gdrive')\r\n",
        "\r\n",
        "os.chdir('/content/gdrive/MyDrive/first_try_of_fastai')\r\n",
        "\r\n",
        "print(\"------------------------------------------------------------------\")"
      ],
      "execution_count": 1,
      "outputs": [
        {
          "output_type": "stream",
          "text": [
            "Mounted at /content/gdrive\n",
            "------------------------------------------------------------------\n"
          ],
          "name": "stdout"
        }
      ]
    },
    {
      "cell_type": "code",
      "metadata": {
        "id": "ECzr17vHEmMT"
      },
      "source": [
        "#export\r\n",
        "os.chdir('/content/gdrive/MyDrive/first_try_of_fastai/exp')\r\n",
        "from nb_02 import *\r\n",
        "import torch.nn.functional as F\r\n",
        "os.chdir('/content/gdrive/MyDrive/first_try_of_fastai')"
      ],
      "execution_count": 2,
      "outputs": []
    },
    {
      "cell_type": "markdown",
      "metadata": {
        "id": "3y8oFCpBOUgs"
      },
      "source": [
        "**Data**"
      ]
    },
    {
      "cell_type": "code",
      "metadata": {
        "id": "fahlHFLUHBd7"
      },
      "source": [
        "mpl.rcParams[\"image.cmap\"] = \"gray\""
      ],
      "execution_count": 3,
      "outputs": []
    },
    {
      "cell_type": "code",
      "metadata": {
        "id": "qdVUvephH2uW"
      },
      "source": [
        "x_train,y_train,x_valid,y_valid = get_data()"
      ],
      "execution_count": 4,
      "outputs": []
    },
    {
      "cell_type": "code",
      "metadata": {
        "id": "Wl0_EAssH-NY"
      },
      "source": [
        "n,m = x_train.shape\r\n",
        "c = y_train.max() + 1\r\n",
        "nh = 50"
      ],
      "execution_count": 5,
      "outputs": []
    },
    {
      "cell_type": "code",
      "metadata": {
        "id": "UIgLnIE-KC7g"
      },
      "source": [
        "class Model(nn.Module):\r\n",
        "  def __init__(self, n_in, nh, n_out):\r\n",
        "    super().__init__()\r\n",
        "    self.layers = [nn.Linear(n_in, nh), nn.ReLU(), nn.Linear(nh, n_out)]\r\n",
        "  def __call__(self, x):\r\n",
        "    for l in self.layers: x = l(x)\r\n",
        "    return x"
      ],
      "execution_count": 6,
      "outputs": []
    },
    {
      "cell_type": "code",
      "metadata": {
        "id": "bzHIeW3jKBEp"
      },
      "source": [
        "model = Model(m,nh,10)"
      ],
      "execution_count": 7,
      "outputs": []
    },
    {
      "cell_type": "code",
      "metadata": {
        "id": "B97rKgbfLVcE"
      },
      "source": [
        "pred = model(x_train)"
      ],
      "execution_count": 8,
      "outputs": []
    },
    {
      "cell_type": "markdown",
      "metadata": {
        "id": "fDF90vdNLaVg"
      },
      "source": [
        "**Cross Entropy Loss**"
      ]
    },
    {
      "cell_type": "code",
      "metadata": {
        "id": "d_6hGKfjLdyv"
      },
      "source": [
        "def log_softmax(x): return (x.exp()/(x.exp().sum(-1,keepdim=True))).log()"
      ],
      "execution_count": 9,
      "outputs": []
    },
    {
      "cell_type": "code",
      "metadata": {
        "colab": {
          "base_uri": "https://localhost:8080/"
        },
        "id": "P9996arfMNro",
        "outputId": "e406a048-ffd9-4085-d1a1-96740c49c898"
      },
      "source": [
        "sm_pred = log_softmax(pred)\r\n",
        "sm_pred"
      ],
      "execution_count": 10,
      "outputs": [
        {
          "output_type": "execute_result",
          "data": {
            "text/plain": [
              "tensor([[-2.1896, -2.1818, -2.4688,  ..., -2.3367, -2.3489, -2.4194],\n",
              "        [-2.1593, -2.1334, -2.4527,  ..., -2.2968, -2.3451, -2.4922],\n",
              "        [-2.2029, -2.2128, -2.4475,  ..., -2.3056, -2.4772, -2.3658],\n",
              "        ...,\n",
              "        [-2.0947, -2.2595, -2.3665,  ..., -2.2886, -2.3943, -2.4326],\n",
              "        [-2.1733, -2.2265, -2.3859,  ..., -2.3406, -2.4591, -2.3484],\n",
              "        [-2.2495, -2.1912, -2.3205,  ..., -2.3447, -2.3751, -2.4142]],\n",
              "       grad_fn=<LogBackward>)"
            ]
          },
          "metadata": {
            "tags": []
          },
          "execution_count": 10
        }
      ]
    },
    {
      "cell_type": "code",
      "metadata": {
        "colab": {
          "base_uri": "https://localhost:8080/"
        },
        "id": "wV_bZSeHMVvS",
        "outputId": "79ecb166-e75c-459b-b934-0d3ad648fd1c"
      },
      "source": [
        "y_train[:3]"
      ],
      "execution_count": 11,
      "outputs": [
        {
          "output_type": "execute_result",
          "data": {
            "text/plain": [
              "tensor([5, 0, 4])"
            ]
          },
          "metadata": {
            "tags": []
          },
          "execution_count": 11
        }
      ]
    },
    {
      "cell_type": "code",
      "metadata": {
        "colab": {
          "base_uri": "https://localhost:8080/"
        },
        "id": "9E-Dz_bpM6D8",
        "outputId": "56d545a1-96ce-433e-eba0-edf7e9696515"
      },
      "source": [
        "sm_pred[[0,1,2], [5,0,4]]"
      ],
      "execution_count": 12,
      "outputs": [
        {
          "output_type": "execute_result",
          "data": {
            "text/plain": [
              "tensor([-2.2977, -2.1593, -2.3054], grad_fn=<IndexBackward>)"
            ]
          },
          "metadata": {
            "tags": []
          },
          "execution_count": 12
        }
      ]
    },
    {
      "cell_type": "code",
      "metadata": {
        "colab": {
          "base_uri": "https://localhost:8080/"
        },
        "id": "AVkndZUBNCCp",
        "outputId": "bfa0b2fc-e9ff-4ea0-e4ba-2ac33ad2301b"
      },
      "source": [
        "x_train.shape[0]"
      ],
      "execution_count": 13,
      "outputs": [
        {
          "output_type": "execute_result",
          "data": {
            "text/plain": [
              "50000"
            ]
          },
          "metadata": {
            "tags": []
          },
          "execution_count": 13
        }
      ]
    },
    {
      "cell_type": "code",
      "metadata": {
        "id": "ty8PZqA8NECW"
      },
      "source": [
        "def nll(input, target): return -input[range(target.shape[0]), target].mean()"
      ],
      "execution_count": 14,
      "outputs": []
    },
    {
      "cell_type": "code",
      "metadata": {
        "id": "4j2WAvuzNWm0"
      },
      "source": [
        "loss = nll(sm_pred, y_train)"
      ],
      "execution_count": 15,
      "outputs": []
    },
    {
      "cell_type": "code",
      "metadata": {
        "colab": {
          "base_uri": "https://localhost:8080/"
        },
        "id": "xWurukrdOfvT",
        "outputId": "8e994fdc-d08b-4ecd-9575-84abe4f942ec"
      },
      "source": [
        "loss"
      ],
      "execution_count": 16,
      "outputs": [
        {
          "output_type": "execute_result",
          "data": {
            "text/plain": [
              "tensor(2.3086, grad_fn=<NegBackward>)"
            ]
          },
          "metadata": {
            "tags": []
          },
          "execution_count": 16
        }
      ]
    },
    {
      "cell_type": "code",
      "metadata": {
        "id": "DgOZ-KvkOlV0"
      },
      "source": [
        "def log_softmax(x): return x - x.exp().sum(-1,keepdim=True).log()"
      ],
      "execution_count": 17,
      "outputs": []
    },
    {
      "cell_type": "code",
      "metadata": {
        "id": "-jjfdGD_OxVO"
      },
      "source": [
        "test_near(nll(log_softmax(pred), y_train), loss)"
      ],
      "execution_count": 18,
      "outputs": []
    },
    {
      "cell_type": "code",
      "metadata": {
        "id": "jRG8RTwfPLdQ"
      },
      "source": [
        "def logsumexp(x):\r\n",
        "  m = x.max(-1)[0]\r\n",
        "  return m + (x-m[:,None]).exp().sum(-1).log()"
      ],
      "execution_count": 19,
      "outputs": []
    },
    {
      "cell_type": "code",
      "metadata": {
        "id": "MsM1rxqjQSFx"
      },
      "source": [
        "test_near(logsumexp(pred), pred.logsumexp(-1))"
      ],
      "execution_count": 20,
      "outputs": []
    },
    {
      "cell_type": "code",
      "metadata": {
        "id": "__9G1NYwQZxo"
      },
      "source": [
        "def log_softmax(x): return x - x.logsumexp(-1, keepdim = True)"
      ],
      "execution_count": 21,
      "outputs": []
    },
    {
      "cell_type": "code",
      "metadata": {
        "id": "-HqkacsSQuvP"
      },
      "source": [
        "test_near(nll(log_softmax(pred),y_train), loss)"
      ],
      "execution_count": 22,
      "outputs": []
    },
    {
      "cell_type": "code",
      "metadata": {
        "id": "Omz4jwC6Rch4"
      },
      "source": [
        "test_near(F.nll_loss(F.log_softmax(pred,-1), y_train), loss)"
      ],
      "execution_count": 23,
      "outputs": []
    },
    {
      "cell_type": "code",
      "metadata": {
        "id": "jP-MGrAOSvSV"
      },
      "source": [
        "test_near(F.cross_entropy(pred, y_train), loss)"
      ],
      "execution_count": 24,
      "outputs": []
    },
    {
      "cell_type": "code",
      "metadata": {
        "id": "Yw67yIC8S3qG"
      },
      "source": [
        ""
      ],
      "execution_count": 24,
      "outputs": []
    },
    {
      "cell_type": "markdown",
      "metadata": {
        "id": "T0vUyo7LZf46"
      },
      "source": [
        "BASIC TRAINING LOOP"
      ]
    },
    {
      "cell_type": "code",
      "metadata": {
        "id": "3yeLGKwOZnGL"
      },
      "source": [
        "loss_func = F.cross_entropy"
      ],
      "execution_count": 25,
      "outputs": []
    },
    {
      "cell_type": "code",
      "metadata": {
        "id": "q3RT9ne_aif6"
      },
      "source": [
        "#export\r\n",
        "\r\n",
        "def accuracy(out, yb): return (torch.argmax(out, dim = 1) == yb).float().mean()"
      ],
      "execution_count": 26,
      "outputs": []
    },
    {
      "cell_type": "code",
      "metadata": {
        "colab": {
          "base_uri": "https://localhost:8080/"
        },
        "id": "dzv3PBvzb2S6",
        "outputId": "b35677e8-e2fa-4a87-a92a-c81443380a5d"
      },
      "source": [
        "bs = 64\r\n",
        "xb = x_train[0:bs]\r\n",
        "preds = model(xb)\r\n",
        "preds[0]"
      ],
      "execution_count": 27,
      "outputs": [
        {
          "output_type": "execute_result",
          "data": {
            "text/plain": [
              "tensor([ 0.0952,  0.1030, -0.1840, -0.0558,  0.0120, -0.0129,  0.0743, -0.0519,\n",
              "        -0.0641, -0.1346], grad_fn=<SelectBackward>)"
            ]
          },
          "metadata": {
            "tags": []
          },
          "execution_count": 27
        }
      ]
    },
    {
      "cell_type": "code",
      "metadata": {
        "colab": {
          "base_uri": "https://localhost:8080/"
        },
        "id": "E9dNP0q7cIsu",
        "outputId": "27e34075-b751-48e6-ca34-1045375f4207"
      },
      "source": [
        "yb = y_train[0:bs]\r\n",
        "loss_func(preds, yb)"
      ],
      "execution_count": 28,
      "outputs": [
        {
          "output_type": "execute_result",
          "data": {
            "text/plain": [
              "tensor(2.2985, grad_fn=<NllLossBackward>)"
            ]
          },
          "metadata": {
            "tags": []
          },
          "execution_count": 28
        }
      ]
    },
    {
      "cell_type": "code",
      "metadata": {
        "colab": {
          "base_uri": "https://localhost:8080/"
        },
        "id": "ShOQ7LljcWvC",
        "outputId": "e66a1638-0417-499b-83d2-995a631b1dbc"
      },
      "source": [
        "accuracy(preds, yb)"
      ],
      "execution_count": 29,
      "outputs": [
        {
          "output_type": "execute_result",
          "data": {
            "text/plain": [
              "tensor(0.0781)"
            ]
          },
          "metadata": {
            "tags": []
          },
          "execution_count": 29
        }
      ]
    },
    {
      "cell_type": "code",
      "metadata": {
        "id": "TUx7OJMbcbMt"
      },
      "source": [
        "lr = 0.5\r\n",
        "epochs = 1"
      ],
      "execution_count": 30,
      "outputs": []
    },
    {
      "cell_type": "code",
      "metadata": {
        "id": "WUVO0CZoci8w"
      },
      "source": [
        "for epoch in range(epochs):\r\n",
        "  for i in range((n-1)//bs + 1):\r\n",
        "    start_i = i*bs\r\n",
        "    end_i = start_i*bs\r\n",
        "\r\n",
        "    xb = x_train[start_i:end_i]\r\n",
        "    yb = y_train[start_i:end_i]\r\n",
        "\r\n",
        "    loss = loss_func(model(xb), yb)\r\n",
        "\r\n",
        "    loss.backward()\r\n",
        "    with torch.no_grad():\r\n",
        "      for l in model.layers:\r\n",
        "        if hasattr(l, \"weight\"):\r\n",
        "          l.weight -= l.weight.grad * lr\r\n",
        "          l.bias -= l.bias.grad * lr\r\n",
        "\r\n",
        "          l.weight.grad.zero_()\r\n",
        "          l.bias.grad.zero_()"
      ],
      "execution_count": 31,
      "outputs": []
    },
    {
      "cell_type": "code",
      "metadata": {
        "colab": {
          "base_uri": "https://localhost:8080/"
        },
        "id": "jdU0GJcrebOS",
        "outputId": "1dc3ebe8-fd11-4357-b3e1-ec41d4a41a62"
      },
      "source": [
        "loss_func(model(xb), yb), accuracy(model(xb), yb)"
      ],
      "execution_count": 32,
      "outputs": [
        {
          "output_type": "execute_result",
          "data": {
            "text/plain": [
              "(tensor(0.0069, grad_fn=<NllLossBackward>), tensor(1.))"
            ]
          },
          "metadata": {
            "tags": []
          },
          "execution_count": 32
        }
      ]
    },
    {
      "cell_type": "markdown",
      "metadata": {
        "id": "eCF1_n1HeyDk"
      },
      "source": [
        "**UNSING PARAMEMTERS AND OPTIM**"
      ]
    },
    {
      "cell_type": "markdown",
      "metadata": {
        "id": "DoBJ2f91e33E"
      },
      "source": [
        "Parameters"
      ]
    },
    {
      "cell_type": "code",
      "metadata": {
        "id": "BcYJUxrJexUR"
      },
      "source": [
        "class Model(nn.Module):\r\n",
        "  def __init__(self, n_in, nh, n_out):\r\n",
        "    super().__init__()\r\n",
        "    self.l1 = nn.Linear(n_in, nh)\r\n",
        "    self.l2 = nn.Linear(nh, n_out)\r\n",
        "    self.Relu = nn.ReLU()\r\n",
        "\r\n",
        "  def __call__(self, x): return self.l2( self.Relu( self.l1(x) ) )"
      ],
      "execution_count": 33,
      "outputs": []
    },
    {
      "cell_type": "code",
      "metadata": {
        "id": "iVIQtAlRktkS"
      },
      "source": [
        "model = Model(m, nh, 10)"
      ],
      "execution_count": 34,
      "outputs": []
    },
    {
      "cell_type": "code",
      "metadata": {
        "colab": {
          "base_uri": "https://localhost:8080/"
        },
        "id": "nvgECSpfk1Li",
        "outputId": "3d853c5a-7524-4fb3-df3c-a1b9241f5c67"
      },
      "source": [
        "for name,l in model.named_children(): print(f\"{name}: {l}\")"
      ],
      "execution_count": 35,
      "outputs": [
        {
          "output_type": "stream",
          "text": [
            "l1: Linear(in_features=784, out_features=50, bias=True)\n",
            "l2: Linear(in_features=50, out_features=10, bias=True)\n",
            "Relu: ReLU()\n"
          ],
          "name": "stdout"
        }
      ]
    },
    {
      "cell_type": "code",
      "metadata": {
        "colab": {
          "base_uri": "https://localhost:8080/"
        },
        "id": "r0hy_OMJk-tA",
        "outputId": "3c7a1669-cc48-43f4-edbe-559e9b56f864"
      },
      "source": [
        "model"
      ],
      "execution_count": 36,
      "outputs": [
        {
          "output_type": "execute_result",
          "data": {
            "text/plain": [
              "Model(\n",
              "  (l1): Linear(in_features=784, out_features=50, bias=True)\n",
              "  (l2): Linear(in_features=50, out_features=10, bias=True)\n",
              "  (Relu): ReLU()\n",
              ")"
            ]
          },
          "metadata": {
            "tags": []
          },
          "execution_count": 36
        }
      ]
    },
    {
      "cell_type": "code",
      "metadata": {
        "colab": {
          "base_uri": "https://localhost:8080/"
        },
        "id": "BCvPexh1lOL5",
        "outputId": "715d1ae9-ef94-4233-d5fa-0e00209aa3c9"
      },
      "source": [
        "model.l1"
      ],
      "execution_count": 37,
      "outputs": [
        {
          "output_type": "execute_result",
          "data": {
            "text/plain": [
              "Linear(in_features=784, out_features=50, bias=True)"
            ]
          },
          "metadata": {
            "tags": []
          },
          "execution_count": 37
        }
      ]
    },
    {
      "cell_type": "code",
      "metadata": {
        "id": "WELMGyZ9lPd1"
      },
      "source": [
        "def fit():\r\n",
        "  for epoch in range(epochs):\r\n",
        "    for i in range((n-1)//bs + 1):\r\n",
        "      start_i = i*bs\r\n",
        "      end_i  = start_i+bs\r\n",
        "\r\n",
        "      xb = x_train[start_i:end_i]\r\n",
        "      yb = y_train[start_i:end_i]\r\n",
        "\r\n",
        "      loss = loss_func(model(xb), yb)\r\n",
        "\r\n",
        "      loss.backward()\r\n",
        "      with torch.no_grad():\r\n",
        "        for p in model.parameters(): p -= p.grad * lr\r\n",
        "        model.zero_grad()"
      ],
      "execution_count": 38,
      "outputs": []
    },
    {
      "cell_type": "code",
      "metadata": {
        "id": "ebfViAsznBuQ"
      },
      "source": [
        "#model??"
      ],
      "execution_count": 39,
      "outputs": []
    },
    {
      "cell_type": "code",
      "metadata": {
        "colab": {
          "base_uri": "https://localhost:8080/"
        },
        "id": "Jx_GDJdgvzwJ",
        "outputId": "f35b9816-9350-4ce7-a611-3f7dba6c4400"
      },
      "source": [
        "fit()\r\n",
        "loss_func(model(xb), yb), accuracy(model(xb), yb)"
      ],
      "execution_count": 40,
      "outputs": [
        {
          "output_type": "execute_result",
          "data": {
            "text/plain": [
              "(tensor(0.1715, grad_fn=<NllLossBackward>), tensor(0.9375))"
            ]
          },
          "metadata": {
            "tags": []
          },
          "execution_count": 40
        }
      ]
    },
    {
      "cell_type": "markdown",
      "metadata": {
        "id": "FU3MGxWq2jNf"
      },
      "source": [
        "**nn.ModuleList**"
      ]
    },
    {
      "cell_type": "code",
      "metadata": {
        "id": "7GEL2mr73EoT"
      },
      "source": [
        "layers = [nn.Linear(m, nh),nn.ReLU(), nn.Linear(nh, 10)]"
      ],
      "execution_count": 41,
      "outputs": []
    },
    {
      "cell_type": "code",
      "metadata": {
        "id": "8H2W4xu0xXr-"
      },
      "source": [
        "class SequentialModel(nn.Module):\r\n",
        "  def __init__(self, layers):\r\n",
        "    super().__init__()\r\n",
        "    self.layers = nn.ModuleList(layers)\r\n",
        "\r\n",
        "  def __call__(self, x):\r\n",
        "    for l in self.layers: x = l(x)\r\n",
        "    return x"
      ],
      "execution_count": 42,
      "outputs": []
    },
    {
      "cell_type": "code",
      "metadata": {
        "id": "KOd0Ccrb3dot"
      },
      "source": [
        "model = SequentialModel(layers)"
      ],
      "execution_count": 43,
      "outputs": []
    },
    {
      "cell_type": "code",
      "metadata": {
        "colab": {
          "base_uri": "https://localhost:8080/"
        },
        "id": "dRWVDgnF3hWJ",
        "outputId": "6ea17a1c-8363-471e-b0c5-2d11d240c7ef"
      },
      "source": [
        "model"
      ],
      "execution_count": 44,
      "outputs": [
        {
          "output_type": "execute_result",
          "data": {
            "text/plain": [
              "SequentialModel(\n",
              "  (layers): ModuleList(\n",
              "    (0): Linear(in_features=784, out_features=50, bias=True)\n",
              "    (1): ReLU()\n",
              "    (2): Linear(in_features=50, out_features=10, bias=True)\n",
              "  )\n",
              ")"
            ]
          },
          "metadata": {
            "tags": []
          },
          "execution_count": 44
        }
      ]
    },
    {
      "cell_type": "markdown",
      "metadata": {
        "id": "F0BBYuCd3tPG"
      },
      "source": [
        "**nn.Sequential**"
      ]
    },
    {
      "cell_type": "code",
      "metadata": {
        "id": "SQPodQPo3h_Z"
      },
      "source": [
        "model = nn.Sequential(nn.Linear(m,nh), nn.ReLU(), nn.Linear(nh,10))"
      ],
      "execution_count": 45,
      "outputs": []
    },
    {
      "cell_type": "code",
      "metadata": {
        "colab": {
          "base_uri": "https://localhost:8080/"
        },
        "id": "jgXL7wwK39pE",
        "outputId": "d1c1008e-6247-4260-a7b8-7c524fa0a385"
      },
      "source": [
        "fit()\r\n",
        "loss_func(model(xb) , yb), accuracy(model(xb), yb)"
      ],
      "execution_count": 46,
      "outputs": [
        {
          "output_type": "execute_result",
          "data": {
            "text/plain": [
              "(tensor(0.1495, grad_fn=<NllLossBackward>), tensor(0.9375))"
            ]
          },
          "metadata": {
            "tags": []
          },
          "execution_count": 46
        }
      ]
    },
    {
      "cell_type": "code",
      "metadata": {
        "id": "pAioBalI4GD_"
      },
      "source": [
        "nn.Sequential??"
      ],
      "execution_count": 47,
      "outputs": []
    },
    {
      "cell_type": "code",
      "metadata": {
        "colab": {
          "base_uri": "https://localhost:8080/"
        },
        "id": "D1P28wTW4Jo4",
        "outputId": "5f1dd4bd-5cb0-4b48-c27a-f51310c6e315"
      },
      "source": [
        "model"
      ],
      "execution_count": 48,
      "outputs": [
        {
          "output_type": "execute_result",
          "data": {
            "text/plain": [
              "Sequential(\n",
              "  (0): Linear(in_features=784, out_features=50, bias=True)\n",
              "  (1): ReLU()\n",
              "  (2): Linear(in_features=50, out_features=10, bias=True)\n",
              ")"
            ]
          },
          "metadata": {
            "tags": []
          },
          "execution_count": 48
        }
      ]
    },
    {
      "cell_type": "markdown",
      "metadata": {
        "id": "xwC78h884gAN"
      },
      "source": [
        "**OPtim**"
      ]
    },
    {
      "cell_type": "code",
      "metadata": {
        "id": "5J3F-lpM4QxI"
      },
      "source": [
        "class Optimizer():\r\n",
        "  def __init__(self, params, lr = 0.5):\r\n",
        "    self.params, self.lr = list(params), lr\r\n",
        "  \r\n",
        "  def step(self):\r\n",
        "    with torch.no_grad():\r\n",
        "      for p in self.params: p -= p.grad * lr\r\n",
        "\r\n",
        "  def zero_grad(self):\r\n",
        "    for p in self.params: p.grad.data.zero_()"
      ],
      "execution_count": 49,
      "outputs": []
    },
    {
      "cell_type": "code",
      "metadata": {
        "id": "LUtYqnEp5Eml"
      },
      "source": [
        "model = nn.Sequential(nn.Linear(m,nh), nn.ReLU(), nn.Linear(nh,10))"
      ],
      "execution_count": 50,
      "outputs": []
    },
    {
      "cell_type": "code",
      "metadata": {
        "id": "22snBK5q5NVE"
      },
      "source": [
        "opt = Optimizer(model.parameters())"
      ],
      "execution_count": 51,
      "outputs": []
    },
    {
      "cell_type": "code",
      "metadata": {
        "id": "mU8FRoQ15Zmz"
      },
      "source": [
        "for epoch in range(epochs):\r\n",
        "  for i in range((n-1)//bs + 1):\r\n",
        "    start_i = i*bs\r\n",
        "    end_i = start_i+bs\r\n",
        "\r\n",
        "    xb = x_train[start_i:end_i]\r\n",
        "    yb = y_train[start_i:end_i]\r\n",
        "\r\n",
        "    pred = model(xb)\r\n",
        "\r\n",
        "    loss = loss_func(pred, yb)\r\n",
        "\r\n",
        "    loss.backward()\r\n",
        "    opt.step()\r\n",
        "    opt.zero_grad()"
      ],
      "execution_count": 52,
      "outputs": []
    },
    {
      "cell_type": "code",
      "metadata": {
        "colab": {
          "base_uri": "https://localhost:8080/"
        },
        "id": "rN7Z3Ciq6CwA",
        "outputId": "79c04629-8561-4d0e-c6cb-527cc69c9f16"
      },
      "source": [
        "loss, acc = loss_func(model(xb), yb), accuracy(model(xb), yb)\r\n",
        "\r\n",
        "loss, acc"
      ],
      "execution_count": 53,
      "outputs": [
        {
          "output_type": "execute_result",
          "data": {
            "text/plain": [
              "(tensor(0.1123, grad_fn=<NllLossBackward>), tensor(0.9375))"
            ]
          },
          "metadata": {
            "tags": []
          },
          "execution_count": 53
        }
      ]
    },
    {
      "cell_type": "code",
      "metadata": {
        "id": "Pzqr9ryp6Luj"
      },
      "source": [
        "#export\r\n",
        "\r\n",
        "from torch import optim"
      ],
      "execution_count": 54,
      "outputs": []
    },
    {
      "cell_type": "code",
      "metadata": {
        "id": "dNm-dAfJ5VPZ"
      },
      "source": [
        "optim.SGD.step??"
      ],
      "execution_count": 55,
      "outputs": []
    },
    {
      "cell_type": "code",
      "metadata": {
        "id": "c-aXU6KI6iXN"
      },
      "source": [
        "def get_model():\r\n",
        "  model = nn.Sequential(nn.Linear(m,nh), nn.ReLU(), nn.Linear(nh,10))\r\n",
        "  return model, optim.SGD(model.parameters(), lr=lr)"
      ],
      "execution_count": 56,
      "outputs": []
    },
    {
      "cell_type": "code",
      "metadata": {
        "id": "dLVzTLSn6-n8"
      },
      "source": [
        "for epoch in range(epochs):\r\n",
        "  for i in range((n-1)//bs + 1):\r\n",
        "    start_i = i*bs\r\n",
        "    end_i = start_i +bs\r\n",
        "\r\n",
        "    xb = x_train[start_i:end_i]\r\n",
        "    yb = y_train[start_i:end_i]\r\n",
        "\r\n",
        "    loss = loss_func(model(xb),yb)\r\n",
        "\r\n",
        "    loss.backward()\r\n",
        "    opt.step()\r\n",
        "    opt.zero_grad()\r\n"
      ],
      "execution_count": 57,
      "outputs": []
    },
    {
      "cell_type": "code",
      "metadata": {
        "colab": {
          "base_uri": "https://localhost:8080/"
        },
        "id": "c5rB1ntY7sHu",
        "outputId": "cf16c092-7f66-4ec3-c881-b7957a8537e2"
      },
      "source": [
        "loss, acc = loss_func(model(xb), yb), accuracy(model(xb), yb)\r\n",
        "\r\n",
        "loss, acc"
      ],
      "execution_count": 58,
      "outputs": [
        {
          "output_type": "execute_result",
          "data": {
            "text/plain": [
              "(tensor(0.0443, grad_fn=<NllLossBackward>), tensor(1.))"
            ]
          },
          "metadata": {
            "tags": []
          },
          "execution_count": 58
        }
      ]
    },
    {
      "cell_type": "code",
      "metadata": {
        "id": "Pyc0ZSk670WI"
      },
      "source": [
        "assert acc >0.7"
      ],
      "execution_count": 59,
      "outputs": []
    },
    {
      "cell_type": "markdown",
      "metadata": {
        "id": "eqL4fuzw8Hwe"
      },
      "source": [
        "**DATASET AND DATALOADER**"
      ]
    },
    {
      "cell_type": "code",
      "metadata": {
        "id": "Oot522sW8ibF"
      },
      "source": [
        "class Dataset():\r\n",
        "  def __init__(self, x, y): self.x,self.y = x,y\r\n",
        "  def __len__(self): return len(self.x)\r\n",
        "  def __getitem__(self, i): return self.x[i], self.y[i]"
      ],
      "execution_count": 60,
      "outputs": []
    },
    {
      "cell_type": "code",
      "metadata": {
        "id": "zQI3ugHD9Cdn"
      },
      "source": [
        "train_ds,valid_ds = Dataset(x_train, y_train), Dataset(x_valid, y_valid)\r\n",
        "\r\n",
        "assert(len(train_ds) == len(x_train))\r\n",
        "assert(len(valid_ds) == len(x_valid))"
      ],
      "execution_count": 61,
      "outputs": []
    },
    {
      "cell_type": "code",
      "metadata": {
        "colab": {
          "base_uri": "https://localhost:8080/"
        },
        "id": "pC8pmiW29e_6",
        "outputId": "2a8b3a18-1ea9-4f33-d29a-5b17b1e65e0b"
      },
      "source": [
        "xb,yb = train_ds[0:5]\r\n",
        "\r\n",
        "assert xb.shape == (5, 28*28)\r\n",
        "assert yb.shape == (5, )\r\n",
        "\r\n",
        "xb,yb"
      ],
      "execution_count": 62,
      "outputs": [
        {
          "output_type": "execute_result",
          "data": {
            "text/plain": [
              "(tensor([[0., 0., 0.,  ..., 0., 0., 0.],\n",
              "         [0., 0., 0.,  ..., 0., 0., 0.],\n",
              "         [0., 0., 0.,  ..., 0., 0., 0.],\n",
              "         [0., 0., 0.,  ..., 0., 0., 0.],\n",
              "         [0., 0., 0.,  ..., 0., 0., 0.]]), tensor([5, 0, 4, 1, 9]))"
            ]
          },
          "metadata": {
            "tags": []
          },
          "execution_count": 62
        }
      ]
    },
    {
      "cell_type": "code",
      "metadata": {
        "id": "QL1ddWaYBfLV"
      },
      "source": [
        "model,opt = get_model()"
      ],
      "execution_count": 63,
      "outputs": []
    },
    {
      "cell_type": "code",
      "metadata": {
        "id": "lw_RxcMNBkZe"
      },
      "source": [
        "for epoch in range(epochs):\r\n",
        "  for i in range((n-1)//bs +1):\r\n",
        "    xb,yb = train_ds[i*bs: i*bs+bs]\r\n",
        "\r\n",
        "    pred = model(xb)\r\n",
        "    loss = loss_func(model(xb),yb)\r\n",
        "    loss.backward()\r\n",
        "\r\n",
        "    opt.step()\r\n",
        "    opt.zero_grad()"
      ],
      "execution_count": 64,
      "outputs": []
    },
    {
      "cell_type": "code",
      "metadata": {
        "colab": {
          "base_uri": "https://localhost:8080/"
        },
        "id": "YTb_9SJSCDWB",
        "outputId": "85734285-3380-4f6c-af8f-37e605122a42"
      },
      "source": [
        "loss, acc = loss_func(model(xb), yb), accuracy(model(xb),yb)\r\n",
        "\r\n",
        "loss, acc"
      ],
      "execution_count": 65,
      "outputs": [
        {
          "output_type": "execute_result",
          "data": {
            "text/plain": [
              "(tensor(0.1355, grad_fn=<NllLossBackward>), tensor(0.9375))"
            ]
          },
          "metadata": {
            "tags": []
          },
          "execution_count": 65
        }
      ]
    },
    {
      "cell_type": "code",
      "metadata": {
        "id": "YcjLZrSSC4tg"
      },
      "source": [
        "class DataLoader():\r\n",
        "  def __init__(self, ds, bs): self.ds,self.bs = ds,bs\r\n",
        "\r\n",
        "  def __iter__(self):\r\n",
        "    for i in range(0, len(self.ds), self.bs): yield self.ds[i:i+self.bs]"
      ],
      "execution_count": 66,
      "outputs": []
    },
    {
      "cell_type": "code",
      "metadata": {
        "id": "6jJVr4EwEg1B"
      },
      "source": [
        "train_dl = DataLoader(train_ds, bs)\r\n",
        "valid_dl = DataLoader(valid_ds, bs)"
      ],
      "execution_count": 67,
      "outputs": []
    },
    {
      "cell_type": "code",
      "metadata": {
        "id": "2DIR303OEoyi"
      },
      "source": [
        "xb,yb = next(iter(valid_dl))\r\n",
        "\r\n",
        "assert xb.shape == (bs, 28*28)\r\n",
        "assert yb.shape == (bs,)\r\n"
      ],
      "execution_count": 68,
      "outputs": []
    },
    {
      "cell_type": "code",
      "metadata": {
        "colab": {
          "base_uri": "https://localhost:8080/",
          "height": 282
        },
        "id": "C3menvMxFN_1",
        "outputId": "bb6c23bb-92da-49c4-ae5a-55fa020fdf06"
      },
      "source": [
        "plt.imshow(xb[0].view(28,28))\r\n",
        "yb[0]"
      ],
      "execution_count": 69,
      "outputs": [
        {
          "output_type": "execute_result",
          "data": {
            "text/plain": [
              "tensor(3)"
            ]
          },
          "metadata": {
            "tags": []
          },
          "execution_count": 69
        },
        {
          "output_type": "display_data",
          "data": {
            "image/png": "[encoded data removed]",
            "text/plain": [
              "<Figure size 432x288 with 1 Axes>"
            ]
          },
          "metadata": {
            "tags": [],
            "needs_background": "light"
          }
        }
      ]
    },
    {
      "cell_type": "code",
      "metadata": {
        "id": "g_xiF4ZRFZkb"
      },
      "source": [
        "model, opt = get_model()"
      ],
      "execution_count": 70,
      "outputs": []
    },
    {
      "cell_type": "code",
      "metadata": {
        "id": "ZU_3wTmbFePn"
      },
      "source": [
        "def fit():\r\n",
        "  for epoch in range(epochs):\r\n",
        "    for xb,yb in train_dl:\r\n",
        "\r\n",
        "      pred = model(xb)\r\n",
        "      loss = loss_func(pred, yb)\r\n",
        "      loss.backward()\r\n",
        "      opt.step()\r\n",
        "      opt.zero_grad()\r\n"
      ],
      "execution_count": 71,
      "outputs": []
    },
    {
      "cell_type": "code",
      "metadata": {
        "id": "nByL_MmCF6l4"
      },
      "source": [
        "fit()"
      ],
      "execution_count": 72,
      "outputs": []
    },
    {
      "cell_type": "code",
      "metadata": {
        "colab": {
          "base_uri": "https://localhost:8080/"
        },
        "id": "yU7ScrCnF2Yj",
        "outputId": "ace79beb-f034-412f-8f2d-4723b5f5d46d"
      },
      "source": [
        "loss,acc = loss_func(model(xb), yb), accuracy(model(xb),yb)\r\n",
        "\r\n",
        "loss,acc"
      ],
      "execution_count": 73,
      "outputs": [
        {
          "output_type": "execute_result",
          "data": {
            "text/plain": [
              "(tensor(0.0669, grad_fn=<NllLossBackward>), tensor(1.))"
            ]
          },
          "metadata": {
            "tags": []
          },
          "execution_count": 73
        }
      ]
    },
    {
      "cell_type": "markdown",
      "metadata": {
        "id": "LDW_o8BPHCCY"
      },
      "source": [
        "**RANDOM SAMPLING**"
      ]
    },
    {
      "cell_type": "code",
      "metadata": {
        "id": "otLU-AJsGDqX"
      },
      "source": [
        "class Sampler():\r\n",
        "  def __init__(self, ds,bs,shuffle=False):\r\n",
        "    self.n, self.bs,self.shuffle = len(ds),bs,shuffle\r\n",
        "\r\n",
        "  def __iter__(self):\r\n",
        "    self.idxs = torch.randperm(self.n) if self.shuffle else torch.arange(self.n)\r\n",
        "    for i in range(0, self.n, self.bs): yield self.idxs[i:i+self.bs]"
      ],
      "execution_count": 74,
      "outputs": []
    },
    {
      "cell_type": "code",
      "metadata": {
        "id": "3CeDeSplIEgO"
      },
      "source": [
        "small_ds = Dataset(*train_ds[:10])"
      ],
      "execution_count": 75,
      "outputs": []
    },
    {
      "cell_type": "code",
      "metadata": {
        "colab": {
          "base_uri": "https://localhost:8080/"
        },
        "id": "x6aT6ku8IJto",
        "outputId": "4945d104-bf27-4b65-f75c-061abff4503c"
      },
      "source": [
        "s = Sampler(small_ds,3,False)\r\n",
        "[it for it in s]"
      ],
      "execution_count": 76,
      "outputs": [
        {
          "output_type": "execute_result",
          "data": {
            "text/plain": [
              "[tensor([0, 1, 2]), tensor([3, 4, 5]), tensor([6, 7, 8]), tensor([9])]"
            ]
          },
          "metadata": {
            "tags": []
          },
          "execution_count": 76
        }
      ]
    },
    {
      "cell_type": "code",
      "metadata": {
        "colab": {
          "base_uri": "https://localhost:8080/"
        },
        "id": "xJZ4nvJ7IQmf",
        "outputId": "af283e06-26dd-470e-e40b-88136005b51d"
      },
      "source": [
        "s = Sampler(small_ds,3,True)\r\n",
        "[o for o in s]"
      ],
      "execution_count": 77,
      "outputs": [
        {
          "output_type": "execute_result",
          "data": {
            "text/plain": [
              "[tensor([8, 0, 6]), tensor([1, 4, 3]), tensor([9, 2, 5]), tensor([7])]"
            ]
          },
          "metadata": {
            "tags": []
          },
          "execution_count": 77
        }
      ]
    },
    {
      "cell_type": "code",
      "metadata": {
        "id": "Dywgp53qJFJt"
      },
      "source": [
        "def collate(b):\r\n",
        "  xs,ys = zip(*b)\r\n",
        "  return torch.stack(xs),torch.stack(ys)\r\n",
        "\r\n",
        "class DataLoader():\r\n",
        "  def __init__(self, ds, sampler, collate_fn = collate):\r\n",
        "    self.ds,self.sampler, self.collate_fn = ds,sampler,collate_fn\r\n",
        "\r\n",
        "  def __iter__(self):\r\n",
        "    for s in self.sampler: yield self.collate_fn([self.ds[i] for i in s])\r\n"
      ],
      "execution_count": 91,
      "outputs": []
    },
    {
      "cell_type": "code",
      "metadata": {
        "id": "Cvn8hPw63xDs"
      },
      "source": [
        "train_samp = Sampler(train_ds, bs, shuffle = True)\r\n",
        "valid_samp = Sampler(valid_ds, bs, shuffle = False)"
      ],
      "execution_count": 92,
      "outputs": []
    },
    {
      "cell_type": "code",
      "metadata": {
        "id": "Ob7ziiJv4isx"
      },
      "source": [
        "train_dl = DataLoader(train_ds, sampler = train_samp, collate_fn = collate)\r\n",
        "valid_dl = DataLoader(valid_ds, sampler = valid_samp, collate_fn = collate)"
      ],
      "execution_count": 93,
      "outputs": []
    },
    {
      "cell_type": "code",
      "metadata": {
        "colab": {
          "base_uri": "https://localhost:8080/",
          "height": 282
        },
        "id": "AX6J6U_44_63",
        "outputId": "ac6b7491-4b00-4185-e88a-8a039eafaf39"
      },
      "source": [
        "xb,yb = next(iter(valid_dl))\r\n",
        "plt.imshow(xb[0].view(28,28))\r\n",
        "yb[0]"
      ],
      "execution_count": 100,
      "outputs": [
        {
          "output_type": "execute_result",
          "data": {
            "text/plain": [
              "tensor(3)"
            ]
          },
          "metadata": {
            "tags": []
          },
          "execution_count": 100
        },
        {
          "output_type": "display_data",
          "data": {
            "image/png": "[encoded data removed]",
            "text/plain": [
              "<Figure size 432x288 with 1 Axes>"
            ]
          },
          "metadata": {
            "tags": [],
            "needs_background": "light"
          }
        }
      ]
    },
    {
      "cell_type": "code",
      "metadata": {
        "colab": {
          "base_uri": "https://localhost:8080/",
          "height": 282
        },
        "id": "iLZwaGtf6Yhi",
        "outputId": "a8b34045-6543-46a2-c2df-b96f939e8a0e"
      },
      "source": [
        "xb,yb = next(iter(train_dl))\r\n",
        "plt.imshow(xb[0].view(28,28))\r\n",
        "yb[0]"
      ],
      "execution_count": 103,
      "outputs": [
        {
          "output_type": "execute_result",
          "data": {
            "text/plain": [
              "tensor(9)"
            ]
          },
          "metadata": {
            "tags": []
          },
          "execution_count": 103
        },
        {
          "output_type": "display_data",
          "data": {
            "image/png": "[encoded data removed]",
            "text/plain": [
              "<Figure size 432x288 with 1 Axes>"
            ]
          },
          "metadata": {
            "tags": [],
            "needs_background": "light"
          }
        }
      ]
    },
    {
      "cell_type": "code",
      "metadata": {
        "colab": {
          "base_uri": "https://localhost:8080/"
        },
        "id": "F8-nHqGc5Kr8",
        "outputId": "ef877b97-43a6-49b1-9ec9-73bb4fd009f3"
      },
      "source": [
        "model,opt = get_model()\r\n",
        "fit()\r\n",
        "\r\n",
        "loss,acc = loss_func(model(xb),yb), accuracy(model(xb), yb)\r\n",
        "assert acc > 0.7\r\n",
        "\r\n",
        "loss,acc"
      ],
      "execution_count": 104,
      "outputs": [
        {
          "output_type": "execute_result",
          "data": {
            "text/plain": [
              "(tensor(0.2409, grad_fn=<NllLossBackward>), tensor(0.8906))"
            ]
          },
          "metadata": {
            "tags": []
          },
          "execution_count": 104
        }
      ]
    },
    {
      "cell_type": "code",
      "metadata": {
        "id": "bXIp7t9P6RbJ"
      },
      "source": [
        "#export\r\n",
        "\r\n",
        "from torch.utils.data import DataLoader, SequentialSampler, RandomSampler"
      ],
      "execution_count": 107,
      "outputs": []
    },
    {
      "cell_type": "code",
      "metadata": {
        "id": "5gyUzmbM6yXW"
      },
      "source": [
        "train_dl = DataLoader(train_ds, bs, sampler = RandomSampler(train_ds), collate_fn = collate)\r\n",
        "valid_dl = DataLoader(valid_ds, bs, sampler = SequentialSampler(valid_ds), collate_fn = collate)"
      ],
      "execution_count": 109,
      "outputs": []
    },
    {
      "cell_type": "code",
      "metadata": {
        "colab": {
          "base_uri": "https://localhost:8080/"
        },
        "id": "eacioFKD7xxg",
        "outputId": "d9726778-2a30-4dc6-f83c-ba17279984af"
      },
      "source": [
        "model, opt = get_model()\r\n",
        "fit()\r\n",
        "\r\n",
        "loss_func(model(xb),yb), accuracy(model(xb), yb)"
      ],
      "execution_count": 110,
      "outputs": [
        {
          "output_type": "execute_result",
          "data": {
            "text/plain": [
              "(tensor(0.1035, grad_fn=<NllLossBackward>), tensor(1.))"
            ]
          },
          "metadata": {
            "tags": []
          },
          "execution_count": 110
        }
      ]
    },
    {
      "cell_type": "code",
      "metadata": {
        "id": "ZvYmCpSd8Khc"
      },
      "source": [
        "train_dl = DataLoader(train_ds, bs,shuffle = True, drop_last=True)\r\n",
        "valid_dl = DataLoader(valid_ds, bs, shuffle = False)"
      ],
      "execution_count": 113,
      "outputs": []
    },
    {
      "cell_type": "code",
      "metadata": {
        "colab": {
          "base_uri": "https://localhost:8080/"
        },
        "id": "IrvDA5iO8l8n",
        "outputId": "6e9774d0-77b6-47cd-ccc6-cb7efa9a0927"
      },
      "source": [
        "model, opt = get_model()\r\n",
        "fit()\r\n",
        "\r\n",
        "loss_func(model(xb),yb), accuracy(model(xb), yb)"
      ],
      "execution_count": 114,
      "outputs": [
        {
          "output_type": "execute_result",
          "data": {
            "text/plain": [
              "(tensor(0.1237, grad_fn=<NllLossBackward>), tensor(0.9688))"
            ]
          },
          "metadata": {
            "tags": []
          },
          "execution_count": 114
        }
      ]
    },
    {
      "cell_type": "markdown",
      "metadata": {
        "id": "_EGxp7Tc89mk"
      },
      "source": [
        "**VALIDATION**"
      ]
    },
    {
      "cell_type": "code",
      "metadata": {
        "id": "IasrcfXP8mkj"
      },
      "source": [
        "def fit(epochs, model, loss_func, opt,train_dl,valid_dl):\r\n",
        "  for epoch in range(epochs):\r\n",
        "    model.train()\r\n",
        "    for xb,yb in train_dl:\r\n",
        "      loss = loss_func(model(xb), yb)\r\n",
        "      loss.backward()\r\n",
        "      opt.step()\r\n",
        "      opt.zero_grad()\r\n",
        "\r\n",
        "    model.eval()\r\n",
        "    with torch.no_grad():\r\n",
        "      tot_loss, tot_acc = 0.,0.\r\n",
        "      for xb,yb in valid_dl:\r\n",
        "        pred = model(xb)\r\n",
        "        tot_loss += loss_func(pred,yb)\r\n",
        "        tot_acc += accuracy(pred,yb)\r\n",
        "\r\n",
        "    nv = len(valid_dl)\r\n",
        "    print(epoch, tot_loss/nv, tot_acc/nv)\r\n",
        "  return tot_loss/nv, tot_acc/nv"
      ],
      "execution_count": 121,
      "outputs": []
    },
    {
      "cell_type": "code",
      "metadata": {
        "id": "bMISmjEl-geV"
      },
      "source": [
        "def get_dls(train_ds, valid_ds, bs, **kwargs):\r\n",
        "  return (DataLoader(train_ds, batch_size=bs,shuffle= True, **kwargs),\r\n",
        "          DataLoader(valid_ds, batch_size=bs*2, **kwargs))"
      ],
      "execution_count": 122,
      "outputs": []
    },
    {
      "cell_type": "code",
      "metadata": {
        "colab": {
          "base_uri": "https://localhost:8080/"
        },
        "id": "ACNxPJ7v_hzX",
        "outputId": "455d0ca5-bc3f-4e2f-f3c9-82d30dfad6f5"
      },
      "source": [
        "train_dl, valid_dl = get_dls(train_ds, valid_ds, bs)\r\n",
        "model, opt = get_model()\r\n",
        "\r\n",
        "loss,acc = fit(10, model, loss_func, opt, train_dl, valid_dl)"
      ],
      "execution_count": 123,
      "outputs": [
        {
          "output_type": "stream",
          "text": [
            "0 tensor(0.1701) tensor(0.9498)\n",
            "1 tensor(0.1353) tensor(0.9598)\n",
            "2 tensor(0.2005) tensor(0.9427)\n",
            "3 tensor(0.1159) tensor(0.9650)\n",
            "4 tensor(0.0929) tensor(0.9726)\n",
            "5 tensor(0.1579) tensor(0.9529)\n",
            "6 tensor(0.1001) tensor(0.9721)\n",
            "7 tensor(0.2572) tensor(0.9306)\n",
            "8 tensor(0.0975) tensor(0.9720)\n",
            "9 tensor(0.1139) tensor(0.9684)\n"
          ],
          "name": "stdout"
        }
      ]
    },
    {
      "cell_type": "code",
      "metadata": {
        "id": "dMTeudpq_0Bo"
      },
      "source": [
        "assert acc>0.9"
      ],
      "execution_count": 124,
      "outputs": []
    },
    {
      "cell_type": "code",
      "metadata": {
        "colab": {
          "base_uri": "https://localhost:8080/"
        },
        "id": "4YgpyKbTBE5x",
        "outputId": "a905c15d-2c91-43e6-d550-bada3955eccc"
      },
      "source": [
        "!pip install fire"
      ],
      "execution_count": 128,
      "outputs": [
        {
          "output_type": "stream",
          "text": [
            "Collecting fire\n",
            "\u001b[?25l  Downloading https://files.pythonhosted.org/packages/34/a7/0e22e70778aca01a52b9c899d9c145c6396d7b613719cd63db97ffa13f2f/fire-0.3.1.tar.gz (81kB)\n",
            "\r\u001b[K     |████                            | 10kB 14.5MB/s eta 0:00:01\r\u001b[K     |████████                        | 20kB 15.3MB/s eta 0:00:01\r\u001b[K     |████████████▏                   | 30kB 10.5MB/s eta 0:00:01\r\u001b[K     |████████████████▏               | 40kB 9.1MB/s eta 0:00:01\r\u001b[K     |████████████████████▏           | 51kB 5.1MB/s eta 0:00:01\r\u001b[K     |████████████████████████▎       | 61kB 5.7MB/s eta 0:00:01\r\u001b[K     |████████████████████████████▎   | 71kB 5.7MB/s eta 0:00:01\r\u001b[K     |████████████████████████████████| 81kB 3.7MB/s \n",
            "\u001b[?25hRequirement already satisfied: six in /usr/local/lib/python3.6/dist-packages (from fire) (1.15.0)\n",
            "Requirement already satisfied: termcolor in /usr/local/lib/python3.6/dist-packages (from fire) (1.1.0)\n",
            "Building wheels for collected packages: fire\n",
            "  Building wheel for fire (setup.py) ... \u001b[?25l\u001b[?25hdone\n",
            "  Created wheel for fire: filename=fire-0.3.1-py2.py3-none-any.whl size=111006 sha256=d7593b16fed6da24e6091d7ff0702ff9aa9235ad039ad801a2ff9977f8ce75dc\n",
            "  Stored in directory: /root/.cache/pip/wheels/c1/61/df/768b03527bf006b546dce284eb4249b185669e65afc5fbb2ac\n",
            "Successfully built fire\n",
            "Installing collected packages: fire\n",
            "Successfully installed fire-0.3.1\n"
          ],
          "name": "stdout"
        }
      ]
    },
    {
      "cell_type": "code",
      "metadata": {
        "colab": {
          "base_uri": "https://localhost:8080/"
        },
        "id": "TuxcBE4s_5c2",
        "outputId": "b02d2e6b-e586-4e14-d908-dbe270672ab9"
      },
      "source": [
        "!python notebook2script.py 03_minibatch_training.ipynb"
      ],
      "execution_count": 132,
      "outputs": [
        {
          "output_type": "stream",
          "text": [
            "Converted 03_minibatch_training.ipynb to exp/nb_03.py\n"
          ],
          "name": "stdout"
        }
      ]
    }
  ]
}